{
  "nbformat": 4,
  "nbformat_minor": 0,
  "metadata": {
    "colab": {
      "name": "CIFAR_10-CNN",
      "provenance": [],
      "collapsed_sections": []
    },
    "kernelspec": {
      "name": "python3",
      "display_name": "Python 3"
    },
    "accelerator": "GPU"
  },
  "cells": [
    {
      "cell_type": "code",
      "metadata": {
        "id": "g6K20G-wKuU3",
        "colab_type": "code",
        "colab": {}
      },
      "source": [
        "import tensorflow as tf\n",
        "import numpy as np\n",
        "import matplotlib.pyplot as plt\n",
        "from tensorflow.keras.layers import Input,Conv2D,Dense,Flatten,Dropout,GlobalMaxPooling2D,MaxPooling2D,BatchNormalization\n",
        "from tensorflow.keras.models import Model\n"
      ],
      "execution_count": 0,
      "outputs": []
    },
    {
      "cell_type": "code",
      "metadata": {
        "id": "G_XyzXuaQvDM",
        "colab_type": "code",
        "outputId": "58a7bda5-e111-481e-c0e2-d6c00de43cb4",
        "colab": {
          "base_uri": "https://localhost:8080/",
          "height": 85
        }
      },
      "source": [
        "cifar10= tf.keras.datasets.cifar10\n",
        "\n",
        "(x_train,y_train), (x_test,y_test)= cifar10.load_data()\n",
        "x_train,x_test= x_train/255.0,x_test/255.0\n",
        "y_train,y_test= y_train.flatten(),y_test.flatten()\n",
        "print(\"x_train.shape:\",x_train.shape)\n",
        "print(\"y_train.shape:\",y_train.shape)\n"
      ],
      "execution_count": 0,
      "outputs": [
        {
          "output_type": "stream",
          "text": [
            "Downloading data from https://www.cs.toronto.edu/~kriz/cifar-10-python.tar.gz\n",
            "170500096/170498071 [==============================] - 18s 0us/step\n",
            "x_train.shape: (50000, 32, 32, 3)\n",
            "y_train.shape: (50000,)\n"
          ],
          "name": "stdout"
        }
      ]
    },
    {
      "cell_type": "code",
      "metadata": {
        "id": "5VQwiFB9Rqwd",
        "colab_type": "code",
        "outputId": "faa79f9a-ef30-4ba0-d66b-71200359da02",
        "colab": {
          "base_uri": "https://localhost:8080/",
          "height": 34
        }
      },
      "source": [
        "k= len(set(y_train))\n",
        "print(\"number of classes:\",k)"
      ],
      "execution_count": 0,
      "outputs": [
        {
          "output_type": "stream",
          "text": [
            "number of classes: 10\n"
          ],
          "name": "stdout"
        }
      ]
    },
    {
      "cell_type": "code",
      "metadata": {
        "id": "2RLrV_tYShNt",
        "colab_type": "code",
        "colab": {}
      },
      "source": [
        "# #build model using Functional API\n",
        "i= Input(shape=x_train[0].shape)\n",
        "# x= Conv2D(32, (3,3), strides=2, activation='relu')(i)\n",
        "# x= Conv2D(64, (3,3), strides=2, activation='relu')(x)\n",
        "# x= Conv2D(128, (3,3),strides=2, activation='relu')(x)\n",
        "# x= Flatten()(x)\n",
        "# x= Dropout(0.5)(x)\n",
        "# x= Dense(1024,activation='relu')(x)\n",
        "# x= Dense(k,activation='softmax')(x)\n",
        "\n",
        "# model= Model(i,x)\n",
        "x= Conv2D(32, (3,3), activation='relu',padding='same')(i)\n",
        "x= BatchNormalization()(x)\n",
        "x= MaxPooling2D((2,2))(x)\n",
        "x= Conv2D(64, (3,3), activation='relu',padding='same')(x)\n",
        "x= BatchNormalization()(x)\n",
        "x= MaxPooling2D((2,2))(x)\n",
        "x= Conv2D(128, (3,3), activation='relu',padding='same')(x)\n",
        "x= BatchNormalization()(x)\n",
        "x= MaxPooling2D((2,2))(x)\n",
        "\n",
        "x= Flatten()(x)\n",
        "x= Dropout(0.2)(x)\n",
        "x= Dense(1024, activation='relu')(x)\n",
        "x= Dropout(0.2)(x)\n",
        "x= Dense(k,activation='softmax')(x)\n",
        "\n",
        "model= Model(i,x)\n",
        "\n"
      ],
      "execution_count": 0,
      "outputs": []
    },
    {
      "cell_type": "code",
      "metadata": {
        "id": "j9U_rS5nT1kd",
        "colab_type": "code",
        "outputId": "e0d50177-d602-4aa7-f765-dfcb69b2ecf5",
        "colab": {
          "base_uri": "https://localhost:8080/",
          "height": 697
        }
      },
      "source": [
        "#compile and fit\n",
        "\n",
        "model.compile(optimizer='adam',\n",
        "              loss='sparse_categorical_crossentropy',\n",
        "              metrics=['accuracy'])\n",
        "r= model.fit(x_train,y_train,validation_data=(x_test,y_test),epochs=20)\n"
      ],
      "execution_count": 0,
      "outputs": [
        {
          "output_type": "stream",
          "text": [
            "Epoch 1/20\n",
            "1563/1563 [==============================] - 8s 5ms/step - loss: 1.3344 - accuracy: 0.5391 - val_loss: 1.2088 - val_accuracy: 0.5793\n",
            "Epoch 2/20\n",
            "1563/1563 [==============================] - 8s 5ms/step - loss: 0.9304 - accuracy: 0.6751 - val_loss: 1.0890 - val_accuracy: 0.6247\n",
            "Epoch 3/20\n",
            "1563/1563 [==============================] - 8s 5ms/step - loss: 0.7846 - accuracy: 0.7262 - val_loss: 0.8314 - val_accuracy: 0.7134\n",
            "Epoch 4/20\n",
            "1563/1563 [==============================] - 8s 5ms/step - loss: 0.6781 - accuracy: 0.7629 - val_loss: 1.0614 - val_accuracy: 0.6421\n",
            "Epoch 5/20\n",
            "1563/1563 [==============================] - 8s 5ms/step - loss: 0.5838 - accuracy: 0.7994 - val_loss: 0.8558 - val_accuracy: 0.7188\n",
            "Epoch 6/20\n",
            "1563/1563 [==============================] - 8s 5ms/step - loss: 0.4990 - accuracy: 0.8254 - val_loss: 0.9062 - val_accuracy: 0.6915\n",
            "Epoch 7/20\n",
            "1563/1563 [==============================] - 8s 5ms/step - loss: 0.4241 - accuracy: 0.8522 - val_loss: 0.7095 - val_accuracy: 0.7672\n",
            "Epoch 8/20\n",
            "1563/1563 [==============================] - 8s 5ms/step - loss: 0.3579 - accuracy: 0.8753 - val_loss: 0.7952 - val_accuracy: 0.7577\n",
            "Epoch 9/20\n",
            "1563/1563 [==============================] - 8s 5ms/step - loss: 0.3183 - accuracy: 0.8898 - val_loss: 0.8615 - val_accuracy: 0.7481\n",
            "Epoch 10/20\n",
            "1563/1563 [==============================] - 8s 5ms/step - loss: 0.2713 - accuracy: 0.9053 - val_loss: 1.2382 - val_accuracy: 0.7093\n",
            "Epoch 11/20\n",
            "1563/1563 [==============================] - 8s 5ms/step - loss: 0.2493 - accuracy: 0.9149 - val_loss: 0.7819 - val_accuracy: 0.7722\n",
            "Epoch 12/20\n",
            "1563/1563 [==============================] - 8s 5ms/step - loss: 0.2211 - accuracy: 0.9255 - val_loss: 0.7970 - val_accuracy: 0.7743\n",
            "Epoch 13/20\n",
            "1563/1563 [==============================] - 8s 5ms/step - loss: 0.2005 - accuracy: 0.9314 - val_loss: 0.9323 - val_accuracy: 0.7606\n",
            "Epoch 14/20\n",
            "1563/1563 [==============================] - 8s 5ms/step - loss: 0.1893 - accuracy: 0.9354 - val_loss: 1.3376 - val_accuracy: 0.7005\n",
            "Epoch 15/20\n",
            "1563/1563 [==============================] - 8s 5ms/step - loss: 0.1675 - accuracy: 0.9431 - val_loss: 1.2024 - val_accuracy: 0.7333\n",
            "Epoch 16/20\n",
            "1563/1563 [==============================] - 8s 5ms/step - loss: 0.1627 - accuracy: 0.9458 - val_loss: 1.1397 - val_accuracy: 0.7362\n",
            "Epoch 17/20\n",
            "1563/1563 [==============================] - 8s 5ms/step - loss: 0.1554 - accuracy: 0.9483 - val_loss: 0.9929 - val_accuracy: 0.7504\n",
            "Epoch 18/20\n",
            "1563/1563 [==============================] - 8s 5ms/step - loss: 0.1393 - accuracy: 0.9526 - val_loss: 0.9350 - val_accuracy: 0.7724\n",
            "Epoch 19/20\n",
            "1563/1563 [==============================] - 8s 5ms/step - loss: 0.1298 - accuracy: 0.9567 - val_loss: 0.8625 - val_accuracy: 0.7846\n",
            "Epoch 20/20\n",
            "1563/1563 [==============================] - 8s 5ms/step - loss: 0.1213 - accuracy: 0.9586 - val_loss: 1.0131 - val_accuracy: 0.7838\n"
          ],
          "name": "stdout"
        }
      ]
    },
    {
      "cell_type": "code",
      "metadata": {
        "id": "Y0OqfEbm25Yd",
        "colab_type": "code",
        "outputId": "a51cbe57-3208-4c4e-f4b9-f5e3000299fc",
        "colab": {
          "base_uri": "https://localhost:8080/",
          "height": 85
        }
      },
      "source": [
        "#fit with data augmentation\n",
        "batch_size= 32\n",
        "data_generator= tf.keras.preprocessing.image.ImageDataGenerator(\n",
        "    width_shift_range=0.1,height_shift_range=0.1, horizontal_flip=True)\n",
        "train_generator= data_generator.flow(x_train,y_train,batch_size)\n",
        "steps_per_epoch= x_train.shape[0]\n",
        "r= model.fit_generator(train_generator,validation_data=(x_test,y_test),\n",
        "                       steps_per_epoch=steps_per_epoch,epochs=2)"
      ],
      "execution_count": 0,
      "outputs": [
        {
          "output_type": "stream",
          "text": [
            "Epoch 1/2\n",
            "50000/50000 [==============================] - 1069s 21ms/step - loss: 0.3872 - accuracy: 0.8667 - val_loss: 0.5044 - val_accuracy: 0.8482\n",
            "Epoch 2/2\n",
            "50000/50000 [==============================] - 1060s 21ms/step - loss: 0.2532 - accuracy: 0.9135 - val_loss: 0.5603 - val_accuracy: 0.8463\n"
          ],
          "name": "stdout"
        }
      ]
    },
    {
      "cell_type": "code",
      "metadata": {
        "id": "q0siEafVVSkV",
        "colab_type": "code",
        "outputId": "4c4a1945-cf15-47bf-fa41-6421375df579",
        "colab": {
          "base_uri": "https://localhost:8080/",
          "height": 282
        }
      },
      "source": [
        "# plot loss per iteration\n",
        "plt.plot(r.history['loss'],label='loss')\n",
        "plt.plot(r.history['val_loss'],label='val_loss')\n",
        "plt.legend()"
      ],
      "execution_count": 0,
      "outputs": [
        {
          "output_type": "execute_result",
          "data": {
            "text/plain": [
              "<matplotlib.legend.Legend at 0x7f54ad9d79e8>"
            ]
          },
          "metadata": {
            "tags": []
          },
          "execution_count": 16
        },
        {
          "output_type": "display_data",
          "data": {
            "image/png": "[encoded data removed]",
            "text/plain": [
              "<Figure size 432x288 with 1 Axes>"
            ]
          },
          "metadata": {
            "tags": [],
            "needs_background": "light"
          }
        }
      ]
    },
    {
      "cell_type": "code",
      "metadata": {
        "id": "YHirTABYWsJ9",
        "colab_type": "code",
        "outputId": "3549a0ba-553b-46e5-eb2c-4fb588da855e",
        "colab": {
          "base_uri": "https://localhost:8080/",
          "height": 282
        }
      },
      "source": [
        "# plot accuracy per iteration\n",
        "plt.plot(r.history['accuracy'],label='accu')\n",
        "plt.plot(r.history['val_accuracy'],label='val_accu')\n",
        "plt.legend()"
      ],
      "execution_count": 0,
      "outputs": [
        {
          "output_type": "execute_result",
          "data": {
            "text/plain": [
              "<matplotlib.legend.Legend at 0x7f54afae33c8>"
            ]
          },
          "metadata": {
            "tags": []
          },
          "execution_count": 17
        },
        {
          "output_type": "display_data",
          "data": {
            "image/png": "[encoded data removed]",
            "text/plain": [
              "<Figure size 432x288 with 1 Axes>"
            ]
          },
          "metadata": {
            "tags": [],
            "needs_background": "light"
          }
        }
      ]
    },
    {
      "cell_type": "code",
      "metadata": {
        "id": "Ag5bIas2aehQ",
        "colab_type": "code",
        "outputId": "d180e650-644e-4750-80c0-d99fb7c6d8ed",
        "colab": {
          "base_uri": "https://localhost:8080/",
          "height": 498
        }
      },
      "source": [
        "#plot Confusion matrix\n",
        "\n",
        "from sklearn.metrics import confusion_matrix\n",
        "import numpy as np\n",
        "import itertools\n",
        "\n",
        "def plot_confusion_matrix(cm,classes,\n",
        "                          normalize=False,\n",
        "                          title='Confusion matrix',\n",
        "                          cmap=plt.cm.Blues):\n",
        "  \n",
        "  #this function prints and plots the confusion matrix\n",
        "  if normalize:\n",
        "      cm = cm.astype('float')/cm.sum(axis=1)[:,np.newaxis]\n",
        "  else:\n",
        "      print('Confusion matrix, without normalization')\n",
        "\n",
        "  print(cm)\n",
        "\n",
        "  plt.imshow(cm,interpolation='nearest',cmap=cmap)\n",
        "  plt.title(title)\n",
        "  plt.colorbar()\n",
        "  tick_marks = np.arange(len(classes))\n",
        "  plt.xticks(tick_marks,classes,rotation=45)\n",
        "  plt.yticks(tick_marks,classes)\n",
        "\n",
        "  fmt ='.2f'if normalize else 'd'\n",
        "  thresh = cm.max()/2.\n",
        "  for i,j in itertools.product(range(cm.shape[0]),range(cm.shape[1])):\n",
        "      plt.text(j,i,format(cm[i,j],fmt),\n",
        "             horizontalalignment='center',\n",
        "             color='white' if cm[i,j] > thresh else \"black\")\n",
        "    \n",
        "  plt.tight_layout()\n",
        "  plt.ylabel('True_label')\n",
        "  plt.xlabel('Predicted label')\n",
        "  plt.show()\n",
        "\n",
        "p_test = model.predict(x_test).argmax(axis=1)\n",
        "cm = confusion_matrix(y_test, p_test)\n",
        "plot_confusion_matrix(cm,list(range(10)))"
      ],
      "execution_count": 0,
      "outputs": [
        {
          "output_type": "stream",
          "text": [
            "Confusion matrix, without normalization\n",
            "[[790  11  56  14  28   2   6  12  36  45]\n",
            " [  9 880   3   4   2   3   7   0  14  78]\n",
            " [ 41   6 723  42  82  30  43  24   5   4]\n",
            " [ 15   6  81 543  74 141  65  55   8  12]\n",
            " [  7   2  53  38 800  18  35  42   3   2]\n",
            " [ 12   1  69 124  44 641  34  66   3   6]\n",
            " [  7   3  25  40  37  19 850  10   5   4]\n",
            " [  5   1  23  13  44  25   9 870   2   8]\n",
            " [ 34  25   9   9   6   3   8  10 874  22]\n",
            " [ 15  57   7  10   4   3   3  13  21 867]]\n"
          ],
          "name": "stdout"
        },
        {
          "output_type": "display_data",
          "data": {
            "image/png": "[encoded data removed]",
            "text/plain": [
              "<Figure size 432x288 with 2 Axes>"
            ]
          },
          "metadata": {
            "tags": [],
            "needs_background": "light"
          }
        }
      ]
    },
    {
      "cell_type": "code",
      "metadata": {
        "id": "s436ZITobOBH",
        "colab_type": "code",
        "colab": {}
      },
      "source": [
        "#labels mapping\n",
        "labels= '''airplane\n",
        "automobile\n",
        "bird\n",
        "cat\n",
        "deer\n",
        "dog\n",
        "frog\n",
        "horse\n",
        "ship\n",
        "truck'''.split()"
      ],
      "execution_count": 0,
      "outputs": []
    },
    {
      "cell_type": "code",
      "metadata": {
        "id": "AZADp-0PbQ1A",
        "colab_type": "code",
        "outputId": "d9ae058c-7b25-4144-e18e-73a4e5021bd5",
        "colab": {
          "base_uri": "https://localhost:8080/",
          "height": 281
        }
      },
      "source": [
        "# Misclassified examples\n",
        "misclassified_idx = np.where(p_test !=y_test)[0]\n",
        "i= np.random.choice(misclassified_idx)\n",
        "plt.imshow(x_test[i],cmap='gray')\n",
        "plt.title(\"True label: %s Predicted: %s\" % (labels[y_test[i]],labels[p_test[i]]));"
      ],
      "execution_count": 0,
      "outputs": [
        {
          "output_type": "display_data",
          "data": {
            "image/png": "[encoded data removed]",
            "text/plain": [
              "<Figure size 432x288 with 1 Axes>"
            ]
          },
          "metadata": {
            "tags": [],
            "needs_background": "light"
          }
        }
      ]
    }
  ]
}