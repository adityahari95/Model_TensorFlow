{
  "nbformat": 4,
  "nbformat_minor": 0,
  "metadata": {
    "colab": {
      "name": "RNN Shapes",
      "provenance": [],
      "collapsed_sections": []
    },
    "kernelspec": {
      "name": "python3",
      "display_name": "Python 3"
    }
  },
  "cells": [
    {
      "cell_type": "code",
      "metadata": {
        "id": "DEorlIYvvsUW",
        "colab_type": "code",
        "colab": {}
      },
      "source": [
        "import tensorflow  as tf\n",
        "import numpy as np\n",
        "import matplotlib.pyplot as plt\n",
        "\n",
        "from tensorflow.keras.layers import Input,Dense,SimpleRNN,Flatten\n",
        "from tensorflow.keras.models import Model\n",
        "from tensorflow.keras.optimizers import Adam,SGD"
      ],
      "execution_count": 0,
      "outputs": []
    },
    {
      "cell_type": "code",
      "metadata": {
        "id": "DC486uKoCx30",
        "colab_type": "code",
        "colab": {}
      },
      "source": [
        "N=1\n",
        "T=10\n",
        "D=3\n",
        "K=2\n",
        "X= np.random.randn(N,T,D)"
      ],
      "execution_count": 0,
      "outputs": []
    },
    {
      "cell_type": "code",
      "metadata": {
        "id": "HHPj3mc4EIud",
        "colab_type": "code",
        "colab": {}
      },
      "source": [
        "M=5\n",
        "i= Input(shape=(T,D))\n",
        "x= SimpleRNN(M)(i)\n",
        "x= Dense(K)(x)\n",
        "\n",
        "model= Model(i,x)\n"
      ],
      "execution_count": 0,
      "outputs": []
    },
    {
      "cell_type": "code",
      "metadata": {
        "id": "DUwPU5RvE1F-",
        "colab_type": "code",
        "outputId": "19fda1ae-75e8-493e-8c0b-104d3b9d6324",
        "colab": {
          "base_uri": "https://localhost:8080/",
          "height": 34
        }
      },
      "source": [
        "Yhat= model.predict(X)\n",
        "print(Yhat)"
      ],
      "execution_count": 0,
      "outputs": [
        {
          "output_type": "stream",
          "text": [
            "[[ 0.27077913 -0.39613512]]\n"
          ],
          "name": "stdout"
        }
      ]
    },
    {
      "cell_type": "code",
      "metadata": {
        "id": "kbuhjNYGE68o",
        "colab_type": "code",
        "outputId": "eca08d05-749a-49d4-b01a-6e1523993f2a",
        "colab": {
          "base_uri": "https://localhost:8080/",
          "height": 255
        }
      },
      "source": [
        "model.summary()"
      ],
      "execution_count": 0,
      "outputs": [
        {
          "output_type": "stream",
          "text": [
            "Model: \"model_5\"\n",
            "_________________________________________________________________\n",
            "Layer (type)                 Output Shape              Param #   \n",
            "=================================================================\n",
            "input_6 (InputLayer)         [(None, 10, 3)]           0         \n",
            "_________________________________________________________________\n",
            "simple_rnn_5 (SimpleRNN)     (None, 5)                 45        \n",
            "_________________________________________________________________\n",
            "dense_5 (Dense)              (None, 2)                 12        \n",
            "=================================================================\n",
            "Total params: 57\n",
            "Trainable params: 57\n",
            "Non-trainable params: 0\n",
            "_________________________________________________________________\n"
          ],
          "name": "stdout"
        }
      ]
    },
    {
      "cell_type": "code",
      "metadata": {
        "id": "V73yTldEFflP",
        "colab_type": "code",
        "outputId": "d950d31d-1688-4d34-9377-7adf39ac2783",
        "colab": {
          "base_uri": "https://localhost:8080/",
          "height": 204
        }
      },
      "source": [
        "model.layers[1].get_weights()"
      ],
      "execution_count": 0,
      "outputs": [
        {
          "output_type": "execute_result",
          "data": {
            "text/plain": [
              "[array([[-0.5290253 , -0.29331768, -0.1925776 ,  0.7745008 , -0.00535953],\n",
              "        [-0.5856057 ,  0.70256037,  0.10567695,  0.28187102, -0.31406468],\n",
              "        [ 0.25943285,  0.51415163,  0.46063203, -0.4420993 , -0.43403557]],\n",
              "       dtype=float32),\n",
              " array([[ 0.582821  , -0.35688865, -0.38698047,  0.35085338, -0.50999814],\n",
              "        [ 0.77305645,  0.50266886,  0.26722524, -0.09611201,  0.26279432],\n",
              "        [ 0.05724257,  0.00962524,  0.07423404, -0.82129973, -0.5626606 ],\n",
              "        [-0.23718287,  0.7830776 , -0.2613672 ,  0.26796898, -0.43636402],\n",
              "        [-0.05631031, -0.08155591,  0.8396508 ,  0.34831563, -0.40477228]],\n",
              "       dtype=float32),\n",
              " array([0., 0., 0., 0., 0.], dtype=float32)]"
            ]
          },
          "metadata": {
            "tags": []
          },
          "execution_count": 44
        }
      ]
    },
    {
      "cell_type": "code",
      "metadata": {
        "id": "2bLSPxDzFm0J",
        "colab_type": "code",
        "outputId": "c2cd25d0-321f-4d16-9063-1d2a562b118c",
        "colab": {
          "base_uri": "https://localhost:8080/",
          "height": 34
        }
      },
      "source": [
        "a,b,c= model.layers[1].get_weights()\n",
        "print(a.shape, b.shape, c.shape)\n",
        "\n",
        "#output 1 is input to hidden\n",
        "#output 2 is hidden to hidden\n",
        "#output 3 is bias term(vector of length M)\n",
        "\n",
        "\n"
      ],
      "execution_count": 0,
      "outputs": [
        {
          "output_type": "stream",
          "text": [
            "(3, 5) (5, 5) (5,)\n"
          ],
          "name": "stdout"
        }
      ]
    },
    {
      "cell_type": "code",
      "metadata": {
        "id": "TZH3ziPHF97x",
        "colab_type": "code",
        "colab": {}
      },
      "source": [
        "Wx,Wh,bh= model.layers[1].get_weights()\n",
        "Wo,bo= model.layers[2].get_weights()\n"
      ],
      "execution_count": 0,
      "outputs": []
    },
    {
      "cell_type": "code",
      "metadata": {
        "id": "jyghSMsRGbsM",
        "colab_type": "code",
        "outputId": "a8143940-9ecb-49f3-b616-5e94ba575cc6",
        "colab": {
          "base_uri": "https://localhost:8080/",
          "height": 187
        }
      },
      "source": [
        "h_last= np.zeros(M)#initial hidden state\n",
        "x= X[0]#one and only sample\n",
        "yhats= [] #storing outputs\n",
        "\n",
        "for t in range(T):\n",
        "  h= np.tanh(x[t].dot(Wx) + h_last.dot(Wh) +bh)\n",
        "  y= h.dot(Wo) + bo #output value in it\n",
        "  yhats.append(y)\n",
        "\n",
        "  h_last= h #assigning the h_last\n",
        "\n",
        "  print(yhats[-1])\n"
      ],
      "execution_count": 0,
      "outputs": [
        {
          "output_type": "stream",
          "text": [
            "[-0.0167395  -0.77172589]\n",
            "[0.16682466 0.26109036]\n",
            "[0.06576058 0.20724493]\n",
            "[ 0.10494229 -0.25213204]\n",
            "[0.05006102 0.79938134]\n",
            "[0.19825981 0.13835425]\n",
            "[ 0.01298768 -0.30649436]\n",
            "[-0.13148797 -0.72869184]\n",
            "[ 0.17695311 -0.24965481]\n",
            "[ 0.27077922 -0.39613504]\n"
          ],
          "name": "stdout"
        }
      ]
    },
    {
      "cell_type": "code",
      "metadata": {
        "id": "4u2bMCs7HWmx",
        "colab_type": "code",
        "colab": {}
      },
      "source": [
        ""
      ],
      "execution_count": 0,
      "outputs": []
    }
  ]
}