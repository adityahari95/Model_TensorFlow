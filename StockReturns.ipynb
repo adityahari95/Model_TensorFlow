{
  "nbformat": 4,
  "nbformat_minor": 0,
  "metadata": {
    "colab": {
      "name": "StockReturns",
      "provenance": [],
      "collapsed_sections": []
    },
    "kernelspec": {
      "name": "python3",
      "display_name": "Python 3"
    }
  },
  "cells": [
    {
      "cell_type": "code",
      "metadata": {
        "id": "ZCtsVjE2zFXu",
        "colab_type": "code",
        "colab": {}
      },
      "source": [
        "import tensorflow  as tf\n",
        "import numpy as np\n",
        "import pandas as pd\n",
        "import matplotlib.pyplot as plt\n",
        "\n",
        "from tensorflow.keras.layers import Input,Dense,SimpleRNN, GRU,LSTM,Flatten,GlobalMaxPool1D\n",
        "from tensorflow.keras.models import Model\n",
        "from tensorflow.keras.optimizers import Adam,SGD\n",
        "from sklearn.preprocessing import StandardScaler"
      ],
      "execution_count": 0,
      "outputs": []
    },
    {
      "cell_type": "code",
      "metadata": {
        "id": "P_EmSZfrzXh9",
        "colab_type": "code",
        "colab": {}
      },
      "source": [
        "df = pd.read_csv('https://raw.githubusercontent.com/lazyprogrammer/machine_learning_examples/master/tf2.0/sbux.csv')"
      ],
      "execution_count": 0,
      "outputs": []
    },
    {
      "cell_type": "code",
      "metadata": {
        "id": "PaEnY0J2z2qz",
        "colab_type": "code",
        "outputId": "93ce36e8-3357-4964-c1d7-ff4c17b99013",
        "colab": {
          "base_uri": "https://localhost:8080/",
          "height": 204
        }
      },
      "source": [
        "df.head()"
      ],
      "execution_count": 0,
      "outputs": [
        {
          "output_type": "execute_result",
          "data": {
            "text/html": [
              "<div>\n",
              "<style scoped>\n",
              "    .dataframe tbody tr th:only-of-type {\n",
              "        vertical-align: middle;\n",
              "    }\n",
              "\n",
              "    .dataframe tbody tr th {\n",
              "        vertical-align: top;\n",
              "    }\n",
              "\n",
              "    .dataframe thead th {\n",
              "        text-align: right;\n",
              "    }\n",
              "</style>\n",
              "<table border=\"1\" class=\"dataframe\">\n",
              "  <thead>\n",
              "    <tr style=\"text-align: right;\">\n",
              "      <th></th>\n",
              "      <th>date</th>\n",
              "      <th>open</th>\n",
              "      <th>high</th>\n",
              "      <th>low</th>\n",
              "      <th>close</th>\n",
              "      <th>volume</th>\n",
              "      <th>Name</th>\n",
              "    </tr>\n",
              "  </thead>\n",
              "  <tbody>\n",
              "    <tr>\n",
              "      <th>0</th>\n",
              "      <td>2013-02-08</td>\n",
              "      <td>27.920</td>\n",
              "      <td>28.325</td>\n",
              "      <td>27.920</td>\n",
              "      <td>28.185</td>\n",
              "      <td>7146296</td>\n",
              "      <td>SBUX</td>\n",
              "    </tr>\n",
              "    <tr>\n",
              "      <th>1</th>\n",
              "      <td>2013-02-11</td>\n",
              "      <td>28.260</td>\n",
              "      <td>28.260</td>\n",
              "      <td>27.930</td>\n",
              "      <td>28.070</td>\n",
              "      <td>5457354</td>\n",
              "      <td>SBUX</td>\n",
              "    </tr>\n",
              "    <tr>\n",
              "      <th>2</th>\n",
              "      <td>2013-02-12</td>\n",
              "      <td>28.000</td>\n",
              "      <td>28.275</td>\n",
              "      <td>27.975</td>\n",
              "      <td>28.130</td>\n",
              "      <td>8665592</td>\n",
              "      <td>SBUX</td>\n",
              "    </tr>\n",
              "    <tr>\n",
              "      <th>3</th>\n",
              "      <td>2013-02-13</td>\n",
              "      <td>28.230</td>\n",
              "      <td>28.230</td>\n",
              "      <td>27.750</td>\n",
              "      <td>27.915</td>\n",
              "      <td>7022056</td>\n",
              "      <td>SBUX</td>\n",
              "    </tr>\n",
              "    <tr>\n",
              "      <th>4</th>\n",
              "      <td>2013-02-14</td>\n",
              "      <td>27.765</td>\n",
              "      <td>27.905</td>\n",
              "      <td>27.675</td>\n",
              "      <td>27.775</td>\n",
              "      <td>8899188</td>\n",
              "      <td>SBUX</td>\n",
              "    </tr>\n",
              "  </tbody>\n",
              "</table>\n",
              "</div>"
            ],
            "text/plain": [
              "         date    open    high     low   close   volume  Name\n",
              "0  2013-02-08  27.920  28.325  27.920  28.185  7146296  SBUX\n",
              "1  2013-02-11  28.260  28.260  27.930  28.070  5457354  SBUX\n",
              "2  2013-02-12  28.000  28.275  27.975  28.130  8665592  SBUX\n",
              "3  2013-02-13  28.230  28.230  27.750  27.915  7022056  SBUX\n",
              "4  2013-02-14  27.765  27.905  27.675  27.775  8899188  SBUX"
            ]
          },
          "metadata": {
            "tags": []
          },
          "execution_count": 3
        }
      ]
    },
    {
      "cell_type": "code",
      "metadata": {
        "id": "6Inm5__gz5Qw",
        "colab_type": "code",
        "outputId": "07a9a8f7-11ec-4625-ba63-0e6b3e2c903a",
        "colab": {
          "base_uri": "https://localhost:8080/",
          "height": 204
        }
      },
      "source": [
        "df.tail()"
      ],
      "execution_count": 0,
      "outputs": [
        {
          "output_type": "execute_result",
          "data": {
            "text/html": [
              "<div>\n",
              "<style scoped>\n",
              "    .dataframe tbody tr th:only-of-type {\n",
              "        vertical-align: middle;\n",
              "    }\n",
              "\n",
              "    .dataframe tbody tr th {\n",
              "        vertical-align: top;\n",
              "    }\n",
              "\n",
              "    .dataframe thead th {\n",
              "        text-align: right;\n",
              "    }\n",
              "</style>\n",
              "<table border=\"1\" class=\"dataframe\">\n",
              "  <thead>\n",
              "    <tr style=\"text-align: right;\">\n",
              "      <th></th>\n",
              "      <th>date</th>\n",
              "      <th>open</th>\n",
              "      <th>high</th>\n",
              "      <th>low</th>\n",
              "      <th>close</th>\n",
              "      <th>volume</th>\n",
              "      <th>Name</th>\n",
              "    </tr>\n",
              "  </thead>\n",
              "  <tbody>\n",
              "    <tr>\n",
              "      <th>1254</th>\n",
              "      <td>2018-02-01</td>\n",
              "      <td>56.280</td>\n",
              "      <td>56.42</td>\n",
              "      <td>55.89</td>\n",
              "      <td>56.00</td>\n",
              "      <td>14690146</td>\n",
              "      <td>SBUX</td>\n",
              "    </tr>\n",
              "    <tr>\n",
              "      <th>1255</th>\n",
              "      <td>2018-02-02</td>\n",
              "      <td>55.900</td>\n",
              "      <td>56.32</td>\n",
              "      <td>55.70</td>\n",
              "      <td>55.77</td>\n",
              "      <td>15358909</td>\n",
              "      <td>SBUX</td>\n",
              "    </tr>\n",
              "    <tr>\n",
              "      <th>1256</th>\n",
              "      <td>2018-02-05</td>\n",
              "      <td>55.530</td>\n",
              "      <td>56.26</td>\n",
              "      <td>54.57</td>\n",
              "      <td>54.69</td>\n",
              "      <td>16059955</td>\n",
              "      <td>SBUX</td>\n",
              "    </tr>\n",
              "    <tr>\n",
              "      <th>1257</th>\n",
              "      <td>2018-02-06</td>\n",
              "      <td>53.685</td>\n",
              "      <td>56.06</td>\n",
              "      <td>53.56</td>\n",
              "      <td>55.61</td>\n",
              "      <td>17415065</td>\n",
              "      <td>SBUX</td>\n",
              "    </tr>\n",
              "    <tr>\n",
              "      <th>1258</th>\n",
              "      <td>2018-02-07</td>\n",
              "      <td>55.080</td>\n",
              "      <td>55.43</td>\n",
              "      <td>54.44</td>\n",
              "      <td>54.46</td>\n",
              "      <td>13927022</td>\n",
              "      <td>SBUX</td>\n",
              "    </tr>\n",
              "  </tbody>\n",
              "</table>\n",
              "</div>"
            ],
            "text/plain": [
              "            date    open   high    low  close    volume  Name\n",
              "1254  2018-02-01  56.280  56.42  55.89  56.00  14690146  SBUX\n",
              "1255  2018-02-02  55.900  56.32  55.70  55.77  15358909  SBUX\n",
              "1256  2018-02-05  55.530  56.26  54.57  54.69  16059955  SBUX\n",
              "1257  2018-02-06  53.685  56.06  53.56  55.61  17415065  SBUX\n",
              "1258  2018-02-07  55.080  55.43  54.44  54.46  13927022  SBUX"
            ]
          },
          "metadata": {
            "tags": []
          },
          "execution_count": 4
        }
      ]
    },
    {
      "cell_type": "code",
      "metadata": {
        "id": "R7E4Gkxxz9s1",
        "colab_type": "code",
        "colab": {}
      },
      "source": [
        "#Wrong Process\n",
        "series = df['close'].values.reshape(-1,1)\n"
      ],
      "execution_count": 0,
      "outputs": []
    },
    {
      "cell_type": "code",
      "metadata": {
        "id": "_EsLU6ln0v-g",
        "colab_type": "code",
        "colab": {}
      },
      "source": [
        "#Normalize the data\n",
        "\n",
        "scaler = StandardScaler()\n",
        "scaler.fit(series[:len(series) // 2])\n",
        "series = scaler.transform(series).flatten()\n"
      ],
      "execution_count": 0,
      "outputs": []
    },
    {
      "cell_type": "code",
      "metadata": {
        "id": "ch7LkZ1Z03BM",
        "colab_type": "code",
        "outputId": "27ec3892-e814-4ed7-c2cd-75deead1b4ce",
        "colab": {
          "base_uri": "https://localhost:8080/",
          "height": 34
        }
      },
      "source": [
        "#build dataset\n",
        "T=10\n",
        "D=1\n",
        "X=[]\n",
        "Y=[]\n",
        "for t in range(len(series)-T):\n",
        "  x= series[t:t+T]\n",
        "  X.append(x)\n",
        "  y= series[t+T]\n",
        "  Y.append(y)\n",
        "\n",
        "X= np.array(X).reshape(-1,T,1) #N*T*D\n",
        "Y= np.array(Y)\n",
        "N= len(X)\n",
        "print(\"x.shape:\",X.shape,\"y.shape:\",Y.shape)"
      ],
      "execution_count": 0,
      "outputs": [
        {
          "output_type": "stream",
          "text": [
            "x.shape: (1249, 10, 1) y.shape: (1249,)\n"
          ],
          "name": "stdout"
        }
      ]
    },
    {
      "cell_type": "code",
      "metadata": {
        "id": "ir52b8Jn2E-p",
        "colab_type": "code",
        "outputId": "7ddc881d-0936-4150-8ae9-8322398f36c9",
        "colab": {
          "base_uri": "https://localhost:8080/",
          "height": 1000
        }
      },
      "source": [
        "#auto regressive linear model\n",
        "\n",
        "i= Input(shape=(T,1))\n",
        "x= LSTM(5)(i)\n",
        "x= Dense(1)(x)\n",
        "model= Model(i,x)\n",
        "model.compile(\n",
        "    loss='mse',\n",
        "    optimizer=Adam(lr=0.1),\n",
        ")\n",
        "\n",
        "#train RNN\n",
        "r= model.fit(    \n",
        "    X[:-N//2], Y[:-N//2],\n",
        "    epochs=80,\n",
        "    validation_data= (X[-N//2:],Y[-N//2:])\n",
        ")"
      ],
      "execution_count": 0,
      "outputs": [
        {
          "output_type": "stream",
          "text": [
            "Epoch 1/80\n",
            "20/20 [==============================] - 1s 28ms/step - loss: 0.2474 - val_loss: 0.3899\n",
            "Epoch 2/80\n",
            "20/20 [==============================] - 0s 8ms/step - loss: 0.0175 - val_loss: 0.0303\n",
            "Epoch 3/80\n",
            "20/20 [==============================] - 0s 8ms/step - loss: 0.0089 - val_loss: 0.0230\n",
            "Epoch 4/80\n",
            "20/20 [==============================] - 0s 8ms/step - loss: 0.0064 - val_loss: 0.0271\n",
            "Epoch 5/80\n",
            "20/20 [==============================] - 0s 7ms/step - loss: 0.0061 - val_loss: 0.0206\n",
            "Epoch 6/80\n",
            "20/20 [==============================] - 0s 7ms/step - loss: 0.0058 - val_loss: 0.0448\n",
            "Epoch 7/80\n",
            "20/20 [==============================] - 0s 7ms/step - loss: 0.0055 - val_loss: 0.0203\n",
            "Epoch 8/80\n",
            "20/20 [==============================] - 0s 7ms/step - loss: 0.0062 - val_loss: 0.0527\n",
            "Epoch 9/80\n",
            "20/20 [==============================] - 0s 7ms/step - loss: 0.0062 - val_loss: 0.0242\n",
            "Epoch 10/80\n",
            "20/20 [==============================] - 0s 7ms/step - loss: 0.0068 - val_loss: 0.0309\n",
            "Epoch 11/80\n",
            "20/20 [==============================] - 0s 7ms/step - loss: 0.0090 - val_loss: 0.0355\n",
            "Epoch 12/80\n",
            "20/20 [==============================] - 0s 7ms/step - loss: 0.0061 - val_loss: 0.0214\n",
            "Epoch 13/80\n",
            "20/20 [==============================] - 0s 7ms/step - loss: 0.0056 - val_loss: 0.0304\n",
            "Epoch 14/80\n",
            "20/20 [==============================] - 0s 8ms/step - loss: 0.0053 - val_loss: 0.0237\n",
            "Epoch 15/80\n",
            "20/20 [==============================] - 0s 8ms/step - loss: 0.0067 - val_loss: 0.0245\n",
            "Epoch 16/80\n",
            "20/20 [==============================] - 0s 7ms/step - loss: 0.0062 - val_loss: 0.0257\n",
            "Epoch 17/80\n",
            "20/20 [==============================] - 0s 7ms/step - loss: 0.0059 - val_loss: 0.0328\n",
            "Epoch 18/80\n",
            "20/20 [==============================] - 0s 7ms/step - loss: 0.0070 - val_loss: 0.0268\n",
            "Epoch 19/80\n",
            "20/20 [==============================] - 0s 7ms/step - loss: 0.0054 - val_loss: 0.0233\n",
            "Epoch 20/80\n",
            "20/20 [==============================] - 0s 7ms/step - loss: 0.0051 - val_loss: 0.0222\n",
            "Epoch 21/80\n",
            "20/20 [==============================] - 0s 7ms/step - loss: 0.0054 - val_loss: 0.0245\n",
            "Epoch 22/80\n",
            "20/20 [==============================] - 0s 7ms/step - loss: 0.0052 - val_loss: 0.0209\n",
            "Epoch 23/80\n",
            "20/20 [==============================] - 0s 7ms/step - loss: 0.0055 - val_loss: 0.0212\n",
            "Epoch 24/80\n",
            "20/20 [==============================] - 0s 7ms/step - loss: 0.0056 - val_loss: 0.0431\n",
            "Epoch 25/80\n",
            "20/20 [==============================] - 0s 7ms/step - loss: 0.0089 - val_loss: 0.0520\n",
            "Epoch 26/80\n",
            "20/20 [==============================] - 0s 7ms/step - loss: 0.0075 - val_loss: 0.0733\n",
            "Epoch 27/80\n",
            "20/20 [==============================] - 0s 7ms/step - loss: 0.0065 - val_loss: 0.0280\n",
            "Epoch 28/80\n",
            "20/20 [==============================] - 0s 8ms/step - loss: 0.0067 - val_loss: 0.0301\n",
            "Epoch 29/80\n",
            "20/20 [==============================] - 0s 8ms/step - loss: 0.0066 - val_loss: 0.0273\n",
            "Epoch 30/80\n",
            "20/20 [==============================] - 0s 8ms/step - loss: 0.0061 - val_loss: 0.0372\n",
            "Epoch 31/80\n",
            "20/20 [==============================] - 0s 7ms/step - loss: 0.0070 - val_loss: 0.0249\n",
            "Epoch 32/80\n",
            "20/20 [==============================] - 0s 7ms/step - loss: 0.0054 - val_loss: 0.0251\n",
            "Epoch 33/80\n",
            "20/20 [==============================] - 0s 7ms/step - loss: 0.0059 - val_loss: 0.0196\n",
            "Epoch 34/80\n",
            "20/20 [==============================] - 0s 6ms/step - loss: 0.0073 - val_loss: 0.0330\n",
            "Epoch 35/80\n",
            "20/20 [==============================] - 0s 7ms/step - loss: 0.0079 - val_loss: 0.0423\n",
            "Epoch 36/80\n",
            "20/20 [==============================] - 0s 7ms/step - loss: 0.0071 - val_loss: 0.0273\n",
            "Epoch 37/80\n",
            "20/20 [==============================] - 0s 7ms/step - loss: 0.0073 - val_loss: 0.0220\n",
            "Epoch 38/80\n",
            "20/20 [==============================] - 0s 7ms/step - loss: 0.0057 - val_loss: 0.0194\n",
            "Epoch 39/80\n",
            "20/20 [==============================] - 0s 7ms/step - loss: 0.0054 - val_loss: 0.0236\n",
            "Epoch 40/80\n",
            "20/20 [==============================] - 0s 7ms/step - loss: 0.0053 - val_loss: 0.0177\n",
            "Epoch 41/80\n",
            "20/20 [==============================] - 0s 7ms/step - loss: 0.0054 - val_loss: 0.0206\n",
            "Epoch 42/80\n",
            "20/20 [==============================] - 0s 7ms/step - loss: 0.0052 - val_loss: 0.0187\n",
            "Epoch 43/80\n",
            "20/20 [==============================] - 0s 7ms/step - loss: 0.0057 - val_loss: 0.0195\n",
            "Epoch 44/80\n",
            "20/20 [==============================] - 0s 7ms/step - loss: 0.0054 - val_loss: 0.0270\n",
            "Epoch 45/80\n",
            "20/20 [==============================] - 0s 7ms/step - loss: 0.0053 - val_loss: 0.0178\n",
            "Epoch 46/80\n",
            "20/20 [==============================] - 0s 7ms/step - loss: 0.0069 - val_loss: 0.0168\n",
            "Epoch 47/80\n",
            "20/20 [==============================] - 0s 7ms/step - loss: 0.0059 - val_loss: 0.0223\n",
            "Epoch 48/80\n",
            "20/20 [==============================] - 0s 7ms/step - loss: 0.0057 - val_loss: 0.0189\n",
            "Epoch 49/80\n",
            "20/20 [==============================] - 0s 7ms/step - loss: 0.0066 - val_loss: 0.0256\n",
            "Epoch 50/80\n",
            "20/20 [==============================] - 0s 7ms/step - loss: 0.0060 - val_loss: 0.0200\n",
            "Epoch 51/80\n",
            "20/20 [==============================] - 0s 7ms/step - loss: 0.0059 - val_loss: 0.0257\n",
            "Epoch 52/80\n",
            "20/20 [==============================] - 0s 7ms/step - loss: 0.0089 - val_loss: 0.0282\n",
            "Epoch 53/80\n",
            "20/20 [==============================] - 0s 7ms/step - loss: 0.0069 - val_loss: 0.0164\n",
            "Epoch 54/80\n",
            "20/20 [==============================] - 0s 7ms/step - loss: 0.0057 - val_loss: 0.0210\n",
            "Epoch 55/80\n",
            "20/20 [==============================] - 0s 7ms/step - loss: 0.0068 - val_loss: 0.0288\n",
            "Epoch 56/80\n",
            "20/20 [==============================] - 0s 7ms/step - loss: 0.0057 - val_loss: 0.0195\n",
            "Epoch 57/80\n",
            "20/20 [==============================] - 0s 7ms/step - loss: 0.0058 - val_loss: 0.0207\n",
            "Epoch 58/80\n",
            "20/20 [==============================] - 0s 7ms/step - loss: 0.0068 - val_loss: 0.0447\n",
            "Epoch 59/80\n",
            "20/20 [==============================] - 0s 7ms/step - loss: 0.0073 - val_loss: 0.0566\n",
            "Epoch 60/80\n",
            "20/20 [==============================] - 0s 7ms/step - loss: 0.0056 - val_loss: 0.0232\n",
            "Epoch 61/80\n",
            "20/20 [==============================] - 0s 8ms/step - loss: 0.0054 - val_loss: 0.0232\n",
            "Epoch 62/80\n",
            "20/20 [==============================] - 0s 7ms/step - loss: 0.0071 - val_loss: 0.0179\n",
            "Epoch 63/80\n",
            "20/20 [==============================] - 0s 7ms/step - loss: 0.0064 - val_loss: 0.0252\n",
            "Epoch 64/80\n",
            "20/20 [==============================] - 0s 7ms/step - loss: 0.0066 - val_loss: 0.0307\n",
            "Epoch 65/80\n",
            "20/20 [==============================] - 0s 7ms/step - loss: 0.0058 - val_loss: 0.0255\n",
            "Epoch 66/80\n",
            "20/20 [==============================] - 0s 7ms/step - loss: 0.0057 - val_loss: 0.0440\n",
            "Epoch 67/80\n",
            "20/20 [==============================] - 0s 7ms/step - loss: 0.0064 - val_loss: 0.0504\n",
            "Epoch 68/80\n",
            "20/20 [==============================] - 0s 7ms/step - loss: 0.0074 - val_loss: 0.0450\n",
            "Epoch 69/80\n",
            "20/20 [==============================] - 0s 7ms/step - loss: 0.0060 - val_loss: 0.0258\n",
            "Epoch 70/80\n",
            "20/20 [==============================] - 0s 8ms/step - loss: 0.0056 - val_loss: 0.0180\n",
            "Epoch 71/80\n",
            "20/20 [==============================] - 0s 7ms/step - loss: 0.0055 - val_loss: 0.0199\n",
            "Epoch 72/80\n",
            "20/20 [==============================] - 0s 7ms/step - loss: 0.0052 - val_loss: 0.0219\n",
            "Epoch 73/80\n",
            "20/20 [==============================] - 0s 7ms/step - loss: 0.0068 - val_loss: 0.0213\n",
            "Epoch 74/80\n",
            "20/20 [==============================] - 0s 7ms/step - loss: 0.0057 - val_loss: 0.0174\n",
            "Epoch 75/80\n",
            "20/20 [==============================] - 0s 7ms/step - loss: 0.0060 - val_loss: 0.0285\n",
            "Epoch 76/80\n",
            "20/20 [==============================] - 0s 7ms/step - loss: 0.0075 - val_loss: 0.0301\n",
            "Epoch 77/80\n",
            "20/20 [==============================] - 0s 7ms/step - loss: 0.0059 - val_loss: 0.0157\n",
            "Epoch 78/80\n",
            "20/20 [==============================] - 0s 7ms/step - loss: 0.0054 - val_loss: 0.0163\n",
            "Epoch 79/80\n",
            "20/20 [==============================] - 0s 7ms/step - loss: 0.0068 - val_loss: 0.0301\n",
            "Epoch 80/80\n",
            "20/20 [==============================] - 0s 7ms/step - loss: 0.0078 - val_loss: 0.0194\n"
          ],
          "name": "stdout"
        }
      ]
    },
    {
      "cell_type": "code",
      "metadata": {
        "id": "lVs2frDW2sSv",
        "colab_type": "code",
        "outputId": "babf19a4-3ca9-472a-d8ee-1044c05bdc50",
        "colab": {
          "base_uri": "https://localhost:8080/",
          "height": 282
        }
      },
      "source": [
        "plt.plot(r.history['loss'],label='loss')\n",
        "plt.plot(r.history['val_loss'],label='val_loss')\n",
        "plt.legend()"
      ],
      "execution_count": 0,
      "outputs": [
        {
          "output_type": "execute_result",
          "data": {
            "text/plain": [
              "<matplotlib.legend.Legend at 0x7f9081a91da0>"
            ]
          },
          "metadata": {
            "tags": []
          },
          "execution_count": 13
        },
        {
          "output_type": "display_data",
          "data": {
            "image/png": "[encoded data removed]",
            "text/plain": [
              "<Figure size 432x288 with 1 Axes>"
            ]
          },
          "metadata": {
            "tags": [],
            "needs_background": "light"
          }
        }
      ]
    },
    {
      "cell_type": "code",
      "metadata": {
        "id": "U6rzoECo20N3",
        "colab_type": "code",
        "outputId": "8564b4fa-d907-4d49-c44c-45a576862924",
        "colab": {
          "base_uri": "https://localhost:8080/",
          "height": 298
        }
      },
      "source": [
        "#one step forecast using true targets\n",
        "#Note: even the one step forecast fails badly\n",
        "\n",
        "outputs= model.predict(X)\n",
        "print(outputs.shape)\n",
        "predictions= outputs[:,0]\n",
        "\n",
        "plt.plot(Y,label='targets')\n",
        "plt.plot(predictions,label='predictions')\n",
        "plt.title(\"Linear Regression Predictions\")\n",
        "plt.legend()\n",
        "plt.show()"
      ],
      "execution_count": 0,
      "outputs": [
        {
          "output_type": "stream",
          "text": [
            "(1249, 1)\n"
          ],
          "name": "stdout"
        },
        {
          "output_type": "display_data",
          "data": {
            "image/png": "[encoded data removed]",
            "text/plain": [
              "<Figure size 432x288 with 1 Axes>"
            ]
          },
          "metadata": {
            "tags": [],
            "needs_background": "light"
          }
        }
      ]
    },
    {
      "cell_type": "code",
      "metadata": {
        "id": "RZYpdjB83IZp",
        "colab_type": "code",
        "outputId": "77048009-d2e3-4f8b-d425-43f8468cda84",
        "colab": {
          "base_uri": "https://localhost:8080/",
          "height": 282
        }
      },
      "source": [
        "#Multi-Step Forecast\n",
        "\n",
        "validation_target= Y[-N//2:]\n",
        "validation_predictions= []\n",
        "\n",
        "#last train input\n",
        "last_x= X[-N//2] #1D array of length T\n",
        "\n",
        "while len(validation_predictions)<len(validation_target):\n",
        "  p= model.predict(last_x.reshape(1,-1))[0,0] \n",
        "\n",
        "  #update prediction_list\n",
        "  validation_predictions.append(p)\n",
        "\n",
        "  #make the new input\n",
        "  last_x= np.roll(last_x,-1)\n",
        "  last_x[-1]= p\n",
        "\n",
        "plt.plot(validation_target,label='forecast target')\n",
        "plt.plot(validation_predictions, label='forecast prediction')\n",
        "plt.legend()"
      ],
      "execution_count": 0,
      "outputs": [
        {
          "output_type": "execute_result",
          "data": {
            "text/plain": [
              "<matplotlib.legend.Legend at 0x7f90812b0f98>"
            ]
          },
          "metadata": {
            "tags": []
          },
          "execution_count": 15
        },
        {
          "output_type": "display_data",
          "data": {
            "image/png": "[encoded data removed]",
            "text/plain": [
              "<Figure size 432x288 with 1 Axes>"
            ]
          },
          "metadata": {
            "tags": [],
            "needs_background": "light"
          }
        }
      ]
    },
    {
      "cell_type": "code",
      "metadata": {
        "id": "u80Szv003d7L",
        "colab_type": "code",
        "colab": {}
      },
      "source": [
        "#Correct Process\n",
        "\n",
        "df['PrevClose'] = df['close'].shift(1) #moving up\n",
        "\n",
        "#x[t] x[t-1]"
      ],
      "execution_count": 0,
      "outputs": []
    },
    {
      "cell_type": "code",
      "metadata": {
        "id": "KChCBesM42M_",
        "colab_type": "code",
        "outputId": "985386b3-58bc-4f8c-d799-9a8c71510046",
        "colab": {
          "base_uri": "https://localhost:8080/",
          "height": 204
        }
      },
      "source": [
        "df.head()"
      ],
      "execution_count": 0,
      "outputs": [
        {
          "output_type": "execute_result",
          "data": {
            "text/html": [
              "<div>\n",
              "<style scoped>\n",
              "    .dataframe tbody tr th:only-of-type {\n",
              "        vertical-align: middle;\n",
              "    }\n",
              "\n",
              "    .dataframe tbody tr th {\n",
              "        vertical-align: top;\n",
              "    }\n",
              "\n",
              "    .dataframe thead th {\n",
              "        text-align: right;\n",
              "    }\n",
              "</style>\n",
              "<table border=\"1\" class=\"dataframe\">\n",
              "  <thead>\n",
              "    <tr style=\"text-align: right;\">\n",
              "      <th></th>\n",
              "      <th>date</th>\n",
              "      <th>open</th>\n",
              "      <th>high</th>\n",
              "      <th>low</th>\n",
              "      <th>close</th>\n",
              "      <th>volume</th>\n",
              "      <th>Name</th>\n",
              "      <th>PrevClose</th>\n",
              "    </tr>\n",
              "  </thead>\n",
              "  <tbody>\n",
              "    <tr>\n",
              "      <th>0</th>\n",
              "      <td>2013-02-08</td>\n",
              "      <td>27.920</td>\n",
              "      <td>28.325</td>\n",
              "      <td>27.920</td>\n",
              "      <td>28.185</td>\n",
              "      <td>7146296</td>\n",
              "      <td>SBUX</td>\n",
              "      <td>NaN</td>\n",
              "    </tr>\n",
              "    <tr>\n",
              "      <th>1</th>\n",
              "      <td>2013-02-11</td>\n",
              "      <td>28.260</td>\n",
              "      <td>28.260</td>\n",
              "      <td>27.930</td>\n",
              "      <td>28.070</td>\n",
              "      <td>5457354</td>\n",
              "      <td>SBUX</td>\n",
              "      <td>28.185</td>\n",
              "    </tr>\n",
              "    <tr>\n",
              "      <th>2</th>\n",
              "      <td>2013-02-12</td>\n",
              "      <td>28.000</td>\n",
              "      <td>28.275</td>\n",
              "      <td>27.975</td>\n",
              "      <td>28.130</td>\n",
              "      <td>8665592</td>\n",
              "      <td>SBUX</td>\n",
              "      <td>28.070</td>\n",
              "    </tr>\n",
              "    <tr>\n",
              "      <th>3</th>\n",
              "      <td>2013-02-13</td>\n",
              "      <td>28.230</td>\n",
              "      <td>28.230</td>\n",
              "      <td>27.750</td>\n",
              "      <td>27.915</td>\n",
              "      <td>7022056</td>\n",
              "      <td>SBUX</td>\n",
              "      <td>28.130</td>\n",
              "    </tr>\n",
              "    <tr>\n",
              "      <th>4</th>\n",
              "      <td>2013-02-14</td>\n",
              "      <td>27.765</td>\n",
              "      <td>27.905</td>\n",
              "      <td>27.675</td>\n",
              "      <td>27.775</td>\n",
              "      <td>8899188</td>\n",
              "      <td>SBUX</td>\n",
              "      <td>27.915</td>\n",
              "    </tr>\n",
              "  </tbody>\n",
              "</table>\n",
              "</div>"
            ],
            "text/plain": [
              "         date    open    high     low   close   volume  Name  PrevClose\n",
              "0  2013-02-08  27.920  28.325  27.920  28.185  7146296  SBUX        NaN\n",
              "1  2013-02-11  28.260  28.260  27.930  28.070  5457354  SBUX     28.185\n",
              "2  2013-02-12  28.000  28.275  27.975  28.130  8665592  SBUX     28.070\n",
              "3  2013-02-13  28.230  28.230  27.750  27.915  7022056  SBUX     28.130\n",
              "4  2013-02-14  27.765  27.905  27.675  27.775  8899188  SBUX     27.915"
            ]
          },
          "metadata": {
            "tags": []
          },
          "execution_count": 18
        }
      ]
    },
    {
      "cell_type": "code",
      "metadata": {
        "id": "8LW_S_Jo470e",
        "colab_type": "code",
        "colab": {}
      },
      "source": [
        "#Return Calculation \n",
        "#x[t] = x[t-1] /x[t-1]\n",
        "df['Return'] = (df['close'] - df['PrevClose']) / df['PrevClose']"
      ],
      "execution_count": 0,
      "outputs": []
    },
    {
      "cell_type": "code",
      "metadata": {
        "id": "QkPiHW_A5hQp",
        "colab_type": "code",
        "outputId": "dac5ed0b-531e-4fb2-8409-79006b3c619c",
        "colab": {
          "base_uri": "https://localhost:8080/",
          "height": 204
        }
      },
      "source": [
        "df.head()"
      ],
      "execution_count": 0,
      "outputs": [
        {
          "output_type": "execute_result",
          "data": {
            "text/html": [
              "<div>\n",
              "<style scoped>\n",
              "    .dataframe tbody tr th:only-of-type {\n",
              "        vertical-align: middle;\n",
              "    }\n",
              "\n",
              "    .dataframe tbody tr th {\n",
              "        vertical-align: top;\n",
              "    }\n",
              "\n",
              "    .dataframe thead th {\n",
              "        text-align: right;\n",
              "    }\n",
              "</style>\n",
              "<table border=\"1\" class=\"dataframe\">\n",
              "  <thead>\n",
              "    <tr style=\"text-align: right;\">\n",
              "      <th></th>\n",
              "      <th>date</th>\n",
              "      <th>open</th>\n",
              "      <th>high</th>\n",
              "      <th>low</th>\n",
              "      <th>close</th>\n",
              "      <th>volume</th>\n",
              "      <th>Name</th>\n",
              "      <th>PrevClose</th>\n",
              "      <th>Return</th>\n",
              "    </tr>\n",
              "  </thead>\n",
              "  <tbody>\n",
              "    <tr>\n",
              "      <th>0</th>\n",
              "      <td>2013-02-08</td>\n",
              "      <td>27.920</td>\n",
              "      <td>28.325</td>\n",
              "      <td>27.920</td>\n",
              "      <td>28.185</td>\n",
              "      <td>7146296</td>\n",
              "      <td>SBUX</td>\n",
              "      <td>NaN</td>\n",
              "      <td>NaN</td>\n",
              "    </tr>\n",
              "    <tr>\n",
              "      <th>1</th>\n",
              "      <td>2013-02-11</td>\n",
              "      <td>28.260</td>\n",
              "      <td>28.260</td>\n",
              "      <td>27.930</td>\n",
              "      <td>28.070</td>\n",
              "      <td>5457354</td>\n",
              "      <td>SBUX</td>\n",
              "      <td>28.185</td>\n",
              "      <td>-0.004080</td>\n",
              "    </tr>\n",
              "    <tr>\n",
              "      <th>2</th>\n",
              "      <td>2013-02-12</td>\n",
              "      <td>28.000</td>\n",
              "      <td>28.275</td>\n",
              "      <td>27.975</td>\n",
              "      <td>28.130</td>\n",
              "      <td>8665592</td>\n",
              "      <td>SBUX</td>\n",
              "      <td>28.070</td>\n",
              "      <td>0.002138</td>\n",
              "    </tr>\n",
              "    <tr>\n",
              "      <th>3</th>\n",
              "      <td>2013-02-13</td>\n",
              "      <td>28.230</td>\n",
              "      <td>28.230</td>\n",
              "      <td>27.750</td>\n",
              "      <td>27.915</td>\n",
              "      <td>7022056</td>\n",
              "      <td>SBUX</td>\n",
              "      <td>28.130</td>\n",
              "      <td>-0.007643</td>\n",
              "    </tr>\n",
              "    <tr>\n",
              "      <th>4</th>\n",
              "      <td>2013-02-14</td>\n",
              "      <td>27.765</td>\n",
              "      <td>27.905</td>\n",
              "      <td>27.675</td>\n",
              "      <td>27.775</td>\n",
              "      <td>8899188</td>\n",
              "      <td>SBUX</td>\n",
              "      <td>27.915</td>\n",
              "      <td>-0.005015</td>\n",
              "    </tr>\n",
              "  </tbody>\n",
              "</table>\n",
              "</div>"
            ],
            "text/plain": [
              "         date    open    high     low  ...   volume  Name PrevClose    Return\n",
              "0  2013-02-08  27.920  28.325  27.920  ...  7146296  SBUX       NaN       NaN\n",
              "1  2013-02-11  28.260  28.260  27.930  ...  5457354  SBUX    28.185 -0.004080\n",
              "2  2013-02-12  28.000  28.275  27.975  ...  8665592  SBUX    28.070  0.002138\n",
              "3  2013-02-13  28.230  28.230  27.750  ...  7022056  SBUX    28.130 -0.007643\n",
              "4  2013-02-14  27.765  27.905  27.675  ...  8899188  SBUX    27.915 -0.005015\n",
              "\n",
              "[5 rows x 9 columns]"
            ]
          },
          "metadata": {
            "tags": []
          },
          "execution_count": 21
        }
      ]
    },
    {
      "cell_type": "code",
      "metadata": {
        "id": "DzDaipHN5izU",
        "colab_type": "code",
        "outputId": "2e48427b-1435-497f-bda6-76c2cef309aa",
        "colab": {
          "base_uri": "https://localhost:8080/",
          "height": 282
        }
      },
      "source": [
        "#LSTM to predict Returns\n",
        "df['Return'].hist()"
      ],
      "execution_count": 0,
      "outputs": [
        {
          "output_type": "execute_result",
          "data": {
            "text/plain": [
              "<matplotlib.axes._subplots.AxesSubplot at 0x7f9081b35e80>"
            ]
          },
          "metadata": {
            "tags": []
          },
          "execution_count": 22
        },
        {
          "output_type": "display_data",
          "data": {
            "image/png": "[encoded data removed]",
            "text/plain": [
              "<Figure size 432x288 with 1 Axes>"
            ]
          },
          "metadata": {
            "tags": [],
            "needs_background": "light"
          }
        }
      ]
    },
    {
      "cell_type": "code",
      "metadata": {
        "id": "Vr-tBbZ85vlO",
        "colab_type": "code",
        "colab": {}
      },
      "source": [
        "series = df['Return'].values[1:].reshape(-1,1)\n",
        "\n",
        "scaler = StandardScaler()\n",
        "scaler.fit(series[:len(series) // 2])\n",
        "series = scaler.transform(series).flatten()"
      ],
      "execution_count": 0,
      "outputs": []
    },
    {
      "cell_type": "code",
      "metadata": {
        "id": "_r5SC1ET6QCZ",
        "colab_type": "code",
        "outputId": "eed3277a-b639-48a3-c6f0-04bbb0645042",
        "colab": {
          "base_uri": "https://localhost:8080/",
          "height": 34
        }
      },
      "source": [
        "#build dataset\n",
        "T=10\n",
        "D=1\n",
        "X=[]\n",
        "Y=[]\n",
        "for t in range(len(series)-T):\n",
        "  x= series[t:t+T]\n",
        "  X.append(x)\n",
        "  y= series[t+T]\n",
        "  Y.append(y)\n",
        "\n",
        "X= np.array(X).reshape(-1,T,1) #N*T*D\n",
        "Y= np.array(Y)\n",
        "N= len(X)\n",
        "print(\"x.shape:\",X.shape,\"y.shape:\",Y.shape)"
      ],
      "execution_count": 0,
      "outputs": [
        {
          "output_type": "stream",
          "text": [
            "x.shape: (1248, 10, 1) y.shape: (1248,)\n"
          ],
          "name": "stdout"
        }
      ]
    },
    {
      "cell_type": "code",
      "metadata": {
        "id": "BP_YmXwZ6iKX",
        "colab_type": "code",
        "outputId": "666bfd36-b21f-417d-8177-35c54bbb198c",
        "colab": {
          "base_uri": "https://localhost:8080/",
          "height": 1000
        }
      },
      "source": [
        "#auto regressive linear model\n",
        "\n",
        "i= Input(shape=(T,1))\n",
        "x= LSTM(5)(i)\n",
        "x= Dense(1)(x)\n",
        "model= Model(i,x)\n",
        "model.compile(\n",
        "    loss='mse',\n",
        "    optimizer=Adam(lr=0.01),\n",
        ")\n",
        "\n",
        "#train RNN\n",
        "r= model.fit(    \n",
        "    X[:-N//2], Y[:-N//2],\n",
        "    epochs=80,\n",
        "    validation_data= (X[-N//2:],Y[-N//2:])\n",
        ")"
      ],
      "execution_count": 0,
      "outputs": [
        {
          "output_type": "stream",
          "text": [
            "Epoch 1/80\n",
            "20/20 [==============================] - 0s 23ms/step - loss: 0.9879 - val_loss: 1.1514\n",
            "Epoch 2/80\n",
            "20/20 [==============================] - 0s 7ms/step - loss: 0.9863 - val_loss: 1.1664\n",
            "Epoch 3/80\n",
            "20/20 [==============================] - 0s 7ms/step - loss: 0.9937 - val_loss: 1.1456\n",
            "Epoch 4/80\n",
            "20/20 [==============================] - 0s 7ms/step - loss: 0.9831 - val_loss: 1.1523\n",
            "Epoch 5/80\n",
            "20/20 [==============================] - 0s 7ms/step - loss: 0.9846 - val_loss: 1.1593\n",
            "Epoch 6/80\n",
            "20/20 [==============================] - 0s 7ms/step - loss: 0.9826 - val_loss: 1.1479\n",
            "Epoch 7/80\n",
            "20/20 [==============================] - 0s 7ms/step - loss: 0.9835 - val_loss: 1.1571\n",
            "Epoch 8/80\n",
            "20/20 [==============================] - 0s 7ms/step - loss: 0.9807 - val_loss: 1.1487\n",
            "Epoch 9/80\n",
            "20/20 [==============================] - 0s 7ms/step - loss: 0.9803 - val_loss: 1.1541\n",
            "Epoch 10/80\n",
            "20/20 [==============================] - 0s 7ms/step - loss: 0.9802 - val_loss: 1.1472\n",
            "Epoch 11/80\n",
            "20/20 [==============================] - 0s 8ms/step - loss: 0.9797 - val_loss: 1.1571\n",
            "Epoch 12/80\n",
            "20/20 [==============================] - 0s 7ms/step - loss: 0.9785 - val_loss: 1.1555\n",
            "Epoch 13/80\n",
            "20/20 [==============================] - 0s 7ms/step - loss: 0.9796 - val_loss: 1.1488\n",
            "Epoch 14/80\n",
            "20/20 [==============================] - 0s 8ms/step - loss: 0.9783 - val_loss: 1.1562\n",
            "Epoch 15/80\n",
            "20/20 [==============================] - 0s 9ms/step - loss: 0.9736 - val_loss: 1.1617\n",
            "Epoch 16/80\n",
            "20/20 [==============================] - 0s 7ms/step - loss: 0.9733 - val_loss: 1.1704\n",
            "Epoch 17/80\n",
            "20/20 [==============================] - 0s 8ms/step - loss: 0.9700 - val_loss: 1.1766\n",
            "Epoch 18/80\n",
            "20/20 [==============================] - 0s 8ms/step - loss: 0.9657 - val_loss: 1.1832\n",
            "Epoch 19/80\n",
            "20/20 [==============================] - 0s 7ms/step - loss: 0.9554 - val_loss: 1.1727\n",
            "Epoch 20/80\n",
            "20/20 [==============================] - 0s 7ms/step - loss: 0.9535 - val_loss: 1.1684\n",
            "Epoch 21/80\n",
            "20/20 [==============================] - 0s 7ms/step - loss: 0.9507 - val_loss: 1.1887\n",
            "Epoch 22/80\n",
            "20/20 [==============================] - 0s 8ms/step - loss: 0.9474 - val_loss: 1.2093\n",
            "Epoch 23/80\n",
            "20/20 [==============================] - 0s 7ms/step - loss: 0.9382 - val_loss: 1.2154\n",
            "Epoch 24/80\n",
            "20/20 [==============================] - 0s 8ms/step - loss: 0.9444 - val_loss: 1.2354\n",
            "Epoch 25/80\n",
            "20/20 [==============================] - 0s 7ms/step - loss: 0.9446 - val_loss: 1.2286\n",
            "Epoch 26/80\n",
            "20/20 [==============================] - 0s 7ms/step - loss: 0.9392 - val_loss: 1.2371\n",
            "Epoch 27/80\n",
            "20/20 [==============================] - 0s 7ms/step - loss: 0.9309 - val_loss: 1.2228\n",
            "Epoch 28/80\n",
            "20/20 [==============================] - 0s 8ms/step - loss: 0.9194 - val_loss: 1.2701\n",
            "Epoch 29/80\n",
            "20/20 [==============================] - 0s 7ms/step - loss: 0.9197 - val_loss: 1.2601\n",
            "Epoch 30/80\n",
            "20/20 [==============================] - 0s 8ms/step - loss: 0.9163 - val_loss: 1.2667\n",
            "Epoch 31/80\n",
            "20/20 [==============================] - 0s 7ms/step - loss: 0.9229 - val_loss: 1.2326\n",
            "Epoch 32/80\n",
            "20/20 [==============================] - 0s 7ms/step - loss: 0.9172 - val_loss: 1.2767\n",
            "Epoch 33/80\n",
            "20/20 [==============================] - 0s 7ms/step - loss: 0.9128 - val_loss: 1.2953\n",
            "Epoch 34/80\n",
            "20/20 [==============================] - 0s 7ms/step - loss: 0.9046 - val_loss: 1.2866\n",
            "Epoch 35/80\n",
            "20/20 [==============================] - 0s 7ms/step - loss: 0.9007 - val_loss: 1.2435\n",
            "Epoch 36/80\n",
            "20/20 [==============================] - 0s 8ms/step - loss: 0.9080 - val_loss: 1.3067\n",
            "Epoch 37/80\n",
            "20/20 [==============================] - 0s 7ms/step - loss: 0.8942 - val_loss: 1.3122\n",
            "Epoch 38/80\n",
            "20/20 [==============================] - 0s 7ms/step - loss: 0.8837 - val_loss: 1.3067\n",
            "Epoch 39/80\n",
            "20/20 [==============================] - 0s 7ms/step - loss: 0.8807 - val_loss: 1.3262\n",
            "Epoch 40/80\n",
            "20/20 [==============================] - 0s 7ms/step - loss: 0.8729 - val_loss: 1.3150\n",
            "Epoch 41/80\n",
            "20/20 [==============================] - 0s 7ms/step - loss: 0.8721 - val_loss: 1.3296\n",
            "Epoch 42/80\n",
            "20/20 [==============================] - 0s 8ms/step - loss: 0.8644 - val_loss: 1.3802\n",
            "Epoch 43/80\n",
            "20/20 [==============================] - 0s 8ms/step - loss: 0.8643 - val_loss: 1.3534\n",
            "Epoch 44/80\n",
            "20/20 [==============================] - 0s 7ms/step - loss: 0.8597 - val_loss: 1.3664\n",
            "Epoch 45/80\n",
            "20/20 [==============================] - 0s 7ms/step - loss: 0.8542 - val_loss: 1.3771\n",
            "Epoch 46/80\n",
            "20/20 [==============================] - 0s 8ms/step - loss: 0.8531 - val_loss: 1.3651\n",
            "Epoch 47/80\n",
            "20/20 [==============================] - 0s 7ms/step - loss: 0.8531 - val_loss: 1.3471\n",
            "Epoch 48/80\n",
            "20/20 [==============================] - 0s 8ms/step - loss: 0.8448 - val_loss: 1.3042\n",
            "Epoch 49/80\n",
            "20/20 [==============================] - 0s 8ms/step - loss: 0.8605 - val_loss: 1.4864\n",
            "Epoch 50/80\n",
            "20/20 [==============================] - 0s 7ms/step - loss: 0.8536 - val_loss: 1.4184\n",
            "Epoch 51/80\n",
            "20/20 [==============================] - 0s 8ms/step - loss: 0.8758 - val_loss: 1.3501\n",
            "Epoch 52/80\n",
            "20/20 [==============================] - 0s 7ms/step - loss: 0.8421 - val_loss: 1.3482\n",
            "Epoch 53/80\n",
            "20/20 [==============================] - 0s 8ms/step - loss: 0.8386 - val_loss: 1.4119\n",
            "Epoch 54/80\n",
            "20/20 [==============================] - 0s 7ms/step - loss: 0.8412 - val_loss: 1.3166\n",
            "Epoch 55/80\n",
            "20/20 [==============================] - 0s 8ms/step - loss: 0.8598 - val_loss: 1.4096\n",
            "Epoch 56/80\n",
            "20/20 [==============================] - 0s 7ms/step - loss: 0.8419 - val_loss: 1.4979\n",
            "Epoch 57/80\n",
            "20/20 [==============================] - 0s 7ms/step - loss: 0.8369 - val_loss: 1.3416\n",
            "Epoch 58/80\n",
            "20/20 [==============================] - 0s 7ms/step - loss: 0.8344 - val_loss: 1.4359\n",
            "Epoch 59/80\n",
            "20/20 [==============================] - 0s 7ms/step - loss: 0.8267 - val_loss: 1.4625\n",
            "Epoch 60/80\n",
            "20/20 [==============================] - 0s 8ms/step - loss: 0.8199 - val_loss: 1.4028\n",
            "Epoch 61/80\n",
            "20/20 [==============================] - 0s 7ms/step - loss: 0.8258 - val_loss: 1.3800\n",
            "Epoch 62/80\n",
            "20/20 [==============================] - 0s 8ms/step - loss: 0.8235 - val_loss: 1.4588\n",
            "Epoch 63/80\n",
            "20/20 [==============================] - 0s 7ms/step - loss: 0.8207 - val_loss: 1.3679\n",
            "Epoch 64/80\n",
            "20/20 [==============================] - 0s 7ms/step - loss: 0.8159 - val_loss: 1.4255\n",
            "Epoch 65/80\n",
            "20/20 [==============================] - 0s 7ms/step - loss: 0.8155 - val_loss: 1.4889\n",
            "Epoch 66/80\n",
            "20/20 [==============================] - 0s 7ms/step - loss: 0.8201 - val_loss: 1.4276\n",
            "Epoch 67/80\n",
            "20/20 [==============================] - 0s 7ms/step - loss: 0.8113 - val_loss: 1.4475\n",
            "Epoch 68/80\n",
            "20/20 [==============================] - 0s 8ms/step - loss: 0.8067 - val_loss: 1.4356\n",
            "Epoch 69/80\n",
            "20/20 [==============================] - 0s 8ms/step - loss: 0.8134 - val_loss: 1.4287\n",
            "Epoch 70/80\n",
            "20/20 [==============================] - 0s 7ms/step - loss: 0.8210 - val_loss: 1.4954\n",
            "Epoch 71/80\n",
            "20/20 [==============================] - 0s 7ms/step - loss: 0.8118 - val_loss: 1.5010\n",
            "Epoch 72/80\n",
            "20/20 [==============================] - 0s 7ms/step - loss: 0.8026 - val_loss: 1.4263\n",
            "Epoch 73/80\n",
            "20/20 [==============================] - 0s 8ms/step - loss: 0.7998 - val_loss: 1.4317\n",
            "Epoch 74/80\n",
            "20/20 [==============================] - 0s 7ms/step - loss: 0.8120 - val_loss: 1.4469\n",
            "Epoch 75/80\n",
            "20/20 [==============================] - 0s 8ms/step - loss: 0.7969 - val_loss: 1.4622\n",
            "Epoch 76/80\n",
            "20/20 [==============================] - 0s 7ms/step - loss: 0.7940 - val_loss: 1.4751\n",
            "Epoch 77/80\n",
            "20/20 [==============================] - 0s 7ms/step - loss: 0.7938 - val_loss: 1.4263\n",
            "Epoch 78/80\n",
            "20/20 [==============================] - 0s 8ms/step - loss: 0.7953 - val_loss: 1.4804\n",
            "Epoch 79/80\n",
            "20/20 [==============================] - 0s 7ms/step - loss: 0.7898 - val_loss: 1.4634\n",
            "Epoch 80/80\n",
            "20/20 [==============================] - 0s 8ms/step - loss: 0.7864 - val_loss: 1.4596\n"
          ],
          "name": "stdout"
        }
      ]
    },
    {
      "cell_type": "code",
      "metadata": {
        "id": "GENWQzCa6y8v",
        "colab_type": "code",
        "outputId": "5b407358-6a9a-45d8-990d-35be31bc9a7f",
        "colab": {
          "base_uri": "https://localhost:8080/",
          "height": 282
        }
      },
      "source": [
        "plt.plot(r.history['loss'],label='loss')\n",
        "plt.plot(r.history['val_loss'],label='val_loss')\n",
        "plt.legend()"
      ],
      "execution_count": 0,
      "outputs": [
        {
          "output_type": "execute_result",
          "data": {
            "text/plain": [
              "<matplotlib.legend.Legend at 0x7f90814d4390>"
            ]
          },
          "metadata": {
            "tags": []
          },
          "execution_count": 26
        },
        {
          "output_type": "display_data",
          "data": {
            "image/png": "[encoded data removed]",
            "text/plain": [
              "<Figure size 432x288 with 1 Axes>"
            ]
          },
          "metadata": {
            "tags": [],
            "needs_background": "light"
          }
        }
      ]
    },
    {
      "cell_type": "code",
      "metadata": {
        "id": "rlkgBlW66-IR",
        "colab_type": "code",
        "outputId": "b4efa682-60dd-4cb2-d240-be931c2474ef",
        "colab": {
          "base_uri": "https://localhost:8080/",
          "height": 298
        }
      },
      "source": [
        "#one step forecast using true targets\n",
        "#Note: even the one step forecast fails badly\n",
        "\n",
        "outputs= model.predict(X)\n",
        "print(outputs.shape)\n",
        "predictions= outputs[:,0]\n",
        "\n",
        "plt.plot(Y,label='targets')\n",
        "plt.plot(predictions,label='predictions')\n",
        "plt.title(\"Linear Regression Predictions\")\n",
        "plt.legend()\n",
        "plt.show()"
      ],
      "execution_count": 0,
      "outputs": [
        {
          "output_type": "stream",
          "text": [
            "(1248, 1)\n"
          ],
          "name": "stdout"
        },
        {
          "output_type": "display_data",
          "data": {
            "image/png": "[encoded data removed]",
            "text/plain": [
              "<Figure size 432x288 with 1 Axes>"
            ]
          },
          "metadata": {
            "tags": [],
            "needs_background": "light"
          }
        }
      ]
    },
    {
      "cell_type": "code",
      "metadata": {
        "id": "rZinXrNi7KVW",
        "colab_type": "code",
        "outputId": "3c2e0b90-1403-4106-d668-4f8e5eac6039",
        "colab": {
          "base_uri": "https://localhost:8080/",
          "height": 282
        }
      },
      "source": [
        "#Multi-Step Forecast\n",
        "\n",
        "validation_target= Y[-N//2:]\n",
        "validation_predictions= []\n",
        "\n",
        "#last train input\n",
        "last_x= X[-N//2] #1D array of length T\n",
        "\n",
        "while len(validation_predictions)<len(validation_target):\n",
        "  p= model.predict(last_x.reshape(1,-1))[0,0] \n",
        "\n",
        "  #update prediction_list\n",
        "  validation_predictions.append(p)\n",
        "\n",
        "  #make the new input\n",
        "  last_x= np.roll(last_x,-1)\n",
        "  last_x[-1]= p\n",
        "\n",
        "plt.plot(validation_target,label='forecast target')\n",
        "plt.plot(validation_predictions, label='forecast prediction')\n",
        "plt.legend()\n",
        "\n",
        "#Not a intimidating Result"
      ],
      "execution_count": 0,
      "outputs": [
        {
          "output_type": "execute_result",
          "data": {
            "text/plain": [
              "<matplotlib.legend.Legend at 0x7f907dc96048>"
            ]
          },
          "metadata": {
            "tags": []
          },
          "execution_count": 28
        },
        {
          "output_type": "display_data",
          "data": {
            "image/png": "[encoded data removed]",
            "text/plain": [
              "<Figure size 432x288 with 1 Axes>"
            ]
          },
          "metadata": {
            "tags": [],
            "needs_background": "light"
          }
        }
      ]
    },
    {
      "cell_type": "code",
      "metadata": {
        "id": "zjTxkuaC7T8s",
        "colab_type": "code",
        "colab": {}
      },
      "source": [
        "#3rdModel for Prediction as previous model results were not intimidating\n",
        "\n",
        "input_data = df[['open','high','low','close','volume']].values\n",
        "targets = df['Return'].values\n",
        "\n"
      ],
      "execution_count": 0,
      "outputs": []
    },
    {
      "cell_type": "code",
      "metadata": {
        "id": "kSBi67z_8USe",
        "colab_type": "code",
        "colab": {}
      },
      "source": [
        "T = 10\n",
        "D = input_data.shape[1]\n",
        "N = len(input_data) - T"
      ],
      "execution_count": 0,
      "outputs": []
    },
    {
      "cell_type": "code",
      "metadata": {
        "id": "q3SkM38f8fbc",
        "colab_type": "code",
        "colab": {}
      },
      "source": [
        "#normalize the inputs\n",
        "\n",
        "Ntrain = len(input_data)*2 // 3\n",
        "scaler = StandardScaler()\n",
        "scaler.fit(input_data[:Ntrain + T])\n",
        "input_data = scaler.transform(input_data)\n"
      ],
      "execution_count": 0,
      "outputs": []
    },
    {
      "cell_type": "code",
      "metadata": {
        "id": "bgWtcgoq9FP6",
        "colab_type": "code",
        "colab": {}
      },
      "source": [
        "#Setup x_train and y_train\n",
        "x_train = np.zeros((Ntrain,T,D))\n",
        "y_train = np.zeros(Ntrain)\n",
        "\n",
        "for t in range(Ntrain):\n",
        "  x_train[t,:,:] = input_data[t:t+T]\n",
        "  y_train[t] = (targets[t+T] > 0)\n",
        "  \n"
      ],
      "execution_count": 0,
      "outputs": []
    },
    {
      "cell_type": "code",
      "metadata": {
        "id": "R5eFuk3p9sii",
        "colab_type": "code",
        "colab": {}
      },
      "source": [
        "#Setup x_test and y_test\n",
        "x_test = np.zeros((N - Ntrain,T,D))\n",
        "y_test = np.zeros(N - Ntrain)\n",
        "\n",
        "for u in range(N - Ntrain):\n",
        "  t = u + Ntrain\n",
        "  x_test[u,:,:] = input_data[t:t+T]\n",
        "  y_test[u] = (targets[t+T] > 0)"
      ],
      "execution_count": 0,
      "outputs": []
    },
    {
      "cell_type": "code",
      "metadata": {
        "id": "-Vx29J3E-ixQ",
        "colab_type": "code",
        "outputId": "619e3b5b-ed11-4cdc-c44e-b96a0f8ea2e6",
        "colab": {
          "base_uri": "https://localhost:8080/",
          "height": 1000
        }
      },
      "source": [
        "#make RNN\n",
        "i= Input(shape=(T,D))\n",
        "x= LSTM(50)(i)\n",
        "x= Dense(1, activation = 'sigmoid')(x)\n",
        "model= Model(i,x)\n",
        "model.compile(\n",
        "    loss='binary_crossentropy',\n",
        "    optimizer=Adam(lr=0.001),\n",
        "    metrics=['accuracy'],\n",
        "\n",
        ")\n",
        "\n",
        "#train RNN\n",
        "r= model.fit(    \n",
        "    x_train,y_train, batch_size=32,\n",
        "    epochs=300,\n",
        "    validation_data= (x_test,y_test)\n",
        ")"
      ],
      "execution_count": 0,
      "outputs": [
        {
          "output_type": "stream",
          "text": [
            "Epoch 1/300\n",
            "27/27 [==============================] - 1s 22ms/step - loss: 0.6954 - accuracy: 0.5125 - val_loss: 0.6919 - val_accuracy: 0.5244\n",
            "Epoch 2/300\n",
            "27/27 [==============================] - 0s 7ms/step - loss: 0.6910 - accuracy: 0.5268 - val_loss: 0.6945 - val_accuracy: 0.4927\n",
            "Epoch 3/300\n",
            "27/27 [==============================] - 0s 7ms/step - loss: 0.6926 - accuracy: 0.5125 - val_loss: 0.6922 - val_accuracy: 0.5146\n",
            "Epoch 4/300\n",
            "27/27 [==============================] - 0s 7ms/step - loss: 0.6912 - accuracy: 0.5268 - val_loss: 0.6930 - val_accuracy: 0.4951\n",
            "Epoch 5/300\n",
            "27/27 [==============================] - 0s 7ms/step - loss: 0.6903 - accuracy: 0.5280 - val_loss: 0.6930 - val_accuracy: 0.4829\n",
            "Epoch 6/300\n",
            "27/27 [==============================] - 0s 9ms/step - loss: 0.6911 - accuracy: 0.5101 - val_loss: 0.7019 - val_accuracy: 0.4951\n",
            "Epoch 7/300\n",
            "27/27 [==============================] - 0s 8ms/step - loss: 0.6908 - accuracy: 0.5185 - val_loss: 0.6903 - val_accuracy: 0.5268\n",
            "Epoch 8/300\n",
            "27/27 [==============================] - 0s 9ms/step - loss: 0.6887 - accuracy: 0.5316 - val_loss: 0.6947 - val_accuracy: 0.4951\n",
            "Epoch 9/300\n",
            "27/27 [==============================] - 0s 8ms/step - loss: 0.6892 - accuracy: 0.5316 - val_loss: 0.6915 - val_accuracy: 0.5146\n",
            "Epoch 10/300\n",
            "27/27 [==============================] - 0s 8ms/step - loss: 0.6887 - accuracy: 0.5316 - val_loss: 0.6922 - val_accuracy: 0.5000\n",
            "Epoch 11/300\n",
            "27/27 [==============================] - 0s 8ms/step - loss: 0.6887 - accuracy: 0.5280 - val_loss: 0.6895 - val_accuracy: 0.5537\n",
            "Epoch 12/300\n",
            "27/27 [==============================] - 0s 8ms/step - loss: 0.6912 - accuracy: 0.5280 - val_loss: 0.6917 - val_accuracy: 0.5171\n",
            "Epoch 13/300\n",
            "27/27 [==============================] - 0s 9ms/step - loss: 0.6877 - accuracy: 0.5447 - val_loss: 0.6993 - val_accuracy: 0.4976\n",
            "Epoch 14/300\n",
            "27/27 [==============================] - 0s 8ms/step - loss: 0.6917 - accuracy: 0.5375 - val_loss: 0.6925 - val_accuracy: 0.4927\n",
            "Epoch 15/300\n",
            "27/27 [==============================] - 0s 7ms/step - loss: 0.6869 - accuracy: 0.5375 - val_loss: 0.6953 - val_accuracy: 0.4927\n",
            "Epoch 16/300\n",
            "27/27 [==============================] - 0s 8ms/step - loss: 0.6867 - accuracy: 0.5328 - val_loss: 0.6939 - val_accuracy: 0.4976\n",
            "Epoch 17/300\n",
            "27/27 [==============================] - 0s 7ms/step - loss: 0.6860 - accuracy: 0.5459 - val_loss: 0.6920 - val_accuracy: 0.5073\n",
            "Epoch 18/300\n",
            "27/27 [==============================] - 0s 8ms/step - loss: 0.6888 - accuracy: 0.5256 - val_loss: 0.6953 - val_accuracy: 0.4902\n",
            "Epoch 19/300\n",
            "27/27 [==============================] - 0s 8ms/step - loss: 0.6860 - accuracy: 0.5387 - val_loss: 0.6897 - val_accuracy: 0.5512\n",
            "Epoch 20/300\n",
            "27/27 [==============================] - 0s 8ms/step - loss: 0.6857 - accuracy: 0.5483 - val_loss: 0.6940 - val_accuracy: 0.4951\n",
            "Epoch 21/300\n",
            "27/27 [==============================] - 0s 8ms/step - loss: 0.6859 - accuracy: 0.5387 - val_loss: 0.6929 - val_accuracy: 0.5049\n",
            "Epoch 22/300\n",
            "27/27 [==============================] - 0s 9ms/step - loss: 0.6861 - accuracy: 0.5554 - val_loss: 0.6944 - val_accuracy: 0.4878\n",
            "Epoch 23/300\n",
            "27/27 [==============================] - 0s 8ms/step - loss: 0.6878 - accuracy: 0.5423 - val_loss: 0.6972 - val_accuracy: 0.4902\n",
            "Epoch 24/300\n",
            "27/27 [==============================] - 0s 9ms/step - loss: 0.6858 - accuracy: 0.5471 - val_loss: 0.6953 - val_accuracy: 0.4902\n",
            "Epoch 25/300\n",
            "27/27 [==============================] - 0s 8ms/step - loss: 0.6838 - accuracy: 0.5542 - val_loss: 0.6930 - val_accuracy: 0.5073\n",
            "Epoch 26/300\n",
            "27/27 [==============================] - 0s 8ms/step - loss: 0.6851 - accuracy: 0.5602 - val_loss: 0.6929 - val_accuracy: 0.5098\n",
            "Epoch 27/300\n",
            "27/27 [==============================] - 0s 9ms/step - loss: 0.6853 - accuracy: 0.5447 - val_loss: 0.6959 - val_accuracy: 0.4927\n",
            "Epoch 28/300\n",
            "27/27 [==============================] - 0s 9ms/step - loss: 0.6849 - accuracy: 0.5435 - val_loss: 0.6969 - val_accuracy: 0.4951\n",
            "Epoch 29/300\n",
            "27/27 [==============================] - 0s 8ms/step - loss: 0.6840 - accuracy: 0.5518 - val_loss: 0.6988 - val_accuracy: 0.4902\n",
            "Epoch 30/300\n",
            "27/27 [==============================] - 0s 9ms/step - loss: 0.6832 - accuracy: 0.5662 - val_loss: 0.6946 - val_accuracy: 0.5049\n",
            "Epoch 31/300\n",
            "27/27 [==============================] - 0s 9ms/step - loss: 0.6840 - accuracy: 0.5685 - val_loss: 0.6941 - val_accuracy: 0.5073\n",
            "Epoch 32/300\n",
            "27/27 [==============================] - 0s 9ms/step - loss: 0.6823 - accuracy: 0.5805 - val_loss: 0.6951 - val_accuracy: 0.5073\n",
            "Epoch 33/300\n",
            "27/27 [==============================] - 0s 8ms/step - loss: 0.6837 - accuracy: 0.5507 - val_loss: 0.6944 - val_accuracy: 0.5171\n",
            "Epoch 34/300\n",
            "27/27 [==============================] - 0s 9ms/step - loss: 0.6822 - accuracy: 0.5590 - val_loss: 0.6947 - val_accuracy: 0.5146\n",
            "Epoch 35/300\n",
            "27/27 [==============================] - 0s 8ms/step - loss: 0.6846 - accuracy: 0.5662 - val_loss: 0.7000 - val_accuracy: 0.4854\n",
            "Epoch 36/300\n",
            "27/27 [==============================] - 0s 8ms/step - loss: 0.6807 - accuracy: 0.5578 - val_loss: 0.6954 - val_accuracy: 0.5195\n",
            "Epoch 37/300\n",
            "27/27 [==============================] - 0s 8ms/step - loss: 0.6814 - accuracy: 0.5614 - val_loss: 0.6976 - val_accuracy: 0.4951\n",
            "Epoch 38/300\n",
            "27/27 [==============================] - 0s 7ms/step - loss: 0.6782 - accuracy: 0.5745 - val_loss: 0.6998 - val_accuracy: 0.4805\n",
            "Epoch 39/300\n",
            "27/27 [==============================] - 0s 8ms/step - loss: 0.6782 - accuracy: 0.5685 - val_loss: 0.6949 - val_accuracy: 0.5146\n",
            "Epoch 40/300\n",
            "27/27 [==============================] - 0s 9ms/step - loss: 0.6783 - accuracy: 0.5614 - val_loss: 0.6966 - val_accuracy: 0.5122\n",
            "Epoch 41/300\n",
            "27/27 [==============================] - 0s 8ms/step - loss: 0.6768 - accuracy: 0.5852 - val_loss: 0.6948 - val_accuracy: 0.5220\n",
            "Epoch 42/300\n",
            "27/27 [==============================] - 0s 9ms/step - loss: 0.6774 - accuracy: 0.5685 - val_loss: 0.6934 - val_accuracy: 0.5293\n",
            "Epoch 43/300\n",
            "27/27 [==============================] - 0s 9ms/step - loss: 0.6760 - accuracy: 0.5745 - val_loss: 0.6965 - val_accuracy: 0.5195\n",
            "Epoch 44/300\n",
            "27/27 [==============================] - 0s 9ms/step - loss: 0.6761 - accuracy: 0.5733 - val_loss: 0.6953 - val_accuracy: 0.5244\n",
            "Epoch 45/300\n",
            "27/27 [==============================] - 0s 10ms/step - loss: 0.6767 - accuracy: 0.5638 - val_loss: 0.6972 - val_accuracy: 0.5122\n",
            "Epoch 46/300\n",
            "27/27 [==============================] - 0s 8ms/step - loss: 0.6740 - accuracy: 0.5769 - val_loss: 0.6949 - val_accuracy: 0.5220\n",
            "Epoch 47/300\n",
            "27/27 [==============================] - 0s 9ms/step - loss: 0.6764 - accuracy: 0.5697 - val_loss: 0.6997 - val_accuracy: 0.5000\n",
            "Epoch 48/300\n",
            "27/27 [==============================] - 0s 8ms/step - loss: 0.6744 - accuracy: 0.5697 - val_loss: 0.6994 - val_accuracy: 0.4976\n",
            "Epoch 49/300\n",
            "27/27 [==============================] - 0s 9ms/step - loss: 0.6747 - accuracy: 0.5745 - val_loss: 0.6936 - val_accuracy: 0.5512\n",
            "Epoch 50/300\n",
            "27/27 [==============================] - 0s 8ms/step - loss: 0.6731 - accuracy: 0.5650 - val_loss: 0.6985 - val_accuracy: 0.5171\n",
            "Epoch 51/300\n",
            "27/27 [==============================] - 0s 9ms/step - loss: 0.6742 - accuracy: 0.5626 - val_loss: 0.6954 - val_accuracy: 0.5244\n",
            "Epoch 52/300\n",
            "27/27 [==============================] - 0s 8ms/step - loss: 0.6729 - accuracy: 0.5566 - val_loss: 0.6997 - val_accuracy: 0.5049\n",
            "Epoch 53/300\n",
            "27/27 [==============================] - 0s 8ms/step - loss: 0.6722 - accuracy: 0.5733 - val_loss: 0.6976 - val_accuracy: 0.5268\n",
            "Epoch 54/300\n",
            "27/27 [==============================] - 0s 7ms/step - loss: 0.6768 - accuracy: 0.5816 - val_loss: 0.7046 - val_accuracy: 0.4854\n",
            "Epoch 55/300\n",
            "27/27 [==============================] - 0s 8ms/step - loss: 0.6715 - accuracy: 0.5828 - val_loss: 0.6967 - val_accuracy: 0.5171\n",
            "Epoch 56/300\n",
            "27/27 [==============================] - 0s 8ms/step - loss: 0.6718 - accuracy: 0.5816 - val_loss: 0.6962 - val_accuracy: 0.5244\n",
            "Epoch 57/300\n",
            "27/27 [==============================] - 0s 7ms/step - loss: 0.6699 - accuracy: 0.5805 - val_loss: 0.6972 - val_accuracy: 0.5293\n",
            "Epoch 58/300\n",
            "27/27 [==============================] - 0s 7ms/step - loss: 0.6722 - accuracy: 0.5805 - val_loss: 0.6982 - val_accuracy: 0.5244\n",
            "Epoch 59/300\n",
            "27/27 [==============================] - 0s 7ms/step - loss: 0.6694 - accuracy: 0.5900 - val_loss: 0.6956 - val_accuracy: 0.5463\n",
            "Epoch 60/300\n",
            "27/27 [==============================] - 0s 7ms/step - loss: 0.6709 - accuracy: 0.5709 - val_loss: 0.6978 - val_accuracy: 0.5171\n",
            "Epoch 61/300\n",
            "27/27 [==============================] - 0s 7ms/step - loss: 0.6694 - accuracy: 0.5816 - val_loss: 0.7033 - val_accuracy: 0.4878\n",
            "Epoch 62/300\n",
            "27/27 [==============================] - 0s 8ms/step - loss: 0.6678 - accuracy: 0.5888 - val_loss: 0.6962 - val_accuracy: 0.5317\n",
            "Epoch 63/300\n",
            "27/27 [==============================] - 0s 7ms/step - loss: 0.6678 - accuracy: 0.5983 - val_loss: 0.7014 - val_accuracy: 0.5024\n",
            "Epoch 64/300\n",
            "27/27 [==============================] - 0s 8ms/step - loss: 0.6663 - accuracy: 0.5852 - val_loss: 0.7002 - val_accuracy: 0.5049\n",
            "Epoch 65/300\n",
            "27/27 [==============================] - 0s 7ms/step - loss: 0.6658 - accuracy: 0.5828 - val_loss: 0.7012 - val_accuracy: 0.5000\n",
            "Epoch 66/300\n",
            "27/27 [==============================] - 0s 8ms/step - loss: 0.6670 - accuracy: 0.5840 - val_loss: 0.6973 - val_accuracy: 0.5317\n",
            "Epoch 67/300\n",
            "27/27 [==============================] - 0s 7ms/step - loss: 0.6640 - accuracy: 0.5936 - val_loss: 0.7046 - val_accuracy: 0.4927\n",
            "Epoch 68/300\n",
            "27/27 [==============================] - 0s 7ms/step - loss: 0.6634 - accuracy: 0.5864 - val_loss: 0.7031 - val_accuracy: 0.4878\n",
            "Epoch 69/300\n",
            "27/27 [==============================] - 0s 7ms/step - loss: 0.6624 - accuracy: 0.5864 - val_loss: 0.7072 - val_accuracy: 0.4878\n",
            "Epoch 70/300\n",
            "27/27 [==============================] - 0s 8ms/step - loss: 0.6621 - accuracy: 0.5828 - val_loss: 0.6972 - val_accuracy: 0.5171\n",
            "Epoch 71/300\n",
            "27/27 [==============================] - 0s 8ms/step - loss: 0.6627 - accuracy: 0.5959 - val_loss: 0.7045 - val_accuracy: 0.4878\n",
            "Epoch 72/300\n",
            "27/27 [==============================] - 0s 8ms/step - loss: 0.6600 - accuracy: 0.5888 - val_loss: 0.6993 - val_accuracy: 0.5195\n",
            "Epoch 73/300\n",
            "27/27 [==============================] - 0s 8ms/step - loss: 0.6601 - accuracy: 0.6019 - val_loss: 0.7015 - val_accuracy: 0.5220\n",
            "Epoch 74/300\n",
            "27/27 [==============================] - 0s 8ms/step - loss: 0.6580 - accuracy: 0.5995 - val_loss: 0.6983 - val_accuracy: 0.5268\n",
            "Epoch 75/300\n",
            "27/27 [==============================] - 0s 9ms/step - loss: 0.6593 - accuracy: 0.6031 - val_loss: 0.7027 - val_accuracy: 0.5073\n",
            "Epoch 76/300\n",
            "27/27 [==============================] - 0s 8ms/step - loss: 0.6560 - accuracy: 0.5971 - val_loss: 0.7034 - val_accuracy: 0.4976\n",
            "Epoch 77/300\n",
            "27/27 [==============================] - 0s 9ms/step - loss: 0.6549 - accuracy: 0.6103 - val_loss: 0.7041 - val_accuracy: 0.5073\n",
            "Epoch 78/300\n",
            "27/27 [==============================] - 0s 8ms/step - loss: 0.6555 - accuracy: 0.6007 - val_loss: 0.6999 - val_accuracy: 0.5268\n",
            "Epoch 79/300\n",
            "27/27 [==============================] - 0s 8ms/step - loss: 0.6586 - accuracy: 0.5948 - val_loss: 0.7033 - val_accuracy: 0.5098\n",
            "Epoch 80/300\n",
            "27/27 [==============================] - 0s 8ms/step - loss: 0.6530 - accuracy: 0.5995 - val_loss: 0.7091 - val_accuracy: 0.5000\n",
            "Epoch 81/300\n",
            "27/27 [==============================] - 0s 7ms/step - loss: 0.6531 - accuracy: 0.6019 - val_loss: 0.7089 - val_accuracy: 0.4829\n",
            "Epoch 82/300\n",
            "27/27 [==============================] - 0s 7ms/step - loss: 0.6509 - accuracy: 0.5959 - val_loss: 0.7022 - val_accuracy: 0.5000\n",
            "Epoch 83/300\n",
            "27/27 [==============================] - 0s 8ms/step - loss: 0.6462 - accuracy: 0.6114 - val_loss: 0.7068 - val_accuracy: 0.4976\n",
            "Epoch 84/300\n",
            "27/27 [==============================] - 0s 8ms/step - loss: 0.6444 - accuracy: 0.6114 - val_loss: 0.7030 - val_accuracy: 0.5220\n",
            "Epoch 85/300\n",
            "27/27 [==============================] - 0s 7ms/step - loss: 0.6452 - accuracy: 0.6138 - val_loss: 0.7115 - val_accuracy: 0.4976\n",
            "Epoch 86/300\n",
            "27/27 [==============================] - 0s 7ms/step - loss: 0.6438 - accuracy: 0.6174 - val_loss: 0.7076 - val_accuracy: 0.4878\n",
            "Epoch 87/300\n",
            "27/27 [==============================] - 0s 7ms/step - loss: 0.6421 - accuracy: 0.6138 - val_loss: 0.7104 - val_accuracy: 0.5000\n",
            "Epoch 88/300\n",
            "27/27 [==============================] - 0s 7ms/step - loss: 0.6388 - accuracy: 0.6103 - val_loss: 0.7136 - val_accuracy: 0.4927\n",
            "Epoch 89/300\n",
            "27/27 [==============================] - 0s 8ms/step - loss: 0.6379 - accuracy: 0.6138 - val_loss: 0.7126 - val_accuracy: 0.4976\n",
            "Epoch 90/300\n",
            "27/27 [==============================] - 0s 8ms/step - loss: 0.6367 - accuracy: 0.6222 - val_loss: 0.7093 - val_accuracy: 0.5000\n",
            "Epoch 91/300\n",
            "27/27 [==============================] - 0s 7ms/step - loss: 0.6354 - accuracy: 0.6162 - val_loss: 0.7107 - val_accuracy: 0.4902\n",
            "Epoch 92/300\n",
            "27/27 [==============================] - 0s 8ms/step - loss: 0.6341 - accuracy: 0.6317 - val_loss: 0.7171 - val_accuracy: 0.4951\n",
            "Epoch 93/300\n",
            "27/27 [==============================] - 0s 9ms/step - loss: 0.6308 - accuracy: 0.6246 - val_loss: 0.7158 - val_accuracy: 0.4902\n",
            "Epoch 94/300\n",
            "27/27 [==============================] - 0s 8ms/step - loss: 0.6322 - accuracy: 0.6198 - val_loss: 0.7147 - val_accuracy: 0.4829\n",
            "Epoch 95/300\n",
            "27/27 [==============================] - 0s 7ms/step - loss: 0.6267 - accuracy: 0.6269 - val_loss: 0.7183 - val_accuracy: 0.4805\n",
            "Epoch 96/300\n",
            "27/27 [==============================] - 0s 8ms/step - loss: 0.6247 - accuracy: 0.6222 - val_loss: 0.7224 - val_accuracy: 0.4780\n",
            "Epoch 97/300\n",
            "27/27 [==============================] - 0s 7ms/step - loss: 0.6199 - accuracy: 0.6484 - val_loss: 0.7205 - val_accuracy: 0.4707\n",
            "Epoch 98/300\n",
            "27/27 [==============================] - 0s 8ms/step - loss: 0.6242 - accuracy: 0.6198 - val_loss: 0.7235 - val_accuracy: 0.4878\n",
            "Epoch 99/300\n",
            "27/27 [==============================] - 0s 9ms/step - loss: 0.6169 - accuracy: 0.6293 - val_loss: 0.7212 - val_accuracy: 0.4683\n",
            "Epoch 100/300\n",
            "27/27 [==============================] - 0s 9ms/step - loss: 0.6176 - accuracy: 0.6269 - val_loss: 0.7221 - val_accuracy: 0.4976\n",
            "Epoch 101/300\n",
            "27/27 [==============================] - 0s 8ms/step - loss: 0.6120 - accuracy: 0.6377 - val_loss: 0.7242 - val_accuracy: 0.4878\n",
            "Epoch 102/300\n",
            "27/27 [==============================] - 0s 8ms/step - loss: 0.6097 - accuracy: 0.6424 - val_loss: 0.7233 - val_accuracy: 0.4805\n",
            "Epoch 103/300\n",
            "27/27 [==============================] - 0s 8ms/step - loss: 0.6099 - accuracy: 0.6353 - val_loss: 0.7275 - val_accuracy: 0.4902\n",
            "Epoch 104/300\n",
            "27/27 [==============================] - 0s 8ms/step - loss: 0.6119 - accuracy: 0.6496 - val_loss: 0.7261 - val_accuracy: 0.4805\n",
            "Epoch 105/300\n",
            "27/27 [==============================] - 0s 8ms/step - loss: 0.6027 - accuracy: 0.6567 - val_loss: 0.7235 - val_accuracy: 0.4756\n",
            "Epoch 106/300\n",
            "27/27 [==============================] - 0s 8ms/step - loss: 0.6084 - accuracy: 0.6496 - val_loss: 0.7251 - val_accuracy: 0.4829\n",
            "Epoch 107/300\n",
            "27/27 [==============================] - 0s 8ms/step - loss: 0.6051 - accuracy: 0.6532 - val_loss: 0.7292 - val_accuracy: 0.4878\n",
            "Epoch 108/300\n",
            "27/27 [==============================] - 0s 7ms/step - loss: 0.6007 - accuracy: 0.6424 - val_loss: 0.7254 - val_accuracy: 0.4780\n",
            "Epoch 109/300\n",
            "27/27 [==============================] - 0s 7ms/step - loss: 0.5938 - accuracy: 0.6722 - val_loss: 0.7325 - val_accuracy: 0.4756\n",
            "Epoch 110/300\n",
            "27/27 [==============================] - 0s 7ms/step - loss: 0.6006 - accuracy: 0.6615 - val_loss: 0.7316 - val_accuracy: 0.4780\n",
            "Epoch 111/300\n",
            "27/27 [==============================] - 0s 8ms/step - loss: 0.5963 - accuracy: 0.6472 - val_loss: 0.7231 - val_accuracy: 0.5049\n",
            "Epoch 112/300\n",
            "27/27 [==============================] - 0s 7ms/step - loss: 0.5896 - accuracy: 0.6591 - val_loss: 0.7316 - val_accuracy: 0.4854\n",
            "Epoch 113/300\n",
            "27/27 [==============================] - 0s 7ms/step - loss: 0.5863 - accuracy: 0.6687 - val_loss: 0.7324 - val_accuracy: 0.4854\n",
            "Epoch 114/300\n",
            "27/27 [==============================] - 0s 8ms/step - loss: 0.5852 - accuracy: 0.6639 - val_loss: 0.7413 - val_accuracy: 0.4854\n",
            "Epoch 115/300\n",
            "27/27 [==============================] - 0s 8ms/step - loss: 0.5872 - accuracy: 0.6770 - val_loss: 0.7367 - val_accuracy: 0.4756\n",
            "Epoch 116/300\n",
            "27/27 [==============================] - 0s 7ms/step - loss: 0.5817 - accuracy: 0.6853 - val_loss: 0.7383 - val_accuracy: 0.4976\n",
            "Epoch 117/300\n",
            "27/27 [==============================] - 0s 8ms/step - loss: 0.5720 - accuracy: 0.6806 - val_loss: 0.7410 - val_accuracy: 0.4927\n",
            "Epoch 118/300\n",
            "27/27 [==============================] - 0s 7ms/step - loss: 0.5729 - accuracy: 0.6901 - val_loss: 0.7382 - val_accuracy: 0.4780\n",
            "Epoch 119/300\n",
            "27/27 [==============================] - 0s 7ms/step - loss: 0.5683 - accuracy: 0.6865 - val_loss: 0.7414 - val_accuracy: 0.4976\n",
            "Epoch 120/300\n",
            "27/27 [==============================] - 0s 7ms/step - loss: 0.5737 - accuracy: 0.6865 - val_loss: 0.7337 - val_accuracy: 0.5000\n",
            "Epoch 121/300\n",
            "27/27 [==============================] - 0s 9ms/step - loss: 0.5655 - accuracy: 0.6925 - val_loss: 0.7387 - val_accuracy: 0.5049\n",
            "Epoch 122/300\n",
            "27/27 [==============================] - 0s 7ms/step - loss: 0.5645 - accuracy: 0.6853 - val_loss: 0.7407 - val_accuracy: 0.4829\n",
            "Epoch 123/300\n",
            "27/27 [==============================] - 0s 7ms/step - loss: 0.5706 - accuracy: 0.6758 - val_loss: 0.7434 - val_accuracy: 0.4707\n",
            "Epoch 124/300\n",
            "27/27 [==============================] - 0s 7ms/step - loss: 0.5741 - accuracy: 0.6770 - val_loss: 0.7293 - val_accuracy: 0.5049\n",
            "Epoch 125/300\n",
            "27/27 [==============================] - 0s 7ms/step - loss: 0.5614 - accuracy: 0.6853 - val_loss: 0.7406 - val_accuracy: 0.4878\n",
            "Epoch 126/300\n",
            "27/27 [==============================] - 0s 8ms/step - loss: 0.5546 - accuracy: 0.6853 - val_loss: 0.7456 - val_accuracy: 0.4878\n",
            "Epoch 127/300\n",
            "27/27 [==============================] - 0s 8ms/step - loss: 0.5545 - accuracy: 0.7008 - val_loss: 0.7386 - val_accuracy: 0.4976\n",
            "Epoch 128/300\n",
            "27/27 [==============================] - 0s 8ms/step - loss: 0.5502 - accuracy: 0.7068 - val_loss: 0.7525 - val_accuracy: 0.4829\n",
            "Epoch 129/300\n",
            "27/27 [==============================] - 0s 8ms/step - loss: 0.5508 - accuracy: 0.7056 - val_loss: 0.7424 - val_accuracy: 0.4927\n",
            "Epoch 130/300\n",
            "27/27 [==============================] - 0s 8ms/step - loss: 0.5448 - accuracy: 0.7056 - val_loss: 0.7480 - val_accuracy: 0.4927\n",
            "Epoch 131/300\n",
            "27/27 [==============================] - 0s 7ms/step - loss: 0.5440 - accuracy: 0.6961 - val_loss: 0.7490 - val_accuracy: 0.5073\n",
            "Epoch 132/300\n",
            "27/27 [==============================] - 0s 7ms/step - loss: 0.5367 - accuracy: 0.7163 - val_loss: 0.7518 - val_accuracy: 0.4780\n",
            "Epoch 133/300\n",
            "27/27 [==============================] - 0s 7ms/step - loss: 0.5403 - accuracy: 0.7092 - val_loss: 0.7473 - val_accuracy: 0.5049\n",
            "Epoch 134/300\n",
            "27/27 [==============================] - 0s 7ms/step - loss: 0.5388 - accuracy: 0.7163 - val_loss: 0.7511 - val_accuracy: 0.4902\n",
            "Epoch 135/300\n",
            "27/27 [==============================] - 0s 8ms/step - loss: 0.5330 - accuracy: 0.7104 - val_loss: 0.7617 - val_accuracy: 0.4683\n",
            "Epoch 136/300\n",
            "27/27 [==============================] - 0s 8ms/step - loss: 0.5322 - accuracy: 0.7068 - val_loss: 0.7585 - val_accuracy: 0.4683\n",
            "Epoch 137/300\n",
            "27/27 [==============================] - 0s 8ms/step - loss: 0.5285 - accuracy: 0.7187 - val_loss: 0.7596 - val_accuracy: 0.4854\n",
            "Epoch 138/300\n",
            "27/27 [==============================] - 0s 8ms/step - loss: 0.5220 - accuracy: 0.7187 - val_loss: 0.7594 - val_accuracy: 0.4902\n",
            "Epoch 139/300\n",
            "27/27 [==============================] - 0s 8ms/step - loss: 0.5270 - accuracy: 0.7235 - val_loss: 0.7545 - val_accuracy: 0.4902\n",
            "Epoch 140/300\n",
            "27/27 [==============================] - 0s 8ms/step - loss: 0.5160 - accuracy: 0.7235 - val_loss: 0.7501 - val_accuracy: 0.5171\n",
            "Epoch 141/300\n",
            "27/27 [==============================] - 0s 8ms/step - loss: 0.5117 - accuracy: 0.7294 - val_loss: 0.7683 - val_accuracy: 0.4805\n",
            "Epoch 142/300\n",
            "27/27 [==============================] - 0s 8ms/step - loss: 0.5143 - accuracy: 0.7366 - val_loss: 0.7591 - val_accuracy: 0.4805\n",
            "Epoch 143/300\n",
            "27/27 [==============================] - 0s 8ms/step - loss: 0.5064 - accuracy: 0.7473 - val_loss: 0.7720 - val_accuracy: 0.5049\n",
            "Epoch 144/300\n",
            "27/27 [==============================] - 0s 9ms/step - loss: 0.5091 - accuracy: 0.7378 - val_loss: 0.7631 - val_accuracy: 0.5146\n",
            "Epoch 145/300\n",
            "27/27 [==============================] - 0s 8ms/step - loss: 0.5140 - accuracy: 0.7318 - val_loss: 0.7470 - val_accuracy: 0.5171\n",
            "Epoch 146/300\n",
            "27/27 [==============================] - 0s 8ms/step - loss: 0.4999 - accuracy: 0.7402 - val_loss: 0.7578 - val_accuracy: 0.5171\n",
            "Epoch 147/300\n",
            "27/27 [==============================] - 0s 8ms/step - loss: 0.4998 - accuracy: 0.7473 - val_loss: 0.7681 - val_accuracy: 0.5000\n",
            "Epoch 148/300\n",
            "27/27 [==============================] - 0s 8ms/step - loss: 0.5018 - accuracy: 0.7366 - val_loss: 0.7689 - val_accuracy: 0.4878\n",
            "Epoch 149/300\n",
            "27/27 [==============================] - 0s 9ms/step - loss: 0.5003 - accuracy: 0.7390 - val_loss: 0.7604 - val_accuracy: 0.5000\n",
            "Epoch 150/300\n",
            "27/27 [==============================] - 0s 8ms/step - loss: 0.4926 - accuracy: 0.7390 - val_loss: 0.7713 - val_accuracy: 0.4976\n",
            "Epoch 151/300\n",
            "27/27 [==============================] - 0s 8ms/step - loss: 0.4901 - accuracy: 0.7461 - val_loss: 0.7752 - val_accuracy: 0.4976\n",
            "Epoch 152/300\n",
            "27/27 [==============================] - 0s 8ms/step - loss: 0.4911 - accuracy: 0.7366 - val_loss: 0.7643 - val_accuracy: 0.5146\n",
            "Epoch 153/300\n",
            "27/27 [==============================] - 0s 9ms/step - loss: 0.4826 - accuracy: 0.7473 - val_loss: 0.7841 - val_accuracy: 0.5122\n",
            "Epoch 154/300\n",
            "27/27 [==============================] - 0s 9ms/step - loss: 0.4747 - accuracy: 0.7497 - val_loss: 0.7735 - val_accuracy: 0.5195\n",
            "Epoch 155/300\n",
            "27/27 [==============================] - 0s 9ms/step - loss: 0.4783 - accuracy: 0.7497 - val_loss: 0.7747 - val_accuracy: 0.5171\n",
            "Epoch 156/300\n",
            "27/27 [==============================] - 0s 9ms/step - loss: 0.4729 - accuracy: 0.7533 - val_loss: 0.7736 - val_accuracy: 0.5049\n",
            "Epoch 157/300\n",
            "27/27 [==============================] - 0s 9ms/step - loss: 0.4724 - accuracy: 0.7592 - val_loss: 0.7721 - val_accuracy: 0.5073\n",
            "Epoch 158/300\n",
            "27/27 [==============================] - 0s 9ms/step - loss: 0.4683 - accuracy: 0.7580 - val_loss: 0.7813 - val_accuracy: 0.5171\n",
            "Epoch 159/300\n",
            "27/27 [==============================] - 0s 8ms/step - loss: 0.4629 - accuracy: 0.7676 - val_loss: 0.7677 - val_accuracy: 0.5098\n",
            "Epoch 160/300\n",
            "27/27 [==============================] - 0s 9ms/step - loss: 0.4617 - accuracy: 0.7676 - val_loss: 0.7702 - val_accuracy: 0.5220\n",
            "Epoch 161/300\n",
            "27/27 [==============================] - 0s 9ms/step - loss: 0.4600 - accuracy: 0.7664 - val_loss: 0.8119 - val_accuracy: 0.5049\n",
            "Epoch 162/300\n",
            "27/27 [==============================] - 0s 8ms/step - loss: 0.4632 - accuracy: 0.7557 - val_loss: 0.8010 - val_accuracy: 0.5146\n",
            "Epoch 163/300\n",
            "27/27 [==============================] - 0s 8ms/step - loss: 0.4536 - accuracy: 0.7747 - val_loss: 0.7841 - val_accuracy: 0.5146\n",
            "Epoch 164/300\n",
            "27/27 [==============================] - 0s 7ms/step - loss: 0.4464 - accuracy: 0.7712 - val_loss: 0.7798 - val_accuracy: 0.5317\n",
            "Epoch 165/300\n",
            "27/27 [==============================] - 0s 8ms/step - loss: 0.4570 - accuracy: 0.7580 - val_loss: 0.8098 - val_accuracy: 0.5220\n",
            "Epoch 166/300\n",
            "27/27 [==============================] - 0s 7ms/step - loss: 0.4529 - accuracy: 0.7723 - val_loss: 0.7843 - val_accuracy: 0.5000\n",
            "Epoch 167/300\n",
            "27/27 [==============================] - 0s 7ms/step - loss: 0.4440 - accuracy: 0.7771 - val_loss: 0.7975 - val_accuracy: 0.5220\n",
            "Epoch 168/300\n",
            "27/27 [==============================] - 0s 7ms/step - loss: 0.4411 - accuracy: 0.7735 - val_loss: 0.7914 - val_accuracy: 0.5220\n",
            "Epoch 169/300\n",
            "27/27 [==============================] - 0s 8ms/step - loss: 0.4427 - accuracy: 0.7735 - val_loss: 0.7909 - val_accuracy: 0.5244\n",
            "Epoch 170/300\n",
            "27/27 [==============================] - 0s 7ms/step - loss: 0.4366 - accuracy: 0.7723 - val_loss: 0.7981 - val_accuracy: 0.5122\n",
            "Epoch 171/300\n",
            "27/27 [==============================] - 0s 7ms/step - loss: 0.4279 - accuracy: 0.7890 - val_loss: 0.8002 - val_accuracy: 0.5146\n",
            "Epoch 172/300\n",
            "27/27 [==============================] - 0s 7ms/step - loss: 0.4263 - accuracy: 0.7843 - val_loss: 0.8075 - val_accuracy: 0.5171\n",
            "Epoch 173/300\n",
            "27/27 [==============================] - 0s 7ms/step - loss: 0.4216 - accuracy: 0.7855 - val_loss: 0.8004 - val_accuracy: 0.5146\n",
            "Epoch 174/300\n",
            "27/27 [==============================] - 0s 7ms/step - loss: 0.4220 - accuracy: 0.7890 - val_loss: 0.7945 - val_accuracy: 0.5171\n",
            "Epoch 175/300\n",
            "27/27 [==============================] - 0s 7ms/step - loss: 0.4251 - accuracy: 0.7914 - val_loss: 0.8042 - val_accuracy: 0.5098\n",
            "Epoch 176/300\n",
            "27/27 [==============================] - 0s 7ms/step - loss: 0.4159 - accuracy: 0.7950 - val_loss: 0.8200 - val_accuracy: 0.5171\n",
            "Epoch 177/300\n",
            "27/27 [==============================] - 0s 7ms/step - loss: 0.4147 - accuracy: 0.7914 - val_loss: 0.8074 - val_accuracy: 0.5122\n",
            "Epoch 178/300\n",
            "27/27 [==============================] - 0s 7ms/step - loss: 0.4107 - accuracy: 0.7974 - val_loss: 0.8055 - val_accuracy: 0.5317\n",
            "Epoch 179/300\n",
            "27/27 [==============================] - 0s 7ms/step - loss: 0.4043 - accuracy: 0.8069 - val_loss: 0.8180 - val_accuracy: 0.5220\n",
            "Epoch 180/300\n",
            "27/27 [==============================] - 0s 7ms/step - loss: 0.4109 - accuracy: 0.7986 - val_loss: 0.8065 - val_accuracy: 0.5220\n",
            "Epoch 181/300\n",
            "27/27 [==============================] - 0s 8ms/step - loss: 0.4014 - accuracy: 0.7962 - val_loss: 0.8162 - val_accuracy: 0.5171\n",
            "Epoch 182/300\n",
            "27/27 [==============================] - 0s 8ms/step - loss: 0.3953 - accuracy: 0.7962 - val_loss: 0.8182 - val_accuracy: 0.5171\n",
            "Epoch 183/300\n",
            "27/27 [==============================] - 0s 7ms/step - loss: 0.3915 - accuracy: 0.8117 - val_loss: 0.8453 - val_accuracy: 0.5220\n",
            "Epoch 184/300\n",
            "27/27 [==============================] - 0s 8ms/step - loss: 0.3974 - accuracy: 0.8045 - val_loss: 0.8160 - val_accuracy: 0.5317\n",
            "Epoch 185/300\n",
            "27/27 [==============================] - 0s 7ms/step - loss: 0.3888 - accuracy: 0.8093 - val_loss: 0.8258 - val_accuracy: 0.5146\n",
            "Epoch 186/300\n",
            "27/27 [==============================] - 0s 7ms/step - loss: 0.3865 - accuracy: 0.8105 - val_loss: 0.8228 - val_accuracy: 0.5244\n",
            "Epoch 187/300\n",
            "27/27 [==============================] - 0s 7ms/step - loss: 0.3962 - accuracy: 0.8105 - val_loss: 0.8422 - val_accuracy: 0.5171\n",
            "Epoch 188/300\n",
            "27/27 [==============================] - 0s 7ms/step - loss: 0.3806 - accuracy: 0.8129 - val_loss: 0.8287 - val_accuracy: 0.5171\n",
            "Epoch 189/300\n",
            "27/27 [==============================] - 0s 7ms/step - loss: 0.3811 - accuracy: 0.8153 - val_loss: 0.8355 - val_accuracy: 0.5220\n",
            "Epoch 190/300\n",
            "27/27 [==============================] - 0s 7ms/step - loss: 0.3829 - accuracy: 0.8141 - val_loss: 0.8254 - val_accuracy: 0.5341\n",
            "Epoch 191/300\n",
            "27/27 [==============================] - 0s 7ms/step - loss: 0.3802 - accuracy: 0.8141 - val_loss: 0.8375 - val_accuracy: 0.5146\n",
            "Epoch 192/300\n",
            "27/27 [==============================] - 0s 7ms/step - loss: 0.3777 - accuracy: 0.8176 - val_loss: 0.8335 - val_accuracy: 0.5146\n",
            "Epoch 193/300\n",
            "27/27 [==============================] - 0s 7ms/step - loss: 0.3762 - accuracy: 0.8188 - val_loss: 0.8335 - val_accuracy: 0.5171\n",
            "Epoch 194/300\n",
            "27/27 [==============================] - 0s 7ms/step - loss: 0.3815 - accuracy: 0.8188 - val_loss: 0.8503 - val_accuracy: 0.5293\n",
            "Epoch 195/300\n",
            "27/27 [==============================] - 0s 9ms/step - loss: 0.3702 - accuracy: 0.8248 - val_loss: 0.8500 - val_accuracy: 0.5195\n",
            "Epoch 196/300\n",
            "27/27 [==============================] - 0s 7ms/step - loss: 0.3617 - accuracy: 0.8296 - val_loss: 0.8496 - val_accuracy: 0.5366\n",
            "Epoch 197/300\n",
            "27/27 [==============================] - 0s 7ms/step - loss: 0.3568 - accuracy: 0.8224 - val_loss: 0.8561 - val_accuracy: 0.5220\n",
            "Epoch 198/300\n",
            "27/27 [==============================] - 0s 7ms/step - loss: 0.3510 - accuracy: 0.8260 - val_loss: 0.8520 - val_accuracy: 0.5220\n",
            "Epoch 199/300\n",
            "27/27 [==============================] - 0s 8ms/step - loss: 0.3533 - accuracy: 0.8308 - val_loss: 0.8389 - val_accuracy: 0.5171\n",
            "Epoch 200/300\n",
            "27/27 [==============================] - 0s 7ms/step - loss: 0.3523 - accuracy: 0.8331 - val_loss: 0.8793 - val_accuracy: 0.5000\n",
            "Epoch 201/300\n",
            "27/27 [==============================] - 0s 7ms/step - loss: 0.3610 - accuracy: 0.8272 - val_loss: 0.8578 - val_accuracy: 0.5220\n",
            "Epoch 202/300\n",
            "27/27 [==============================] - 0s 7ms/step - loss: 0.3394 - accuracy: 0.8462 - val_loss: 0.8761 - val_accuracy: 0.5098\n",
            "Epoch 203/300\n",
            "27/27 [==============================] - 0s 7ms/step - loss: 0.3387 - accuracy: 0.8474 - val_loss: 0.8707 - val_accuracy: 0.5195\n",
            "Epoch 204/300\n",
            "27/27 [==============================] - 0s 7ms/step - loss: 0.3584 - accuracy: 0.8296 - val_loss: 0.8840 - val_accuracy: 0.5073\n",
            "Epoch 205/300\n",
            "27/27 [==============================] - 0s 7ms/step - loss: 0.3511 - accuracy: 0.8308 - val_loss: 0.8732 - val_accuracy: 0.5098\n",
            "Epoch 206/300\n",
            "27/27 [==============================] - 0s 7ms/step - loss: 0.3344 - accuracy: 0.8534 - val_loss: 0.8828 - val_accuracy: 0.5098\n",
            "Epoch 207/300\n",
            "27/27 [==============================] - 0s 7ms/step - loss: 0.3470 - accuracy: 0.8415 - val_loss: 0.8626 - val_accuracy: 0.5171\n",
            "Epoch 208/300\n",
            "27/27 [==============================] - 0s 7ms/step - loss: 0.3470 - accuracy: 0.8415 - val_loss: 0.8619 - val_accuracy: 0.5146\n",
            "Epoch 209/300\n",
            "27/27 [==============================] - 0s 8ms/step - loss: 0.3326 - accuracy: 0.8510 - val_loss: 0.8660 - val_accuracy: 0.5146\n",
            "Epoch 210/300\n",
            "27/27 [==============================] - 0s 8ms/step - loss: 0.3347 - accuracy: 0.8474 - val_loss: 0.8754 - val_accuracy: 0.5146\n",
            "Epoch 211/300\n",
            "27/27 [==============================] - 0s 8ms/step - loss: 0.3248 - accuracy: 0.8474 - val_loss: 0.8861 - val_accuracy: 0.5195\n",
            "Epoch 212/300\n",
            "27/27 [==============================] - 0s 8ms/step - loss: 0.3194 - accuracy: 0.8486 - val_loss: 0.8712 - val_accuracy: 0.5317\n",
            "Epoch 213/300\n",
            "27/27 [==============================] - 0s 8ms/step - loss: 0.3214 - accuracy: 0.8534 - val_loss: 0.8756 - val_accuracy: 0.5366\n",
            "Epoch 214/300\n",
            "27/27 [==============================] - 0s 9ms/step - loss: 0.3160 - accuracy: 0.8534 - val_loss: 0.8760 - val_accuracy: 0.5244\n",
            "Epoch 215/300\n",
            "27/27 [==============================] - 0s 7ms/step - loss: 0.3113 - accuracy: 0.8570 - val_loss: 0.8954 - val_accuracy: 0.5244\n",
            "Epoch 216/300\n",
            "27/27 [==============================] - 0s 8ms/step - loss: 0.3141 - accuracy: 0.8605 - val_loss: 0.8872 - val_accuracy: 0.5341\n",
            "Epoch 217/300\n",
            "27/27 [==============================] - 0s 7ms/step - loss: 0.3165 - accuracy: 0.8534 - val_loss: 0.8887 - val_accuracy: 0.5171\n",
            "Epoch 218/300\n",
            "27/27 [==============================] - 0s 8ms/step - loss: 0.3189 - accuracy: 0.8570 - val_loss: 0.8909 - val_accuracy: 0.5000\n",
            "Epoch 219/300\n",
            "27/27 [==============================] - 0s 7ms/step - loss: 0.3166 - accuracy: 0.8677 - val_loss: 0.8894 - val_accuracy: 0.5122\n",
            "Epoch 220/300\n",
            "27/27 [==============================] - 0s 7ms/step - loss: 0.3067 - accuracy: 0.8570 - val_loss: 0.9045 - val_accuracy: 0.5244\n",
            "Epoch 221/300\n",
            "27/27 [==============================] - 0s 9ms/step - loss: 0.3098 - accuracy: 0.8641 - val_loss: 0.8982 - val_accuracy: 0.5171\n",
            "Epoch 222/300\n",
            "27/27 [==============================] - 0s 7ms/step - loss: 0.3148 - accuracy: 0.8498 - val_loss: 0.9146 - val_accuracy: 0.5244\n",
            "Epoch 223/300\n",
            "27/27 [==============================] - 0s 8ms/step - loss: 0.3248 - accuracy: 0.8582 - val_loss: 0.9074 - val_accuracy: 0.5293\n",
            "Epoch 224/300\n",
            "27/27 [==============================] - 0s 7ms/step - loss: 0.3081 - accuracy: 0.8641 - val_loss: 0.9036 - val_accuracy: 0.5244\n",
            "Epoch 225/300\n",
            "27/27 [==============================] - 0s 7ms/step - loss: 0.2942 - accuracy: 0.8617 - val_loss: 0.9317 - val_accuracy: 0.5244\n",
            "Epoch 226/300\n",
            "27/27 [==============================] - 0s 7ms/step - loss: 0.2926 - accuracy: 0.8629 - val_loss: 0.9262 - val_accuracy: 0.5268\n",
            "Epoch 227/300\n",
            "27/27 [==============================] - 0s 7ms/step - loss: 0.2960 - accuracy: 0.8582 - val_loss: 0.9172 - val_accuracy: 0.5293\n",
            "Epoch 228/300\n",
            "27/27 [==============================] - 0s 8ms/step - loss: 0.2889 - accuracy: 0.8677 - val_loss: 0.9370 - val_accuracy: 0.5098\n",
            "Epoch 229/300\n",
            "27/27 [==============================] - 0s 7ms/step - loss: 0.2922 - accuracy: 0.8641 - val_loss: 0.9214 - val_accuracy: 0.5244\n",
            "Epoch 230/300\n",
            "27/27 [==============================] - 0s 7ms/step - loss: 0.2869 - accuracy: 0.8677 - val_loss: 0.9404 - val_accuracy: 0.5098\n",
            "Epoch 231/300\n",
            "27/27 [==============================] - 0s 8ms/step - loss: 0.2817 - accuracy: 0.8749 - val_loss: 0.9251 - val_accuracy: 0.5463\n",
            "Epoch 232/300\n",
            "27/27 [==============================] - 0s 7ms/step - loss: 0.2826 - accuracy: 0.8701 - val_loss: 0.9469 - val_accuracy: 0.5390\n",
            "Epoch 233/300\n",
            "27/27 [==============================] - 0s 7ms/step - loss: 0.2878 - accuracy: 0.8737 - val_loss: 0.9311 - val_accuracy: 0.5390\n",
            "Epoch 234/300\n",
            "27/27 [==============================] - 0s 7ms/step - loss: 0.2873 - accuracy: 0.8737 - val_loss: 0.9209 - val_accuracy: 0.5073\n",
            "Epoch 235/300\n",
            "27/27 [==============================] - 0s 7ms/step - loss: 0.2793 - accuracy: 0.8713 - val_loss: 0.9282 - val_accuracy: 0.5220\n",
            "Epoch 236/300\n",
            "27/27 [==============================] - 0s 7ms/step - loss: 0.2742 - accuracy: 0.8749 - val_loss: 0.9416 - val_accuracy: 0.5415\n",
            "Epoch 237/300\n",
            "27/27 [==============================] - 0s 7ms/step - loss: 0.2754 - accuracy: 0.8725 - val_loss: 0.9482 - val_accuracy: 0.5341\n",
            "Epoch 238/300\n",
            "27/27 [==============================] - 0s 8ms/step - loss: 0.3102 - accuracy: 0.8486 - val_loss: 0.9388 - val_accuracy: 0.5317\n",
            "Epoch 239/300\n",
            "27/27 [==============================] - 0s 7ms/step - loss: 0.3217 - accuracy: 0.8439 - val_loss: 0.9235 - val_accuracy: 0.5195\n",
            "Epoch 240/300\n",
            "27/27 [==============================] - 0s 7ms/step - loss: 0.3043 - accuracy: 0.8546 - val_loss: 0.9700 - val_accuracy: 0.5317\n",
            "Epoch 241/300\n",
            "27/27 [==============================] - 0s 7ms/step - loss: 0.2809 - accuracy: 0.8725 - val_loss: 0.9539 - val_accuracy: 0.5122\n",
            "Epoch 242/300\n",
            "27/27 [==============================] - 0s 8ms/step - loss: 0.2687 - accuracy: 0.8796 - val_loss: 0.9563 - val_accuracy: 0.5122\n",
            "Epoch 243/300\n",
            "27/27 [==============================] - 0s 8ms/step - loss: 0.2716 - accuracy: 0.8808 - val_loss: 0.9466 - val_accuracy: 0.5317\n",
            "Epoch 244/300\n",
            "27/27 [==============================] - 0s 7ms/step - loss: 0.2621 - accuracy: 0.8844 - val_loss: 0.9489 - val_accuracy: 0.5341\n",
            "Epoch 245/300\n",
            "27/27 [==============================] - 0s 7ms/step - loss: 0.2586 - accuracy: 0.8844 - val_loss: 0.9877 - val_accuracy: 0.5073\n",
            "Epoch 246/300\n",
            "27/27 [==============================] - 0s 8ms/step - loss: 0.2607 - accuracy: 0.8844 - val_loss: 0.9600 - val_accuracy: 0.5244\n",
            "Epoch 247/300\n",
            "27/27 [==============================] - 0s 8ms/step - loss: 0.2615 - accuracy: 0.8856 - val_loss: 0.9532 - val_accuracy: 0.5195\n",
            "Epoch 248/300\n",
            "27/27 [==============================] - 0s 7ms/step - loss: 0.2606 - accuracy: 0.8760 - val_loss: 0.9723 - val_accuracy: 0.5244\n",
            "Epoch 249/300\n",
            "27/27 [==============================] - 0s 7ms/step - loss: 0.2613 - accuracy: 0.8796 - val_loss: 0.9728 - val_accuracy: 0.5171\n",
            "Epoch 250/300\n",
            "27/27 [==============================] - 0s 7ms/step - loss: 0.2494 - accuracy: 0.8880 - val_loss: 0.9798 - val_accuracy: 0.5098\n",
            "Epoch 251/300\n",
            "27/27 [==============================] - 0s 8ms/step - loss: 0.2462 - accuracy: 0.8856 - val_loss: 0.9643 - val_accuracy: 0.5122\n",
            "Epoch 252/300\n",
            "27/27 [==============================] - 0s 7ms/step - loss: 0.2516 - accuracy: 0.8915 - val_loss: 0.9949 - val_accuracy: 0.5244\n",
            "Epoch 253/300\n",
            "27/27 [==============================] - 0s 7ms/step - loss: 0.2499 - accuracy: 0.8868 - val_loss: 0.9755 - val_accuracy: 0.5220\n",
            "Epoch 254/300\n",
            "27/27 [==============================] - 0s 8ms/step - loss: 0.2510 - accuracy: 0.8856 - val_loss: 0.9874 - val_accuracy: 0.5195\n",
            "Epoch 255/300\n",
            "27/27 [==============================] - 0s 7ms/step - loss: 0.2501 - accuracy: 0.8868 - val_loss: 0.9828 - val_accuracy: 0.5171\n",
            "Epoch 256/300\n",
            "27/27 [==============================] - 0s 7ms/step - loss: 0.2451 - accuracy: 0.8796 - val_loss: 1.0022 - val_accuracy: 0.5244\n",
            "Epoch 257/300\n",
            "27/27 [==============================] - 0s 7ms/step - loss: 0.2520 - accuracy: 0.8892 - val_loss: 1.0198 - val_accuracy: 0.5146\n",
            "Epoch 258/300\n",
            "27/27 [==============================] - 0s 7ms/step - loss: 0.2555 - accuracy: 0.8820 - val_loss: 1.0129 - val_accuracy: 0.5268\n",
            "Epoch 259/300\n",
            "27/27 [==============================] - 0s 7ms/step - loss: 0.2458 - accuracy: 0.8892 - val_loss: 1.0113 - val_accuracy: 0.5244\n",
            "Epoch 260/300\n",
            "27/27 [==============================] - 0s 7ms/step - loss: 0.2438 - accuracy: 0.8892 - val_loss: 1.0213 - val_accuracy: 0.5000\n",
            "Epoch 261/300\n",
            "27/27 [==============================] - 0s 8ms/step - loss: 0.2438 - accuracy: 0.8868 - val_loss: 0.9966 - val_accuracy: 0.5195\n",
            "Epoch 262/300\n",
            "27/27 [==============================] - 0s 8ms/step - loss: 0.2392 - accuracy: 0.8868 - val_loss: 1.0139 - val_accuracy: 0.5171\n",
            "Epoch 263/300\n",
            "27/27 [==============================] - 0s 8ms/step - loss: 0.2444 - accuracy: 0.8915 - val_loss: 1.0203 - val_accuracy: 0.5171\n",
            "Epoch 264/300\n",
            "27/27 [==============================] - 0s 7ms/step - loss: 0.2428 - accuracy: 0.8844 - val_loss: 1.0184 - val_accuracy: 0.5195\n",
            "Epoch 265/300\n",
            "27/27 [==============================] - 0s 7ms/step - loss: 0.2414 - accuracy: 0.8903 - val_loss: 1.0118 - val_accuracy: 0.5171\n",
            "Epoch 266/300\n",
            "27/27 [==============================] - 0s 8ms/step - loss: 0.2453 - accuracy: 0.8856 - val_loss: 1.0329 - val_accuracy: 0.5122\n",
            "Epoch 267/300\n",
            "27/27 [==============================] - 0s 8ms/step - loss: 0.2441 - accuracy: 0.8951 - val_loss: 1.0403 - val_accuracy: 0.5220\n",
            "Epoch 268/300\n",
            "27/27 [==============================] - 0s 8ms/step - loss: 0.2353 - accuracy: 0.8903 - val_loss: 1.0442 - val_accuracy: 0.5220\n",
            "Epoch 269/300\n",
            "27/27 [==============================] - 0s 8ms/step - loss: 0.2312 - accuracy: 0.8903 - val_loss: 1.0588 - val_accuracy: 0.5268\n",
            "Epoch 270/300\n",
            "27/27 [==============================] - 0s 8ms/step - loss: 0.2330 - accuracy: 0.8915 - val_loss: 1.0667 - val_accuracy: 0.4902\n",
            "Epoch 271/300\n",
            "27/27 [==============================] - 0s 8ms/step - loss: 0.2221 - accuracy: 0.9023 - val_loss: 1.0629 - val_accuracy: 0.5122\n",
            "Epoch 272/300\n",
            "27/27 [==============================] - 0s 8ms/step - loss: 0.2218 - accuracy: 0.8975 - val_loss: 1.0702 - val_accuracy: 0.5098\n",
            "Epoch 273/300\n",
            "27/27 [==============================] - 0s 7ms/step - loss: 0.2388 - accuracy: 0.8880 - val_loss: 1.0545 - val_accuracy: 0.5024\n",
            "Epoch 274/300\n",
            "27/27 [==============================] - 0s 8ms/step - loss: 0.2244 - accuracy: 0.8987 - val_loss: 1.0781 - val_accuracy: 0.5195\n",
            "Epoch 275/300\n",
            "27/27 [==============================] - 0s 7ms/step - loss: 0.2153 - accuracy: 0.8987 - val_loss: 1.0594 - val_accuracy: 0.5244\n",
            "Epoch 276/300\n",
            "27/27 [==============================] - 0s 7ms/step - loss: 0.2153 - accuracy: 0.9046 - val_loss: 1.0704 - val_accuracy: 0.5220\n",
            "Epoch 277/300\n",
            "27/27 [==============================] - 0s 7ms/step - loss: 0.2169 - accuracy: 0.8999 - val_loss: 1.0718 - val_accuracy: 0.5073\n",
            "Epoch 278/300\n",
            "27/27 [==============================] - 0s 7ms/step - loss: 0.2148 - accuracy: 0.9035 - val_loss: 1.0583 - val_accuracy: 0.5049\n",
            "Epoch 279/300\n",
            "27/27 [==============================] - 0s 8ms/step - loss: 0.2175 - accuracy: 0.9011 - val_loss: 1.0509 - val_accuracy: 0.5390\n",
            "Epoch 280/300\n",
            "27/27 [==============================] - 0s 8ms/step - loss: 0.2159 - accuracy: 0.9023 - val_loss: 1.0861 - val_accuracy: 0.5122\n",
            "Epoch 281/300\n",
            "27/27 [==============================] - 0s 8ms/step - loss: 0.2142 - accuracy: 0.9070 - val_loss: 1.1136 - val_accuracy: 0.5098\n",
            "Epoch 282/300\n",
            "27/27 [==============================] - 0s 8ms/step - loss: 0.2123 - accuracy: 0.9011 - val_loss: 1.0966 - val_accuracy: 0.5024\n",
            "Epoch 283/300\n",
            "27/27 [==============================] - 0s 8ms/step - loss: 0.2071 - accuracy: 0.9106 - val_loss: 1.1083 - val_accuracy: 0.5244\n",
            "Epoch 284/300\n",
            "27/27 [==============================] - 0s 8ms/step - loss: 0.2044 - accuracy: 0.9046 - val_loss: 1.0737 - val_accuracy: 0.5195\n",
            "Epoch 285/300\n",
            "27/27 [==============================] - 0s 8ms/step - loss: 0.2025 - accuracy: 0.9070 - val_loss: 1.1062 - val_accuracy: 0.5098\n",
            "Epoch 286/300\n",
            "27/27 [==============================] - 0s 8ms/step - loss: 0.1991 - accuracy: 0.9118 - val_loss: 1.1169 - val_accuracy: 0.4854\n",
            "Epoch 287/300\n",
            "27/27 [==============================] - 0s 8ms/step - loss: 0.2103 - accuracy: 0.9082 - val_loss: 1.1050 - val_accuracy: 0.5073\n",
            "Epoch 288/300\n",
            "27/27 [==============================] - 0s 7ms/step - loss: 0.1935 - accuracy: 0.9142 - val_loss: 1.1314 - val_accuracy: 0.5073\n",
            "Epoch 289/300\n",
            "27/27 [==============================] - 0s 8ms/step - loss: 0.1946 - accuracy: 0.9142 - val_loss: 1.1167 - val_accuracy: 0.5439\n",
            "Epoch 290/300\n",
            "27/27 [==============================] - 0s 8ms/step - loss: 0.1983 - accuracy: 0.9118 - val_loss: 1.1357 - val_accuracy: 0.5073\n",
            "Epoch 291/300\n",
            "27/27 [==============================] - 0s 8ms/step - loss: 0.2163 - accuracy: 0.9023 - val_loss: 1.1396 - val_accuracy: 0.4878\n",
            "Epoch 292/300\n",
            "27/27 [==============================] - 0s 7ms/step - loss: 0.2542 - accuracy: 0.8903 - val_loss: 1.1198 - val_accuracy: 0.4976\n",
            "Epoch 293/300\n",
            "27/27 [==============================] - 0s 7ms/step - loss: 0.3122 - accuracy: 0.8641 - val_loss: 1.1300 - val_accuracy: 0.5122\n",
            "Epoch 294/300\n",
            "27/27 [==============================] - 0s 7ms/step - loss: 0.2911 - accuracy: 0.8856 - val_loss: 1.1309 - val_accuracy: 0.4976\n",
            "Epoch 295/300\n",
            "27/27 [==============================] - 0s 8ms/step - loss: 0.3694 - accuracy: 0.8367 - val_loss: 1.1372 - val_accuracy: 0.5098\n",
            "Epoch 296/300\n",
            "27/27 [==============================] - 0s 8ms/step - loss: 0.2656 - accuracy: 0.8665 - val_loss: 1.1113 - val_accuracy: 0.4976\n",
            "Epoch 297/300\n",
            "27/27 [==============================] - 0s 7ms/step - loss: 0.2288 - accuracy: 0.8999 - val_loss: 1.1327 - val_accuracy: 0.5073\n",
            "Epoch 298/300\n",
            "27/27 [==============================] - 0s 8ms/step - loss: 0.2111 - accuracy: 0.9190 - val_loss: 1.1416 - val_accuracy: 0.5146\n",
            "Epoch 299/300\n",
            "27/27 [==============================] - 0s 8ms/step - loss: 0.1973 - accuracy: 0.9118 - val_loss: 1.1576 - val_accuracy: 0.4951\n",
            "Epoch 300/300\n",
            "27/27 [==============================] - 0s 7ms/step - loss: 0.1926 - accuracy: 0.9178 - val_loss: 1.1483 - val_accuracy: 0.5171\n"
          ],
          "name": "stdout"
        }
      ]
    },
    {
      "cell_type": "code",
      "metadata": {
        "id": "b16OBXK7-rnW",
        "colab_type": "code",
        "outputId": "a88b33df-c291-4df1-b803-49f795dd87fd",
        "colab": {
          "base_uri": "https://localhost:8080/",
          "height": 285
        }
      },
      "source": [
        "plt.plot(r.history['loss'],label='loss')\n",
        "plt.plot(r.history['val_loss'],label='val_loss')\n",
        "plt.legend()"
      ],
      "execution_count": 0,
      "outputs": [
        {
          "output_type": "execute_result",
          "data": {
            "text/plain": [
              "<matplotlib.legend.Legend at 0x7f907de0dbe0>"
            ]
          },
          "metadata": {
            "tags": []
          },
          "execution_count": 36
        },
        {
          "output_type": "display_data",
          "data": {
            "image/png": "[encoded data removed]",
            "text/plain": [
              "<Figure size 432x288 with 1 Axes>"
            ]
          },
          "metadata": {
            "tags": [],
            "needs_background": "light"
          }
        }
      ]
    },
    {
      "cell_type": "code",
      "metadata": {
        "id": "YyWzZZyGAUOS",
        "colab_type": "code",
        "outputId": "65d8c7f8-fa08-4dc9-8edd-874942b78665",
        "colab": {
          "base_uri": "https://localhost:8080/",
          "height": 282
        }
      },
      "source": [
        "plt.plot(r.history['accuracy'],label='accu')\n",
        "plt.plot(r.history['val_accuracy'],label='val_accu')\n",
        "plt.legend()"
      ],
      "execution_count": 0,
      "outputs": [
        {
          "output_type": "execute_result",
          "data": {
            "text/plain": [
              "<matplotlib.legend.Legend at 0x7f90833d5710>"
            ]
          },
          "metadata": {
            "tags": []
          },
          "execution_count": 37
        },
        {
          "output_type": "display_data",
          "data": {
            "image/png": "[encoded data removed]",
            "text/plain": [
              "<Figure size 432x288 with 1 Axes>"
            ]
          },
          "metadata": {
            "tags": [],
            "needs_background": "light"
          }
        }
      ]
    },
    {
      "cell_type": "code",
      "metadata": {
        "id": "VjRtlTAxAcUe",
        "colab_type": "code",
        "colab": {}
      },
      "source": [
        ""
      ],
      "execution_count": 0,
      "outputs": []
    }
  ]
}