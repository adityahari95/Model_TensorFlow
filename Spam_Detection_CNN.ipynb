{
  "nbformat": 4,
  "nbformat_minor": 0,
  "metadata": {
    "colab": {
      "name": "Spam Detection CNN",
      "provenance": []
    },
    "kernelspec": {
      "name": "python3",
      "display_name": "Python 3"
    }
  },
  "cells": [
    {
      "cell_type": "code",
      "metadata": {
        "id": "8ZrSITJJTWjl",
        "colab_type": "code",
        "colab": {}
      },
      "source": [
        "import tensorflow as tf\n",
        "import numpy as np\n",
        "import pandas as pd\n",
        "import matplotlib.pyplot as plt\n",
        "from sklearn.model_selection import train_test_split\n",
        "\n",
        "from tensorflow.keras.preprocessing.text import Tokenizer\n",
        "from tensorflow.keras.preprocessing.sequence import pad_sequences\n",
        "from tensorflow.keras.layers import Dense,Input,GlobalMaxPooling1D\n",
        "from tensorflow.keras.layers import Conv1D,Embedding,MaxPooling1D\n",
        "from tensorflow.keras.models import Model"
      ],
      "execution_count": 0,
      "outputs": []
    },
    {
      "cell_type": "code",
      "metadata": {
        "id": "NdnADX65T6CC",
        "colab_type": "code",
        "outputId": "5fae0cfa-3f5d-4380-be5a-4316e0852473",
        "colab": {
          "base_uri": "https://localhost:8080/",
          "height": 224
        }
      },
      "source": [
        "!wget https://lazyprogrammer.me/course_files/spam.csv"
      ],
      "execution_count": 0,
      "outputs": [
        {
          "output_type": "stream",
          "text": [
            "--2020-05-11 10:37:48--  https://lazyprogrammer.me/course_files/spam.csv\n",
            "Resolving lazyprogrammer.me (lazyprogrammer.me)... 104.31.80.48, 104.31.81.48, 2606:4700:3037::681f:5030, ...\n",
            "Connecting to lazyprogrammer.me (lazyprogrammer.me)|104.31.80.48|:443... connected.\n",
            "HTTP request sent, awaiting response... 200 OK\n",
            "Length: 503663 (492K) [text/csv]\n",
            "Saving to: ‘spam.csv’\n",
            "\n",
            "\rspam.csv              0%[                    ]       0  --.-KB/s               \rspam.csv            100%[===================>] 491.86K  --.-KB/s    in 0.03s   \n",
            "\n",
            "2020-05-11 10:37:48 (15.4 MB/s) - ‘spam.csv’ saved [503663/503663]\n",
            "\n"
          ],
          "name": "stdout"
        }
      ]
    },
    {
      "cell_type": "code",
      "metadata": {
        "id": "Ib4dX0bnT-JF",
        "colab_type": "code",
        "colab": {}
      },
      "source": [
        "df = pd.read_csv('spam.csv',encoding='ISO-8859-1')\n",
        "df = df.drop(['Unnamed: 2', 'Unnamed: 3', 'Unnamed: 4'], axis=1)\n",
        "df.columns = ['labels','data']\n",
        "df['b_labels'] = df['labels'].map({'ham':0, 'spam': 1})\n",
        "Y = df['b_labels'].values\n",
        "#split up the data\n",
        "df_train,df_test,Ytrain,Ytest = train_test_split(df['data'],Y,test_size=0.33)\n"
      ],
      "execution_count": 0,
      "outputs": []
    },
    {
      "cell_type": "code",
      "metadata": {
        "id": "2ECT-YdjUWjH",
        "colab_type": "code",
        "colab": {}
      },
      "source": [
        "#Convert sentences to sequences\n",
        "\n",
        "MAX_VOCABS_SIZE = 20000\n",
        "tokenizer = Tokenizer(num_words=MAX_VOCABS_SIZE)\n",
        "tokenizer.fit_on_texts(df_train)\n",
        "sequences_train = tokenizer.texts_to_sequences(df_train)\n",
        "sequences_test = tokenizer.texts_to_sequences(df_test)"
      ],
      "execution_count": 0,
      "outputs": []
    },
    {
      "cell_type": "code",
      "metadata": {
        "id": "rktncl7xUg_u",
        "colab_type": "code",
        "outputId": "3fe1fa8b-5b8d-44cc-df94-ecec94bb5424",
        "colab": {
          "base_uri": "https://localhost:8080/",
          "height": 34
        }
      },
      "source": [
        "#get word => integer mapping\n",
        "word2idx = tokenizer.word_index\n",
        "V = len(word2idx)\n",
        "print('Found %s unique tokens.' % V)"
      ],
      "execution_count": 0,
      "outputs": [
        {
          "output_type": "stream",
          "text": [
            "Found 7212 unique tokens.\n"
          ],
          "name": "stdout"
        }
      ]
    },
    {
      "cell_type": "code",
      "metadata": {
        "id": "YXj1WLpcUjsK",
        "colab_type": "code",
        "outputId": "06ad1c2b-b6fd-45b1-c465-715044b1aaa1",
        "colab": {
          "base_uri": "https://localhost:8080/",
          "height": 34
        }
      },
      "source": [
        "#pad sequence to get n*t matrix\n",
        "\n",
        "data_train = pad_sequences(sequences_train)\n",
        "print('Shape of data train tensor:', data_train.shape)\n",
        "\n",
        "#get sequence length\n",
        "T = data_train.shape[1]"
      ],
      "execution_count": 0,
      "outputs": [
        {
          "output_type": "stream",
          "text": [
            "Shape of data train tensor: (3733, 189)\n"
          ],
          "name": "stdout"
        }
      ]
    },
    {
      "cell_type": "code",
      "metadata": {
        "id": "SWqNu8DNUmab",
        "colab_type": "code",
        "outputId": "de24498f-79dc-4206-e8f4-7a09b1d6050a",
        "colab": {
          "base_uri": "https://localhost:8080/",
          "height": 34
        }
      },
      "source": [
        "data_test = pad_sequences(sequences_test)\n",
        "print('Shape of data test tensor:', data_test.shape)"
      ],
      "execution_count": 0,
      "outputs": [
        {
          "output_type": "stream",
          "text": [
            "Shape of data test tensor: (1839, 155)\n"
          ],
          "name": "stdout"
        }
      ]
    },
    {
      "cell_type": "code",
      "metadata": {
        "id": "AoYk2V6dUpPv",
        "colab_type": "code",
        "colab": {}
      },
      "source": [
        "#creating the model\n",
        "\n",
        "D = 20 #Choosing embedding of dimensionality\n",
        "\n",
        "i = Input(shape=(T,))\n",
        "x = Embedding(V+1,D)(i) \n",
        "#giving V+1 coz index is given more in python eg 99 index is 100\n",
        "x = Conv1D(32, 3, activation='relu')(x)\n",
        "x = MaxPooling1D(3)(x)\n",
        "x = Conv1D(64, 3, activation='relu')(x)\n",
        "x = MaxPooling1D(3)(x)\n",
        "x = Conv1D(128, 3, activation='relu')(x)\n",
        "x = GlobalMaxPooling1D()(x)\n",
        "x = Dense(1, activation = 'sigmoid')(x)\n",
        "\n",
        "model = Model(i,x)"
      ],
      "execution_count": 0,
      "outputs": []
    },
    {
      "cell_type": "code",
      "metadata": {
        "id": "xd1XAIzyVJFl",
        "colab_type": "code",
        "outputId": "0d26467d-4339-41ba-e672-a4275e984b2f",
        "colab": {
          "base_uri": "https://localhost:8080/",
          "height": 411
        }
      },
      "source": [
        "#compile\n",
        "\n",
        "model.compile(\n",
        "    loss='binary_crossentropy',\n",
        "    optimizer='adam',\n",
        "    metrics=['accuracy'],\n",
        ")\n",
        "\n",
        "print('Training model...')\n",
        "r = model.fit(\n",
        "    data_train,\n",
        "    Ytrain,\n",
        "    epochs=10,\n",
        "    validation_data=(data_test,Ytest)\n",
        ")"
      ],
      "execution_count": 0,
      "outputs": [
        {
          "output_type": "stream",
          "text": [
            "Training model...\n",
            "Epoch 1/10\n",
            "116/117 [============================>.] - ETA: 0s - loss: 0.3808 - accuracy: 0.8648WARNING:tensorflow:Model was constructed with shape (None, 189) for input Tensor(\"input_1:0\", shape=(None, 189), dtype=float32), but it was called on an input with incompatible shape (None, 155).\n",
            "117/117 [==============================] - 2s 19ms/step - loss: 0.3815 - accuracy: 0.8636 - val_loss: 0.2936 - val_accuracy: 0.8575\n",
            "Epoch 2/10\n",
            "117/117 [==============================] - 2s 18ms/step - loss: 0.1245 - accuracy: 0.9510 - val_loss: 0.0997 - val_accuracy: 0.9782\n",
            "Epoch 3/10\n",
            "117/117 [==============================] - 2s 18ms/step - loss: 0.0296 - accuracy: 0.9890 - val_loss: 0.0755 - val_accuracy: 0.9853\n",
            "Epoch 4/10\n",
            "117/117 [==============================] - 2s 18ms/step - loss: 0.0097 - accuracy: 0.9973 - val_loss: 0.0671 - val_accuracy: 0.9864\n",
            "Epoch 5/10\n",
            "117/117 [==============================] - 2s 18ms/step - loss: 0.0052 - accuracy: 0.9992 - val_loss: 0.0585 - val_accuracy: 0.9853\n",
            "Epoch 6/10\n",
            "117/117 [==============================] - 2s 18ms/step - loss: 0.0033 - accuracy: 0.9995 - val_loss: 0.0569 - val_accuracy: 0.9853\n",
            "Epoch 7/10\n",
            "117/117 [==============================] - 2s 17ms/step - loss: 0.0025 - accuracy: 0.9995 - val_loss: 0.0564 - val_accuracy: 0.9853\n",
            "Epoch 8/10\n",
            "117/117 [==============================] - 2s 18ms/step - loss: 0.0020 - accuracy: 0.9995 - val_loss: 0.0575 - val_accuracy: 0.9859\n",
            "Epoch 9/10\n",
            "117/117 [==============================] - 2s 17ms/step - loss: 0.0015 - accuracy: 0.9995 - val_loss: 0.0642 - val_accuracy: 0.9859\n",
            "Epoch 10/10\n",
            "117/117 [==============================] - 2s 18ms/step - loss: 0.0017 - accuracy: 0.9995 - val_loss: 0.0554 - val_accuracy: 0.9869\n"
          ],
          "name": "stdout"
        }
      ]
    },
    {
      "cell_type": "code",
      "metadata": {
        "id": "skuaze4wVMzQ",
        "colab_type": "code",
        "outputId": "e3cc439d-3a2f-40af-8bde-79d015629cbb",
        "colab": {
          "base_uri": "https://localhost:8080/",
          "height": 286
        }
      },
      "source": [
        "plt.plot(r.history['loss'],label='loss')\n",
        "plt.plot(r.history['val_loss'],label='val_loss')\n",
        "plt.legend()"
      ],
      "execution_count": 0,
      "outputs": [
        {
          "output_type": "execute_result",
          "data": {
            "text/plain": [
              "<matplotlib.legend.Legend at 0x7f075b209f98>"
            ]
          },
          "metadata": {
            "tags": []
          },
          "execution_count": 12
        },
        {
          "output_type": "display_data",
          "data": {
            "image/png": "[encoded data removed]",
            "text/plain": [
              "<Figure size 432x288 with 1 Axes>"
            ]
          },
          "metadata": {
            "tags": [],
            "needs_background": "light"
          }
        }
      ]
    },
    {
      "cell_type": "code",
      "metadata": {
        "id": "SHBxSIrrVP-F",
        "colab_type": "code",
        "outputId": "7471fab0-f5d4-4759-d30a-c3800af87cb0",
        "colab": {
          "base_uri": "https://localhost:8080/",
          "height": 282
        }
      },
      "source": [
        "plt.plot(r.history['accuracy'],label='accuracy')\n",
        "plt.plot(r.history['val_accuracy'],label='val_accu')\n",
        "plt.legend()"
      ],
      "execution_count": 0,
      "outputs": [
        {
          "output_type": "execute_result",
          "data": {
            "text/plain": [
              "<matplotlib.legend.Legend at 0x7f075a1a8240>"
            ]
          },
          "metadata": {
            "tags": []
          },
          "execution_count": 13
        },
        {
          "output_type": "display_data",
          "data": {
            "image/png": "[encoded data removed]",
            "text/plain": [
              "<Figure size 432x288 with 1 Axes>"
            ]
          },
          "metadata": {
            "tags": [],
            "needs_background": "light"
          }
        }
      ]
    },
    {
      "cell_type": "code",
      "metadata": {
        "id": "6F3SSo9yVSQG",
        "colab_type": "code",
        "colab": {}
      },
      "source": [
        ""
      ],
      "execution_count": 0,
      "outputs": []
    }
  ]
}