{
  "nbformat": 4,
  "nbformat_minor": 0,
  "metadata": {
    "colab": {
      "name": "Serving.py",
      "provenance": [],
      "collapsed_sections": []
    },
    "kernelspec": {
      "name": "python3",
      "display_name": "Python 3"
    }
  },
  "cells": [
    {
      "cell_type": "code",
      "metadata": {
        "id": "EhW1NkroQ2rs",
        "colab_type": "code",
        "colab": {}
      },
      "source": [
        "import tensorflow as tf\n"
      ],
      "execution_count": 0,
      "outputs": []
    },
    {
      "cell_type": "code",
      "metadata": {
        "id": "eDrUmhN3Q9nL",
        "colab_type": "code",
        "outputId": "3b6d5c6c-94bd-4cbd-8798-ff7ea5879a19",
        "colab": {
          "base_uri": "https://localhost:8080/",
          "height": 34
        }
      },
      "source": [
        "import requests\n",
        "r = requests.get('https://api.ipify.org?format=json')\n",
        "j = r.json()\n",
        "print(j)\n"
      ],
      "execution_count": 0,
      "outputs": [
        {
          "output_type": "stream",
          "text": [
            "{'ip': '35.185.112.43'}\n"
          ],
          "name": "stdout"
        }
      ]
    },
    {
      "cell_type": "code",
      "metadata": {
        "id": "sLGvdTkUROUS",
        "colab_type": "code",
        "colab": {}
      },
      "source": [
        "import tensorflow as tf\n",
        "import numpy as np\n",
        "import matplotlib.pyplot as plt\n",
        "from tensorflow.keras.layers import Input,Conv2D,Dense,Flatten,Dropout\n",
        "from tensorflow.keras.models import Model\n",
        "import os"
      ],
      "execution_count": 0,
      "outputs": []
    },
    {
      "cell_type": "code",
      "metadata": {
        "id": "pU8Mk6hYRUjU",
        "colab_type": "code",
        "outputId": "5eba172c-9f1a-45db-b99f-d85dfd5be985",
        "colab": {
          "base_uri": "https://localhost:8080/",
          "height": 51
        }
      },
      "source": [
        "#Load in data\n",
        "\n",
        "fashion_mnist = tf.keras.datasets.fashion_mnist\n",
        "\n",
        "(x_train,y_train), (x_test,y_test) = fashion_mnist.load_data()\n",
        "x_train,x_test = x_train/255.0,x_test/255.0\n",
        "print(\"x_train.shape:\",x_train.shape)\n",
        "print(\"x_test.shape:\",x_test.shape)\n"
      ],
      "execution_count": 0,
      "outputs": [
        {
          "output_type": "stream",
          "text": [
            "x_train.shape: (60000, 28, 28)\n",
            "x_test.shape: (10000, 28, 28)\n"
          ],
          "name": "stdout"
        }
      ]
    },
    {
      "cell_type": "code",
      "metadata": {
        "id": "4gCNAn_SRhnm",
        "colab_type": "code",
        "outputId": "8c235d2a-110e-4863-8ddc-d3410c8d6d78",
        "colab": {
          "base_uri": "https://localhost:8080/",
          "height": 34
        }
      },
      "source": [
        "#convolution expects h*w*c\n",
        "x_train= np.expand_dims(x_train,-1)\n",
        "x_test= np.expand_dims(x_test,-1)\n",
        "print(x_train.shape)"
      ],
      "execution_count": 0,
      "outputs": [
        {
          "output_type": "stream",
          "text": [
            "(60000, 28, 28, 1)\n"
          ],
          "name": "stdout"
        }
      ]
    },
    {
      "cell_type": "code",
      "metadata": {
        "id": "Uja-dlu6Rxk3",
        "colab_type": "code",
        "outputId": "6e598d5f-6375-41e4-8306-7a2593406924",
        "colab": {
          "base_uri": "https://localhost:8080/",
          "height": 34
        }
      },
      "source": [
        "#no of classes\n",
        "k= len(set(y_train))\n",
        "print(\"no of classes:\",k)"
      ],
      "execution_count": 0,
      "outputs": [
        {
          "output_type": "stream",
          "text": [
            "no of classes: 10\n"
          ],
          "name": "stdout"
        }
      ]
    },
    {
      "cell_type": "code",
      "metadata": {
        "id": "q49_hE-yR2ZD",
        "colab_type": "code",
        "colab": {}
      },
      "source": [
        "#build the model\n",
        "\n",
        "i= Input(shape= x_train[0].shape)\n",
        "x= Conv2D(32, (3,3), strides=2, activation='relu')(i)\n",
        "x= Conv2D(64, (3,3), strides=2, activation='relu')(x)\n",
        "x= Conv2D(128, (3,3), strides=2, activation='relu')(x)\n",
        "x= Flatten()(x)\n",
        "x= Dropout(0.2)(x)\n",
        "x= Dense(512,activation='relu')(x)\n",
        "x= Dropout(0.2)(x)\n",
        "x= Dense(k, activation='softmax')(x)\n",
        "\n",
        "model= Model(i,x)"
      ],
      "execution_count": 0,
      "outputs": []
    },
    {
      "cell_type": "code",
      "metadata": {
        "id": "1m1Fps6FR8rZ",
        "colab_type": "code",
        "outputId": "0c0c2682-8fa7-407c-8f0f-bb3c12110d3b",
        "colab": {
          "base_uri": "https://localhost:8080/",
          "height": 547
        }
      },
      "source": [
        "#Compile and Fit\n",
        "#Need GPU\n",
        "model.compile(optimizer='adam',\n",
        "              loss='sparse_categorical_crossentropy',\n",
        "              metrics=['accuracy'])\n",
        "r= model.fit(x_train,y_train,validation_data=(x_test,y_test), epochs=15)\n"
      ],
      "execution_count": 0,
      "outputs": [
        {
          "output_type": "stream",
          "text": [
            "Epoch 1/15\n",
            "1875/1875 [==============================] - 24s 13ms/step - loss: 0.5214 - accuracy: 0.8088 - val_loss: 0.4032 - val_accuracy: 0.8494\n",
            "Epoch 2/15\n",
            "1875/1875 [==============================] - 24s 13ms/step - loss: 0.3634 - accuracy: 0.8642 - val_loss: 0.3505 - val_accuracy: 0.8683\n",
            "Epoch 3/15\n",
            "1875/1875 [==============================] - 24s 13ms/step - loss: 0.3126 - accuracy: 0.8829 - val_loss: 0.3222 - val_accuracy: 0.8790\n",
            "Epoch 4/15\n",
            "1875/1875 [==============================] - 24s 13ms/step - loss: 0.2796 - accuracy: 0.8940 - val_loss: 0.2950 - val_accuracy: 0.8936\n",
            "Epoch 5/15\n",
            "1875/1875 [==============================] - 24s 13ms/step - loss: 0.2541 - accuracy: 0.9035 - val_loss: 0.2986 - val_accuracy: 0.8950\n",
            "Epoch 6/15\n",
            "1875/1875 [==============================] - 24s 13ms/step - loss: 0.2313 - accuracy: 0.9114 - val_loss: 0.3146 - val_accuracy: 0.8907\n",
            "Epoch 7/15\n",
            "1875/1875 [==============================] - 24s 13ms/step - loss: 0.2134 - accuracy: 0.9188 - val_loss: 0.2850 - val_accuracy: 0.9017\n",
            "Epoch 8/15\n",
            "1875/1875 [==============================] - 24s 13ms/step - loss: 0.1977 - accuracy: 0.9250 - val_loss: 0.2959 - val_accuracy: 0.8971\n",
            "Epoch 9/15\n",
            "1875/1875 [==============================] - 24s 13ms/step - loss: 0.1818 - accuracy: 0.9306 - val_loss: 0.3099 - val_accuracy: 0.8980\n",
            "Epoch 10/15\n",
            "1875/1875 [==============================] - 24s 13ms/step - loss: 0.1700 - accuracy: 0.9344 - val_loss: 0.3225 - val_accuracy: 0.9001\n",
            "Epoch 11/15\n",
            "1875/1875 [==============================] - 24s 13ms/step - loss: 0.1601 - accuracy: 0.9398 - val_loss: 0.3098 - val_accuracy: 0.9010\n",
            "Epoch 12/15\n",
            "1875/1875 [==============================] - 24s 13ms/step - loss: 0.1499 - accuracy: 0.9427 - val_loss: 0.3275 - val_accuracy: 0.8990\n",
            "Epoch 13/15\n",
            "1875/1875 [==============================] - 24s 13ms/step - loss: 0.1419 - accuracy: 0.9458 - val_loss: 0.3242 - val_accuracy: 0.9013\n",
            "Epoch 14/15\n",
            "1875/1875 [==============================] - 24s 13ms/step - loss: 0.1329 - accuracy: 0.9493 - val_loss: 0.3438 - val_accuracy: 0.9022\n",
            "Epoch 15/15\n",
            "1875/1875 [==============================] - 24s 13ms/step - loss: 0.1267 - accuracy: 0.9513 - val_loss: 0.3490 - val_accuracy: 0.9016\n"
          ],
          "name": "stdout"
        }
      ]
    },
    {
      "cell_type": "code",
      "metadata": {
        "id": "dpSmCjBLSE4w",
        "colab_type": "code",
        "outputId": "d1071b57-f4ed-446d-fd3c-71b4229f7d78",
        "colab": {
          "base_uri": "https://localhost:8080/",
          "height": 241
        }
      },
      "source": [
        "#Save the MOdel to temporary directory\n",
        "\n",
        "import tempfile\n",
        "\n",
        "MODEL_DIR = tempfile.gettempdir()\n",
        "version = 1\n",
        "export_path = os.path.join(MODEL_DIR,str(version))\n",
        "print('export_path = {}\\n'.format(export_path))\n",
        "if os.path.isdir(export_path):\n",
        "  print('\\n Already saved a model, cleaning up\\n')\n",
        "  !rm -r {export_path}\n",
        "tf.saved_model.save(model, export_path)\n",
        "\n",
        "print('\\nSaved model:')\n",
        "!ls -l {export_path}\n",
        "\n",
        "#protocol Buffer stands for  .pb extension"
      ],
      "execution_count": 0,
      "outputs": [
        {
          "output_type": "stream",
          "text": [
            "export_path = /tmp/1\n",
            "\n",
            "WARNING:tensorflow:From /usr/local/lib/python3.6/dist-packages/tensorflow/python/ops/resource_variable_ops.py:1817: calling BaseResourceVariable.__init__ (from tensorflow.python.ops.resource_variable_ops) with constraint is deprecated and will be removed in a future version.\n",
            "Instructions for updating:\n",
            "If using Keras pass *_constraint arguments to layers.\n",
            "INFO:tensorflow:Assets written to: /tmp/1/assets\n",
            "\n",
            "Saved model:\n",
            "total 168\n",
            "drwxr-xr-x 2 root root   4096 May 12 14:34 assets\n",
            "-rw-r--r-- 1 root root 161950 May 12 14:34 saved_model.pb\n",
            "drwxr-xr-x 2 root root   4096 May 12 14:34 variables\n"
          ],
          "name": "stdout"
        }
      ]
    },
    {
      "cell_type": "code",
      "metadata": {
        "id": "waO60HAjTiqv",
        "colab_type": "code",
        "outputId": "cad22a64-9bbb-48d7-c1bd-404c230a05d6",
        "colab": {
          "base_uri": "https://localhost:8080/",
          "height": 1000
        }
      },
      "source": [
        "!saved_model_cli show --dir {export_path} --all"
      ],
      "execution_count": 0,
      "outputs": [
        {
          "output_type": "stream",
          "text": [
            "\n",
            "MetaGraphDef with tag-set: 'serve' contains the following SignatureDefs:\n",
            "\n",
            "signature_def['__saved_model_init_op']:\n",
            "  The given SavedModel SignatureDef contains the following input(s):\n",
            "  The given SavedModel SignatureDef contains the following output(s):\n",
            "    outputs['__saved_model_init_op'] tensor_info:\n",
            "        dtype: DT_INVALID\n",
            "        shape: unknown_rank\n",
            "        name: NoOp\n",
            "  Method name is: \n",
            "\n",
            "signature_def['serving_default']:\n",
            "  The given SavedModel SignatureDef contains the following input(s):\n",
            "    inputs['input_2'] tensor_info:\n",
            "        dtype: DT_FLOAT\n",
            "        shape: (-1, 28, 28, 1)\n",
            "        name: serving_default_input_2:0\n",
            "  The given SavedModel SignatureDef contains the following output(s):\n",
            "    outputs['dense_1'] tensor_info:\n",
            "        dtype: DT_FLOAT\n",
            "        shape: (-1, 10)\n",
            "        name: StatefulPartitionedCall:0\n",
            "  Method name is: tensorflow/serving/predict\n",
            "WARNING: Logging before flag parsing goes to stderr.\n",
            "W0512 14:40:00.414551 139836958431104 deprecation.py:506] From /usr/local/lib/python2.7/dist-packages/tensorflow_core/python/ops/resource_variable_ops.py:1786: calling __init__ (from tensorflow.python.ops.resource_variable_ops) with constraint is deprecated and will be removed in a future version.\n",
            "Instructions for updating:\n",
            "If using Keras pass *_constraint arguments to layers.\n",
            "\n",
            "Defined Functions:\n",
            "  Function Name: '__call__'\n",
            "    Option #1\n",
            "      Callable with:\n",
            "        Argument #1\n",
            "          input_2: TensorSpec(shape=(None, 28, 28, 1), dtype=tf.float32, name=u'input_2')\n",
            "        Argument #2\n",
            "          DType: bool\n",
            "          Value: True\n",
            "        Argument #3\n",
            "          DType: NoneType\n",
            "          Value: None\n",
            "    Option #2\n",
            "      Callable with:\n",
            "        Argument #1\n",
            "          inputs: TensorSpec(shape=(None, 28, 28, 1), dtype=tf.float32, name=u'inputs')\n",
            "        Argument #2\n",
            "          DType: bool\n",
            "          Value: True\n",
            "        Argument #3\n",
            "          DType: NoneType\n",
            "          Value: None\n",
            "    Option #3\n",
            "      Callable with:\n",
            "        Argument #1\n",
            "          input_2: TensorSpec(shape=(None, 28, 28, 1), dtype=tf.float32, name=u'input_2')\n",
            "        Argument #2\n",
            "          DType: bool\n",
            "          Value: False\n",
            "        Argument #3\n",
            "          DType: NoneType\n",
            "          Value: None\n",
            "    Option #4\n",
            "      Callable with:\n",
            "        Argument #1\n",
            "          inputs: TensorSpec(shape=(None, 28, 28, 1), dtype=tf.float32, name=u'inputs')\n",
            "        Argument #2\n",
            "          DType: bool\n",
            "          Value: False\n",
            "        Argument #3\n",
            "          DType: NoneType\n",
            "          Value: None\n",
            "\n",
            "  Function Name: '_default_save_signature'\n",
            "    Option #1\n",
            "      Callable with:\n",
            "        Argument #1\n",
            "          input_2: TensorSpec(shape=(None, 28, 28, 1), dtype=tf.float32, name=u'input_2')\n",
            "\n",
            "  Function Name: 'call_and_return_all_conditional_losses'\n",
            "    Option #1\n",
            "      Callable with:\n",
            "        Argument #1\n",
            "          inputs: TensorSpec(shape=(None, 28, 28, 1), dtype=tf.float32, name=u'inputs')\n",
            "        Argument #2\n",
            "          DType: bool\n",
            "          Value: True\n",
            "        Argument #3\n",
            "          DType: NoneType\n",
            "          Value: None\n",
            "    Option #2\n",
            "      Callable with:\n",
            "        Argument #1\n",
            "          inputs: TensorSpec(shape=(None, 28, 28, 1), dtype=tf.float32, name=u'inputs')\n",
            "        Argument #2\n",
            "          DType: bool\n",
            "          Value: False\n",
            "        Argument #3\n",
            "          DType: NoneType\n",
            "          Value: None\n",
            "    Option #3\n",
            "      Callable with:\n",
            "        Argument #1\n",
            "          input_2: TensorSpec(shape=(None, 28, 28, 1), dtype=tf.float32, name=u'input_2')\n",
            "        Argument #2\n",
            "          DType: bool\n",
            "          Value: True\n",
            "        Argument #3\n",
            "          DType: NoneType\n",
            "          Value: None\n",
            "    Option #4\n",
            "      Callable with:\n",
            "        Argument #1\n",
            "          input_2: TensorSpec(shape=(None, 28, 28, 1), dtype=tf.float32, name=u'input_2')\n",
            "        Argument #2\n",
            "          DType: bool\n",
            "          Value: False\n",
            "        Argument #3\n",
            "          DType: NoneType\n",
            "          Value: None\n"
          ],
          "name": "stdout"
        }
      ]
    },
    {
      "cell_type": "code",
      "metadata": {
        "id": "j4k-IOd0U_LG",
        "colab_type": "code",
        "outputId": "4368f006-49f8-4054-8192-08447d3d5514",
        "colab": {
          "base_uri": "https://localhost:8080/",
          "height": 150
        }
      },
      "source": [
        "# echo \"deb http://storage.googleapis.com/tensorflow-serving-apt stable tensorflow_model_server\"\n",
        "# curl https://storage.googleapis.com/tensorflow-serving-apt/tensorflow-serving.release.pub.gpg\n",
        "# apt update\n",
        "\n",
        "echo \"deb [arch=amd64] http://storage.googleapis.com/tensorflow-serving-apt stable tensorflow_model_server tensorflow_model_server_universal\" | sudo tee /etc/apt/sources.list.d/tensorflow-serving.list && \\ curl https://storage.googleapis.com/tensorflow-serving-apt/tensorflow-serving.release.pub.gpg | sudo apt-key add - as root"
      ],
      "execution_count": 0,
      "outputs": [
        {
          "output_type": "error",
          "ename": "SyntaxError",
          "evalue": "ignored",
          "traceback": [
            "\u001b[0;36m  File \u001b[0;32m\"<ipython-input-41-c5967946631e>\"\u001b[0;36m, line \u001b[0;32m2\u001b[0m\n\u001b[0;31m    echo \"deb [arch=amd64] http://storage.googleapis.com/tensorflow-serving-apt stable tensorflow_model_server tensorflow_model_server_universal\" | sudo tee /etc/apt/sources.list.d/tensorflow-serving.list && \\ curl https://storage.googleapis.com/tensorflow-serving-apt/tensorflow-serving.release.pub.gpg | sudo apt-key add - as root\u001b[0m\n\u001b[0m                                                                                                                                                ^\u001b[0m\n\u001b[0;31mSyntaxError\u001b[0m\u001b[0;31m:\u001b[0m invalid syntax\n"
          ]
        }
      ]
    },
    {
      "cell_type": "markdown",
      "metadata": {
        "id": "6Kuyp41HWvAZ",
        "colab_type": "text"
      },
      "source": [
        ""
      ]
    },
    {
      "cell_type": "code",
      "metadata": {
        "id": "kRhvd1VYWCY5",
        "colab_type": "code",
        "outputId": "7ffc0585-c7f7-44ed-921c-12cd3ee8d1e1",
        "colab": {
          "base_uri": "https://localhost:8080/",
          "height": 85
        }
      },
      "source": [
        "!apt-get install tensorflow-model-server"
      ],
      "execution_count": 0,
      "outputs": [
        {
          "output_type": "stream",
          "text": [
            "Reading package lists... Done\n",
            "Building dependency tree       \n",
            "Reading state information... Done\n",
            "E: Unable to locate package tensorflow-model-server\n"
          ],
          "name": "stdout"
        }
      ]
    },
    {
      "cell_type": "code",
      "metadata": {
        "id": "M_JEcfQWWezr",
        "colab_type": "code",
        "colab": {}
      },
      "source": [
        "os.environ[\"MODEL_DIR\"] = MODEL_DIR"
      ],
      "execution_count": 0,
      "outputs": []
    },
    {
      "cell_type": "code",
      "metadata": {
        "id": "IGAEaWPDZBrd",
        "colab_type": "code",
        "outputId": "2b8eec7c-6d6e-4fe3-abb9-f87b3f0cb1e9",
        "colab": {
          "base_uri": "https://localhost:8080/",
          "height": 34
        }
      },
      "source": [
        "%%bash --bg\n",
        "nohup tensorflow_model_server \\\n",
        "--rest_api_port=8501\\\n",
        "--model name=fashion_model \\\n",
        "--model_base_path=\"{$MODEL_DIR}\" >server.log 2>&1\n"
      ],
      "execution_count": 0,
      "outputs": [
        {
          "output_type": "stream",
          "text": [
            "Starting job # 0 in a separate thread.\n"
          ],
          "name": "stdout"
        }
      ]
    },
    {
      "cell_type": "code",
      "metadata": {
        "id": "pM2yYRPLagn8",
        "colab_type": "code",
        "outputId": "17e39e1b-447a-4ab4-aff3-d2a72d1c5b28",
        "colab": {
          "base_uri": "https://localhost:8080/",
          "height": 34
        }
      },
      "source": [
        "!tail server.log"
      ],
      "execution_count": 0,
      "outputs": [
        {
          "output_type": "stream",
          "text": [
            "nohup: failed to run command 'tensorflow_model_server': No such file or directory\n"
          ],
          "name": "stdout"
        }
      ]
    },
    {
      "cell_type": "code",
      "metadata": {
        "id": "V_YWSEBbaqnA",
        "colab_type": "code",
        "colab": {}
      },
      "source": [
        "#labels mapping\n",
        "labels= '''Tshirt/top\n",
        "Trouser\n",
        "Pullover\n",
        "Dress\n",
        "Coat\n",
        "Sandal\n",
        "Shirt\n",
        "Sneaker\n",
        "Bag\n",
        "Ankle boot'''.split()"
      ],
      "execution_count": 0,
      "outputs": []
    },
    {
      "cell_type": "code",
      "metadata": {
        "id": "OOt7pAIeaxro",
        "colab_type": "code",
        "colab": {}
      },
      "source": [
        ""
      ],
      "execution_count": 0,
      "outputs": []
    }
  ]
}