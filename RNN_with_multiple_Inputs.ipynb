{
  "nbformat": 4,
  "nbformat_minor": 0,
  "metadata": {
    "colab": {
      "name": "RNN with multiple Inputs",
      "provenance": [],
      "collapsed_sections": []
    },
    "kernelspec": {
      "name": "python3",
      "display_name": "Python 3"
    }
  },
  "cells": [
    {
      "cell_type": "code",
      "metadata": {
        "id": "lkDM4Sf8KXe0",
        "colab_type": "code",
        "colab": {}
      },
      "source": [
        "import tensorflow  as tf\n",
        "import numpy as np\n",
        "import matplotlib.pyplot as plt\n",
        "\n",
        "from tensorflow.keras.layers import Input,Dense,SimpleRNN,Flatten\n",
        "from tensorflow.keras.models import Model\n",
        "from tensorflow.keras.optimizers import Adam,SGD"
      ],
      "execution_count": 0,
      "outputs": []
    },
    {
      "cell_type": "code",
      "metadata": {
        "id": "tqIPtnK3KfOd",
        "colab_type": "code",
        "outputId": "01657be3-4ab3-4d62-c0ef-cdaab7b47874",
        "colab": {
          "base_uri": "https://localhost:8080/",
          "height": 561
        }
      },
      "source": [
        "N=3\n",
        "T=10\n",
        "D=3\n",
        "K=2\n",
        "X= np.random.randn(N,T,D)\n",
        "print(X)"
      ],
      "execution_count": 0,
      "outputs": [
        {
          "output_type": "stream",
          "text": [
            "[[[-2.15993509  0.32639809  0.65989884]\n",
            "  [ 0.21709787 -1.21078285 -2.73288009]\n",
            "  [ 1.74912446 -1.34519393 -0.12412736]\n",
            "  [ 1.40499351 -1.1648973   0.54654498]\n",
            "  [ 1.52940471  0.07139355  1.08439314]\n",
            "  [ 0.18518555 -0.24266841 -1.35522584]\n",
            "  [ 0.09844458  0.94931406  1.27149913]\n",
            "  [-0.61552058  0.57901331  0.35579495]\n",
            "  [-0.94098049 -0.18268192 -0.5701799 ]\n",
            "  [-1.96439798 -0.59489825 -0.29221341]]\n",
            "\n",
            " [[ 0.44662116 -0.8630048  -0.25534218]\n",
            "  [-0.08216447  0.05142697 -0.37090561]\n",
            "  [ 0.07620883  0.07250335  0.5398241 ]\n",
            "  [ 1.01925379 -0.50494297 -1.27279406]\n",
            "  [-1.76185636 -0.6523466   0.71419522]\n",
            "  [ 0.08524251 -0.47478985  0.85644814]\n",
            "  [ 0.08557756 -1.03344249 -0.5648453 ]\n",
            "  [ 1.73585838 -1.47797076 -0.93761597]\n",
            "  [ 1.09427657  0.30266854 -0.27871408]\n",
            "  [ 0.95447844  1.29431368  0.42533389]]\n",
            "\n",
            " [[ 0.84075209 -2.52003985  0.51415255]\n",
            "  [ 0.1281368  -1.26686159 -0.29934415]\n",
            "  [ 0.51941756 -1.37913089 -1.23016047]\n",
            "  [ 0.85319659 -1.21349916 -0.69081848]\n",
            "  [ 1.30149293 -0.54155575  2.09073943]\n",
            "  [ 0.74306876  0.31813143 -1.09279373]\n",
            "  [-0.75040668  0.19901787  0.18038052]\n",
            "  [-0.54995607  0.92433576 -0.56119158]\n",
            "  [-0.63019286 -0.49020835 -0.72515336]\n",
            "  [ 1.78003386 -0.88074433  1.63544916]]]\n"
          ],
          "name": "stdout"
        }
      ]
    },
    {
      "cell_type": "code",
      "metadata": {
        "id": "mcKn21_8KpbS",
        "colab_type": "code",
        "colab": {}
      },
      "source": [
        "M=5\n",
        "i= Input(shape=(T,D))\n",
        "x= SimpleRNN(M)(i)\n",
        "x= Dense(K)(x)\n",
        "\n",
        "model= Model(i,x)"
      ],
      "execution_count": 0,
      "outputs": []
    },
    {
      "cell_type": "code",
      "metadata": {
        "id": "bXFpvuHqK6zb",
        "colab_type": "code",
        "outputId": "2f7003ef-02b8-4763-e1ca-734b8d4af4fd",
        "colab": {
          "base_uri": "https://localhost:8080/",
          "height": 68
        }
      },
      "source": [
        "Yhat= model.predict(X)\n",
        "print(Yhat)"
      ],
      "execution_count": 0,
      "outputs": [
        {
          "output_type": "stream",
          "text": [
            "[[ 0.4109731   0.15476732]\n",
            " [-0.1572231  -0.19620991]\n",
            " [-1.4357537  -0.20747247]]\n"
          ],
          "name": "stdout"
        }
      ]
    },
    {
      "cell_type": "code",
      "metadata": {
        "id": "O_qrPujUK-J5",
        "colab_type": "code",
        "outputId": "1dd0800d-4fa1-4335-9c3b-f5b9d40a0fd7",
        "colab": {
          "base_uri": "https://localhost:8080/",
          "height": 255
        }
      },
      "source": [
        "model.summary()"
      ],
      "execution_count": 0,
      "outputs": [
        {
          "output_type": "stream",
          "text": [
            "Model: \"model_2\"\n",
            "_________________________________________________________________\n",
            "Layer (type)                 Output Shape              Param #   \n",
            "=================================================================\n",
            "input_3 (InputLayer)         [(None, 10, 3)]           0         \n",
            "_________________________________________________________________\n",
            "simple_rnn_2 (SimpleRNN)     (None, 5)                 45        \n",
            "_________________________________________________________________\n",
            "dense_2 (Dense)              (None, 2)                 12        \n",
            "=================================================================\n",
            "Total params: 57\n",
            "Trainable params: 57\n",
            "Non-trainable params: 0\n",
            "_________________________________________________________________\n"
          ],
          "name": "stdout"
        }
      ]
    },
    {
      "cell_type": "code",
      "metadata": {
        "id": "YNixcoZ0LGK4",
        "colab_type": "code",
        "outputId": "22bafd71-7793-4ce1-c97f-1df9b134edc9",
        "colab": {
          "base_uri": "https://localhost:8080/",
          "height": 204
        }
      },
      "source": [
        "model.layers[1].get_weights()"
      ],
      "execution_count": 0,
      "outputs": [
        {
          "output_type": "execute_result",
          "data": {
            "text/plain": [
              "[array([[ 0.28798133, -0.55309653, -0.66902983,  0.2595976 ,  0.7942863 ],\n",
              "        [-0.04810387,  0.47461706, -0.56197095, -0.5589006 ,  0.35798556],\n",
              "        [ 0.01822406,  0.4571069 , -0.2073927 ,  0.8223316 ,  0.29508716]],\n",
              "       dtype=float32),\n",
              " array([[ 0.25893438,  0.1230474 ,  0.24338518,  0.89840657, -0.22680739],\n",
              "        [-0.901738  , -0.2722408 , -0.0962845 ,  0.3216213 , -0.00651346],\n",
              "        [-0.26375097,  0.58651066,  0.6073413 , -0.05181641,  0.46356493],\n",
              "        [-0.18651694,  0.7420937 , -0.45373046, -0.03983663, -0.4550277 ],\n",
              "        [-0.12437088, -0.12667508,  0.5972926 , -0.29181087, -0.7256537 ]],\n",
              "       dtype=float32),\n",
              " array([0., 0., 0., 0., 0.], dtype=float32)]"
            ]
          },
          "metadata": {
            "tags": []
          },
          "execution_count": 26
        }
      ]
    },
    {
      "cell_type": "code",
      "metadata": {
        "id": "Ump68hP1LTzm",
        "colab_type": "code",
        "outputId": "34751847-6248-4a17-a50e-26d36f4c8de8",
        "colab": {
          "base_uri": "https://localhost:8080/",
          "height": 34
        }
      },
      "source": [
        "a,b,c= model.layers[1].get_weights()\n",
        "print(a.shape, b.shape, c.shape)\n",
        "\n",
        "#output 1 is input to hidden\n",
        "#output 2 is hidden to hidden\n",
        "#output 3 is bias term(vector of length M)\n",
        "\n",
        "\n"
      ],
      "execution_count": 0,
      "outputs": [
        {
          "output_type": "stream",
          "text": [
            "(3, 5) (5, 5) (5,)\n"
          ],
          "name": "stdout"
        }
      ]
    },
    {
      "cell_type": "code",
      "metadata": {
        "id": "6kMix7RoLcmR",
        "colab_type": "code",
        "colab": {}
      },
      "source": [
        "Wx,Wh,bh= model.layers[1].get_weights()\n",
        "Wo,bo= model.layers[2].get_weights()\n"
      ],
      "execution_count": 0,
      "outputs": []
    },
    {
      "cell_type": "code",
      "metadata": {
        "id": "lpMLY9-6LjUc",
        "colab_type": "code",
        "outputId": "b8ae0a8e-db59-48dd-c114-2a2743b01d8d",
        "colab": {
          "base_uri": "https://localhost:8080/",
          "height": 187
        }
      },
      "source": [
        "h_last= np.zeros(M)#initial hidden state\n",
        "x= X[0]#one and only sample\n",
        "yhats= [] #storing outputs\n",
        "\n",
        "for t in range(T):\n",
        "  h= np.tanh(x[t].dot(Wx) + h_last.dot(Wh) +bh)\n",
        "  y= h.dot(Wo) + bo #output value in it\n",
        "  yhats.append(y)\n",
        "\n",
        "  h_last= h #assigning the h_last\n",
        "\n",
        "  print(yhats[-1])\n"
      ],
      "execution_count": 0,
      "outputs": [
        {
          "output_type": "stream",
          "text": [
            "[0.79760823 0.11604517]\n",
            "[ 0.07434355 -0.2324485 ]\n",
            "[-2.01820143 -0.25648435]\n",
            "[-2.49191272  0.10594964]\n",
            "[-0.22022763 -0.27388739]\n",
            "[0.28141858 0.50633807]\n",
            "[ 0.58661466 -0.37296907]\n",
            "[0.39000293 0.35932507]\n",
            "[ 1.33834767 -0.00892721]\n",
            "[0.41097324 0.15476727]\n"
          ],
          "name": "stdout"
        }
      ]
    },
    {
      "cell_type": "code",
      "metadata": {
        "id": "VQmQoEASLnsM",
        "colab_type": "code",
        "colab": {}
      },
      "source": [
        ""
      ],
      "execution_count": 0,
      "outputs": []
    }
  ]
}