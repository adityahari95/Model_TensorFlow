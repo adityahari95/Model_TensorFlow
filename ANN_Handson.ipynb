{
  "nbformat": 4,
  "nbformat_minor": 0,
  "metadata": {
    "colab": {
      "name": "ANN_Handson.ipynb",
      "provenance": [],
      "collapsed_sections": []
    },
    "kernelspec": {
      "name": "python3",
      "display_name": "Python 3"
    }
  },
  "cells": [
    {
      "cell_type": "code",
      "metadata": {
        "id": "kfjOoaw4e5Cw",
        "colab_type": "code",
        "colab": {}
      },
      "source": [
        "import numpy as np\n",
        "import pandas as pd\n",
        "import tensorflow as tf\n",
        "import matplotlib.pyplot as plt\n"
      ],
      "execution_count": 0,
      "outputs": []
    },
    {
      "cell_type": "code",
      "metadata": {
        "id": "ivksgeQWWige",
        "colab_type": "code",
        "outputId": "43bb649a-2ac0-4738-a8c9-25f2aaf1bac3",
        "colab": {
          "base_uri": "https://localhost:8080/",
          "height": 92
        }
      },
      "source": [
        "#Load in data\n",
        "mnist = tf.keras.datasets.mnist\n",
        "\n",
        "(x_train,y_train), (x_test,y_test) = mnist.load_data()\n",
        "x_train, x_test = x_train/255.0,x_test /255.0 \n",
        "print(\"x_train.shape:\",x_train.shape)"
      ],
      "execution_count": 0,
      "outputs": [
        {
          "output_type": "stream",
          "text": [
            "Downloading data from https://storage.googleapis.com/tensorflow/tf-keras-datasets/mnist.npz\n",
            "11493376/11490434 [==============================] - 0s 0us/step\n",
            "x_train.shape: (60000, 28, 28)\n"
          ],
          "name": "stdout"
        }
      ]
    },
    {
      "cell_type": "code",
      "metadata": {
        "id": "ZURZwMGy0xMS",
        "colab_type": "code",
        "colab": {}
      },
      "source": [
        "#Build the model\n",
        "\n",
        "model= tf.keras.models.Sequential([\n",
        "    tf.keras.layers.Flatten(input_shape=(28,28)),\n",
        "    tf.keras.layers.Dense(128,activation='relu'),\n",
        "    tf.keras.layers.Dropout(0.2),\n",
        "    tf.keras.layers.Dense(10,activation='softmax')                         \n",
        "])\n"
      ],
      "execution_count": 0,
      "outputs": []
    },
    {
      "cell_type": "code",
      "metadata": {
        "id": "VVrsVuLG15J0",
        "colab_type": "code",
        "colab": {}
      },
      "source": [
        "#compile the model\n",
        "model.compile(optimizer='adam',\n",
        "              loss='sparse_categorical_crossentropy',\n",
        "              metrics=['accuracy'])"
      ],
      "execution_count": 0,
      "outputs": []
    },
    {
      "cell_type": "code",
      "metadata": {
        "id": "c-LHq1LE2N4P",
        "colab_type": "code",
        "outputId": "107f99bf-fa03-46be-bc23-ea68260e7984",
        "colab": {
          "base_uri": "https://localhost:8080/",
          "height": 401
        }
      },
      "source": [
        "#Train the model\n",
        "r=model.fit(x_train,y_train,validation_data=(x_test,y_test),epochs=10)\n"
      ],
      "execution_count": 0,
      "outputs": [
        {
          "output_type": "stream",
          "text": [
            "Epoch 1/10\n",
            "1875/1875 [==============================] - 4s 2ms/step - loss: 0.2971 - accuracy: 0.9135 - val_loss: 0.1444 - val_accuracy: 0.9590\n",
            "Epoch 2/10\n",
            "1875/1875 [==============================] - 4s 2ms/step - loss: 0.1412 - accuracy: 0.9577 - val_loss: 0.0976 - val_accuracy: 0.9687\n",
            "Epoch 3/10\n",
            "1875/1875 [==============================] - 4s 2ms/step - loss: 0.1067 - accuracy: 0.9679 - val_loss: 0.0838 - val_accuracy: 0.9740\n",
            "Epoch 4/10\n",
            "1875/1875 [==============================] - 4s 2ms/step - loss: 0.0891 - accuracy: 0.9729 - val_loss: 0.0750 - val_accuracy: 0.9757\n",
            "Epoch 5/10\n",
            "1875/1875 [==============================] - 4s 2ms/step - loss: 0.0744 - accuracy: 0.9774 - val_loss: 0.0734 - val_accuracy: 0.9759\n",
            "Epoch 6/10\n",
            "1875/1875 [==============================] - 4s 2ms/step - loss: 0.0659 - accuracy: 0.9793 - val_loss: 0.0690 - val_accuracy: 0.9788\n",
            "Epoch 7/10\n",
            "1875/1875 [==============================] - 4s 2ms/step - loss: 0.0594 - accuracy: 0.9803 - val_loss: 0.0717 - val_accuracy: 0.9785\n",
            "Epoch 8/10\n",
            "1875/1875 [==============================] - 4s 2ms/step - loss: 0.0543 - accuracy: 0.9827 - val_loss: 0.0663 - val_accuracy: 0.9808\n",
            "Epoch 9/10\n",
            "1875/1875 [==============================] - 4s 2ms/step - loss: 0.0465 - accuracy: 0.9847 - val_loss: 0.0686 - val_accuracy: 0.9809\n",
            "Epoch 10/10\n",
            "1875/1875 [==============================] - 4s 2ms/step - loss: 0.0436 - accuracy: 0.9856 - val_loss: 0.0649 - val_accuracy: 0.9807\n"
          ],
          "name": "stdout"
        }
      ]
    },
    {
      "cell_type": "code",
      "metadata": {
        "id": "rJT9Gpqk25Kb",
        "colab_type": "code",
        "outputId": "f95da5b3-f0cd-463f-cc8d-9909735aa4f1",
        "colab": {
          "base_uri": "https://localhost:8080/",
          "height": 283
        }
      },
      "source": [
        "#plot loss per iteration\n",
        "plt.plot(r.history['loss'],label='loss')\n",
        "plt.plot(r.history['val_loss'],label='val_loss')\n",
        "plt.legend()"
      ],
      "execution_count": 0,
      "outputs": [
        {
          "output_type": "execute_result",
          "data": {
            "text/plain": [
              "<matplotlib.legend.Legend at 0x7f8c08b2ca58>"
            ]
          },
          "metadata": {
            "tags": []
          },
          "execution_count": 6
        },
        {
          "output_type": "display_data",
          "data": {
            "image/png": "[encoded data removed]",
            "text/plain": [
              "<Figure size 432x288 with 1 Axes>"
            ]
          },
          "metadata": {
            "tags": [],
            "needs_background": "light"
          }
        }
      ]
    },
    {
      "cell_type": "code",
      "metadata": {
        "id": "SZ-xAYq63xkn",
        "colab_type": "code",
        "outputId": "72defd68-6bff-4cef-a119-dbc224dde1d8",
        "colab": {
          "base_uri": "https://localhost:8080/",
          "height": 283
        }
      },
      "source": [
        "#plot accuracy per iteration\n",
        "plt.plot(r.history['accuracy'],label='acc')\n",
        "plt.plot(r.history['val_accuracy'],label='val_acc')\n",
        "plt.legend()"
      ],
      "execution_count": 0,
      "outputs": [
        {
          "output_type": "execute_result",
          "data": {
            "text/plain": [
              "<matplotlib.legend.Legend at 0x7f8c5421ba20>"
            ]
          },
          "metadata": {
            "tags": []
          },
          "execution_count": 7
        },
        {
          "output_type": "display_data",
          "data": {
            "image/png": "[encoded data removed]",
            "text/plain": [
              "<Figure size 432x288 with 1 Axes>"
            ]
          },
          "metadata": {
            "tags": [],
            "needs_background": "light"
          }
        }
      ]
    },
    {
      "cell_type": "code",
      "metadata": {
        "id": "jshqdIZP4asH",
        "colab_type": "code",
        "outputId": "29f5617f-1932-454e-aaca-c8869f1ed808",
        "colab": {
          "base_uri": "https://localhost:8080/",
          "height": 74
        }
      },
      "source": [
        "#Evaluate the model\n",
        "print(model.evaluate(x_test,y_test))\n"
      ],
      "execution_count": 0,
      "outputs": [
        {
          "output_type": "stream",
          "text": [
            "313/313 [==============================] - 0s 1ms/step - loss: 0.0649 - accuracy: 0.9807\n",
            "[0.0649154856801033, 0.9807000160217285]\n"
          ],
          "name": "stdout"
        }
      ]
    },
    {
      "cell_type": "code",
      "metadata": {
        "id": "T7b-EVWS4ts2",
        "colab_type": "code",
        "outputId": "f78f73bb-6eda-414b-e49b-f9f9773185b8",
        "colab": {
          "base_uri": "https://localhost:8080/",
          "height": 511
        }
      },
      "source": [
        "#plot Confusion matrix\n",
        "\n",
        "from sklearn.metrics import confusion_matrix\n",
        "import numpy as np\n",
        "import itertools\n",
        "\n",
        "def plot_confusion_matrix(cm,classes,\n",
        "                          normalize=False,\n",
        "                          title='Confusion matrix',\n",
        "                          cmap=plt.cm.Blues):\n",
        "  \n",
        "  #this function prints and plots the confusion matrix\n",
        "  if normalize:\n",
        "      cm = cm.astype('float')/cm.sum(axis=1)[:,np.newaxis]\n",
        "  else:\n",
        "      print('Confusion matrix, without normalization')\n",
        "\n",
        "  print(cm)\n",
        "\n",
        "  plt.imshow(cm,interpolation='nearest',cmap=cmap)\n",
        "  plt.title(title)\n",
        "  plt.colorbar()\n",
        "  tick_marks = np.arange(len(classes))\n",
        "  plt.xticks(tick_marks,classes,rotation=45)\n",
        "  plt.yticks(tick_marks,classes)\n",
        "\n",
        "  fmt ='.2f'if normalize else 'd'\n",
        "  thresh = cm.max()/2.\n",
        "  for i,j in itertools.product(range(cm.shape[0]),range(cm.shape[1])):\n",
        "      plt.text(j,i,format(cm[i,j],fmt),\n",
        "             horizontalalignment='center',\n",
        "             color='white' if cm[i,j] > thresh else \"black\")\n",
        "    \n",
        "  plt.tight_layout()\n",
        "  plt.ylabel('True_label')\n",
        "  plt.xlabel('Predicted label')\n",
        "  plt.show()\n",
        "\n",
        "p_test = model.predict(x_test).argmax(axis=1)\n",
        "cm = confusion_matrix(y_test, p_test)\n",
        "plot_confusion_matrix(cm,list(range(10)))"
      ],
      "execution_count": 0,
      "outputs": [
        {
          "output_type": "stream",
          "text": [
            "Confusion matrix, without normalization\n",
            "[[ 972    0    0    0    0    1    3    1    2    1]\n",
            " [   0 1128    2    0    0    1    2    0    2    0]\n",
            " [   3    1 1009    1    3    0    2    6    7    0]\n",
            " [   1    0    4  991    0    4    0    4    4    2]\n",
            " [   1    0    2    1  964    0    3    0    0   11]\n",
            " [   2    0    0   11    2  863    4    1    8    1]\n",
            " [   6    1    1    1    5    3  938    0    3    0]\n",
            " [   2    3   11    1    2    0    0 1002    3    4]\n",
            " [   3    1    1    1    5    2    1    4  951    5]\n",
            " [   0    4    0    2    5    2    1    4    2  989]]\n"
          ],
          "name": "stdout"
        },
        {
          "output_type": "display_data",
          "data": {
            "image/png": "[encoded data removed]",
            "text/plain": [
              "<Figure size 432x288 with 2 Axes>"
            ]
          },
          "metadata": {
            "tags": [],
            "needs_background": "light"
          }
        }
      ]
    },
    {
      "cell_type": "code",
      "metadata": {
        "id": "Xiu-uLzDA9OZ",
        "colab_type": "code",
        "outputId": "86f61f9f-2478-4df5-9f56-b8ec2e019302",
        "colab": {
          "base_uri": "https://localhost:8080/",
          "height": 281
        }
      },
      "source": [
        "misclassified_idx = np.where(p_test !=y_test)[0]\n",
        "i= np.random.choice(misclassified_idx)\n",
        "plt.imshow(x_test[i],cmap='gray')\n",
        "plt.title('True label: %s Predicted: %s' % (y_test[i],p_test[i]));"
      ],
      "execution_count": 0,
      "outputs": [
        {
          "output_type": "display_data",
          "data": {
            "image/png": "[encoded data removed]",
            "text/plain": [
              "<Figure size 432x288 with 1 Axes>"
            ]
          },
          "metadata": {
            "tags": [],
            "needs_background": "light"
          }
        }
      ]
    }
  ]
}