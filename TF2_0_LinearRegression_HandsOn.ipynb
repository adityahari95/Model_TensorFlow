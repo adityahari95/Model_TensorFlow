{
  "nbformat": 4,
  "nbformat_minor": 0,
  "metadata": {
    "colab": {
      "name": "TF2.0-LinearRegression_HandsOn.ipynb",
      "provenance": [],
      "collapsed_sections": []
    },
    "kernelspec": {
      "name": "python3",
      "display_name": "Python 3"
    }
  },
  "cells": [
    {
      "cell_type": "code",
      "metadata": {
        "id": "Sr5Oc0tkjfxz",
        "colab_type": "code",
        "colab": {}
      },
      "source": [
        "import pandas as pd\n",
        "import numpy as np\n",
        "import matplotlib.pyplot as plt\n"
      ],
      "execution_count": 0,
      "outputs": []
    },
    {
      "cell_type": "code",
      "metadata": {
        "id": "CaAAJ4DWvOQJ",
        "colab_type": "code",
        "outputId": "31c3c9f0-d249-4ec7-b454-2889b863351e",
        "colab": {
          "base_uri": "https://localhost:8080/",
          "height": 224
        }
      },
      "source": [
        "!wget https://raw.githubusercontent.com/lazyprogrammer/machine_learning_examples/master/tf2.0/moore.csv"
      ],
      "execution_count": 0,
      "outputs": [
        {
          "output_type": "stream",
          "text": [
            "--2020-04-19 15:55:00--  https://raw.githubusercontent.com/lazyprogrammer/machine_learning_examples/master/tf2.0/moore.csv\n",
            "Resolving raw.githubusercontent.com (raw.githubusercontent.com)... 151.101.0.133, 151.101.64.133, 151.101.128.133, ...\n",
            "Connecting to raw.githubusercontent.com (raw.githubusercontent.com)|151.101.0.133|:443... connected.\n",
            "HTTP request sent, awaiting response... 200 OK\n",
            "Length: 2302 (2.2K) [text/plain]\n",
            "Saving to: ‘moore.csv.3’\n",
            "\n",
            "\rmoore.csv.3           0%[                    ]       0  --.-KB/s               \rmoore.csv.3         100%[===================>]   2.25K  --.-KB/s    in 0s      \n",
            "\n",
            "2020-04-19 15:55:01 (43.7 MB/s) - ‘moore.csv.3’ saved [2302/2302]\n",
            "\n"
          ],
          "name": "stdout"
        }
      ]
    },
    {
      "cell_type": "code",
      "metadata": {
        "id": "rRcyX-quv57A",
        "colab_type": "code",
        "colab": {}
      },
      "source": [
        "data=pd.read_csv('moore.csv',header=None).values\n",
        "x= data[:,0].reshape(-1,1) #make it a 2-d array of size N * D where D=1\n",
        "y= data[:,1]"
      ],
      "execution_count": 0,
      "outputs": []
    },
    {
      "cell_type": "code",
      "metadata": {
        "id": "q_NtkEuswdGm",
        "colab_type": "code",
        "outputId": "1f8e6885-8d56-4cd5-e9b1-4eb16e5dbbb5",
        "colab": {
          "base_uri": "https://localhost:8080/",
          "height": 293
        }
      },
      "source": [
        "plt.scatter(x,y)"
      ],
      "execution_count": 0,
      "outputs": [
        {
          "output_type": "execute_result",
          "data": {
            "text/plain": [
              "<matplotlib.collections.PathCollection at 0x7f4dc646c668>"
            ]
          },
          "metadata": {
            "tags": []
          },
          "execution_count": 50
        },
        {
          "output_type": "display_data",
          "data": {
            "image/png": "[encoded data removed]",
            "text/plain": [
              "<Figure size 432x288 with 1 Axes>"
            ]
          },
          "metadata": {
            "tags": [],
            "needs_background": "light"
          }
        }
      ]
    },
    {
      "cell_type": "code",
      "metadata": {
        "id": "7nF6bfqTiKPS",
        "colab_type": "code",
        "outputId": "74ce1c0d-c727-4691-b43b-1b1472279863",
        "colab": {
          "base_uri": "https://localhost:8080/",
          "height": 282
        }
      },
      "source": [
        "y= np.log(y)\n",
        "plt.scatter(x,y)"
      ],
      "execution_count": 0,
      "outputs": [
        {
          "output_type": "execute_result",
          "data": {
            "text/plain": [
              "<matplotlib.collections.PathCollection at 0x7f4dc643a3c8>"
            ]
          },
          "metadata": {
            "tags": []
          },
          "execution_count": 51
        },
        {
          "output_type": "display_data",
          "data": {
            "image/png": "[encoded data removed]",
            "text/plain": [
              "<Figure size 432x288 with 1 Axes>"
            ]
          },
          "metadata": {
            "tags": [],
            "needs_background": "light"
          }
        }
      ]
    },
    {
      "cell_type": "code",
      "metadata": {
        "id": "Mz4wfr1BiuPb",
        "colab_type": "code",
        "colab": {}
      },
      "source": [
        "x = x-x.mean()\n",
        "#preprocessing"
      ],
      "execution_count": 0,
      "outputs": []
    },
    {
      "cell_type": "code",
      "metadata": {
        "id": "ln3LZnITi1mV",
        "colab_type": "code",
        "outputId": "cc0f3ad9-b0bb-4097-d009-2a95ee343d95",
        "colab": {
          "base_uri": "https://localhost:8080/",
          "height": 1000
        }
      },
      "source": [
        "#creating tensorflow model\n",
        "import tensorflow as tf\n",
        "\n",
        "model= tf.keras.models.Sequential([\n",
        "        tf.keras.layers.Input(shape=(1,)),\n",
        "        tf.keras.layers.Dense(1)\n",
        "        ])\n",
        "\n",
        "model.compile(optimizer=tf.keras.optimizers.SGD(0.001,0.9), loss='mse')\n",
        "\n",
        "#learning rate scheduler\n",
        "def schedule(epoch,lr):\n",
        "  if epoch >=50:\n",
        "    return 0.001\n",
        "  return 0.001\n",
        "\n",
        "scheduler = tf.keras.callbacks.LearningRateScheduler(schedule)\n",
        "\n",
        "#train the model\n",
        "r = model.fit(x,y,epochs=200,callbacks=[scheduler])\n"
      ],
      "execution_count": 0,
      "outputs": [
        {
          "output_type": "stream",
          "text": [
            "Epoch 1/200\n",
            "6/6 [==============================] - 0s 1ms/step - loss: 300.8813 - lr: 0.0010\n",
            "Epoch 2/200\n",
            "6/6 [==============================] - 0s 1ms/step - loss: 394.9570 - lr: 0.0010\n",
            "Epoch 3/200\n",
            "6/6 [==============================] - 0s 1ms/step - loss: 277.2915 - lr: 0.0010\n",
            "Epoch 4/200\n",
            "6/6 [==============================] - 0s 1ms/step - loss: 227.2786 - lr: 0.0010\n",
            "Epoch 5/200\n",
            "6/6 [==============================] - 0s 1ms/step - loss: 198.9086 - lr: 0.0010\n",
            "Epoch 6/200\n",
            "6/6 [==============================] - 0s 1ms/step - loss: 125.8082 - lr: 0.0010\n",
            "Epoch 7/200\n",
            "6/6 [==============================] - 0s 1ms/step - loss: 83.7210 - lr: 0.0010\n",
            "Epoch 8/200\n",
            "6/6 [==============================] - 0s 1ms/step - loss: 80.4457 - lr: 0.0010\n",
            "Epoch 9/200\n",
            "6/6 [==============================] - 0s 1ms/step - loss: 113.3543 - lr: 0.0010\n",
            "Epoch 10/200\n",
            "6/6 [==============================] - 0s 1ms/step - loss: 56.8181 - lr: 0.0010\n",
            "Epoch 11/200\n",
            "6/6 [==============================] - 0s 1ms/step - loss: 32.5415 - lr: 0.0010\n",
            "Epoch 12/200\n",
            "6/6 [==============================] - 0s 1ms/step - loss: 20.1621 - lr: 0.0010\n",
            "Epoch 13/200\n",
            "6/6 [==============================] - 0s 1ms/step - loss: 13.5420 - lr: 0.0010\n",
            "Epoch 14/200\n",
            "6/6 [==============================] - 0s 1ms/step - loss: 10.9128 - lr: 0.0010\n",
            "Epoch 15/200\n",
            "6/6 [==============================] - 0s 1ms/step - loss: 8.1849 - lr: 0.0010\n",
            "Epoch 16/200\n",
            "6/6 [==============================] - 0s 1ms/step - loss: 7.4358 - lr: 0.0010\n",
            "Epoch 17/200\n",
            "6/6 [==============================] - 0s 1ms/step - loss: 6.0089 - lr: 0.0010\n",
            "Epoch 18/200\n",
            "6/6 [==============================] - 0s 1ms/step - loss: 5.4158 - lr: 0.0010\n",
            "Epoch 19/200\n",
            "6/6 [==============================] - 0s 1ms/step - loss: 3.3072 - lr: 0.0010\n",
            "Epoch 20/200\n",
            "6/6 [==============================] - 0s 1ms/step - loss: 2.4140 - lr: 0.0010\n",
            "Epoch 21/200\n",
            "6/6 [==============================] - 0s 2ms/step - loss: 1.5741 - lr: 0.0010\n",
            "Epoch 22/200\n",
            "6/6 [==============================] - 0s 1ms/step - loss: 1.3991 - lr: 0.0010\n",
            "Epoch 23/200\n",
            "6/6 [==============================] - 0s 2ms/step - loss: 1.4157 - lr: 0.0010\n",
            "Epoch 24/200\n",
            "6/6 [==============================] - 0s 1ms/step - loss: 1.0761 - lr: 0.0010\n",
            "Epoch 25/200\n",
            "6/6 [==============================] - 0s 2ms/step - loss: 1.3504 - lr: 0.0010\n",
            "Epoch 26/200\n",
            "6/6 [==============================] - 0s 2ms/step - loss: 1.3018 - lr: 0.0010\n",
            "Epoch 27/200\n",
            "6/6 [==============================] - 0s 1ms/step - loss: 1.5896 - lr: 0.0010\n",
            "Epoch 28/200\n",
            "6/6 [==============================] - 0s 2ms/step - loss: 1.0353 - lr: 0.0010\n",
            "Epoch 29/200\n",
            "6/6 [==============================] - 0s 2ms/step - loss: 1.4497 - lr: 0.0010\n",
            "Epoch 30/200\n",
            "6/6 [==============================] - 0s 1ms/step - loss: 1.0461 - lr: 0.0010\n",
            "Epoch 31/200\n",
            "6/6 [==============================] - 0s 1ms/step - loss: 1.0661 - lr: 0.0010\n",
            "Epoch 32/200\n",
            "6/6 [==============================] - 0s 1ms/step - loss: 0.9387 - lr: 0.0010\n",
            "Epoch 33/200\n",
            "6/6 [==============================] - 0s 1ms/step - loss: 1.1522 - lr: 0.0010\n",
            "Epoch 34/200\n",
            "6/6 [==============================] - 0s 2ms/step - loss: 2.3677 - lr: 0.0010\n",
            "Epoch 35/200\n",
            "6/6 [==============================] - 0s 2ms/step - loss: 0.8622 - lr: 0.0010\n",
            "Epoch 36/200\n",
            "6/6 [==============================] - 0s 1ms/step - loss: 1.0813 - lr: 0.0010\n",
            "Epoch 37/200\n",
            "6/6 [==============================] - 0s 2ms/step - loss: 0.8691 - lr: 0.0010\n",
            "Epoch 38/200\n",
            "6/6 [==============================] - 0s 2ms/step - loss: 0.8814 - lr: 0.0010\n",
            "Epoch 39/200\n",
            "6/6 [==============================] - 0s 1ms/step - loss: 0.7960 - lr: 0.0010\n",
            "Epoch 40/200\n",
            "6/6 [==============================] - 0s 2ms/step - loss: 0.8584 - lr: 0.0010\n",
            "Epoch 41/200\n",
            "6/6 [==============================] - 0s 1ms/step - loss: 1.7489 - lr: 0.0010\n",
            "Epoch 42/200\n",
            "6/6 [==============================] - 0s 1ms/step - loss: 1.3910 - lr: 0.0010\n",
            "Epoch 43/200\n",
            "6/6 [==============================] - 0s 2ms/step - loss: 0.8549 - lr: 0.0010\n",
            "Epoch 44/200\n",
            "6/6 [==============================] - 0s 1ms/step - loss: 0.7817 - lr: 0.0010\n",
            "Epoch 45/200\n",
            "6/6 [==============================] - 0s 1ms/step - loss: 0.8076 - lr: 0.0010\n",
            "Epoch 46/200\n",
            "6/6 [==============================] - 0s 1ms/step - loss: 0.8112 - lr: 0.0010\n",
            "Epoch 47/200\n",
            "6/6 [==============================] - 0s 1ms/step - loss: 0.7912 - lr: 0.0010\n",
            "Epoch 48/200\n",
            "6/6 [==============================] - 0s 2ms/step - loss: 0.8489 - lr: 0.0010\n",
            "Epoch 49/200\n",
            "6/6 [==============================] - 0s 1ms/step - loss: 0.9976 - lr: 0.0010\n",
            "Epoch 50/200\n",
            "6/6 [==============================] - 0s 2ms/step - loss: 1.0154 - lr: 0.0010\n",
            "Epoch 51/200\n",
            "6/6 [==============================] - 0s 2ms/step - loss: 0.7845 - lr: 0.0010\n",
            "Epoch 52/200\n",
            "6/6 [==============================] - 0s 1ms/step - loss: 0.8054 - lr: 0.0010\n",
            "Epoch 53/200\n",
            "6/6 [==============================] - 0s 2ms/step - loss: 0.7896 - lr: 0.0010\n",
            "Epoch 54/200\n",
            "6/6 [==============================] - 0s 2ms/step - loss: 0.9029 - lr: 0.0010\n",
            "Epoch 55/200\n",
            "6/6 [==============================] - 0s 1ms/step - loss: 1.0923 - lr: 0.0010\n",
            "Epoch 56/200\n",
            "6/6 [==============================] - 0s 1ms/step - loss: 1.0724 - lr: 0.0010\n",
            "Epoch 57/200\n",
            "6/6 [==============================] - 0s 1ms/step - loss: 1.3696 - lr: 0.0010\n",
            "Epoch 58/200\n",
            "6/6 [==============================] - 0s 1ms/step - loss: 1.0346 - lr: 0.0010\n",
            "Epoch 59/200\n",
            "6/6 [==============================] - 0s 2ms/step - loss: 1.4496 - lr: 0.0010\n",
            "Epoch 60/200\n",
            "6/6 [==============================] - 0s 2ms/step - loss: 1.1427 - lr: 0.0010\n",
            "Epoch 61/200\n",
            "6/6 [==============================] - 0s 1ms/step - loss: 0.8783 - lr: 0.0010\n",
            "Epoch 62/200\n",
            "6/6 [==============================] - 0s 1ms/step - loss: 0.8497 - lr: 0.0010\n",
            "Epoch 63/200\n",
            "6/6 [==============================] - 0s 2ms/step - loss: 0.9261 - lr: 0.0010\n",
            "Epoch 64/200\n",
            "6/6 [==============================] - 0s 2ms/step - loss: 1.1355 - lr: 0.0010\n",
            "Epoch 65/200\n",
            "6/6 [==============================] - 0s 2ms/step - loss: 0.9677 - lr: 0.0010\n",
            "Epoch 66/200\n",
            "6/6 [==============================] - 0s 1ms/step - loss: 0.8641 - lr: 0.0010\n",
            "Epoch 67/200\n",
            "6/6 [==============================] - 0s 1ms/step - loss: 0.8153 - lr: 0.0010\n",
            "Epoch 68/200\n",
            "6/6 [==============================] - 0s 2ms/step - loss: 0.8379 - lr: 0.0010\n",
            "Epoch 69/200\n",
            "6/6 [==============================] - 0s 1ms/step - loss: 0.8847 - lr: 0.0010\n",
            "Epoch 70/200\n",
            "6/6 [==============================] - 0s 1ms/step - loss: 1.0967 - lr: 0.0010\n",
            "Epoch 71/200\n",
            "6/6 [==============================] - 0s 2ms/step - loss: 1.3684 - lr: 0.0010\n",
            "Epoch 72/200\n",
            "6/6 [==============================] - 0s 2ms/step - loss: 1.1916 - lr: 0.0010\n",
            "Epoch 73/200\n",
            "6/6 [==============================] - 0s 1ms/step - loss: 2.8539 - lr: 0.0010\n",
            "Epoch 74/200\n",
            "6/6 [==============================] - 0s 1ms/step - loss: 0.9798 - lr: 0.0010\n",
            "Epoch 75/200\n",
            "6/6 [==============================] - 0s 2ms/step - loss: 0.8822 - lr: 0.0010\n",
            "Epoch 76/200\n",
            "6/6 [==============================] - 0s 2ms/step - loss: 0.8875 - lr: 0.0010\n",
            "Epoch 77/200\n",
            "6/6 [==============================] - 0s 1ms/step - loss: 0.7935 - lr: 0.0010\n",
            "Epoch 78/200\n",
            "6/6 [==============================] - 0s 2ms/step - loss: 1.1530 - lr: 0.0010\n",
            "Epoch 79/200\n",
            "6/6 [==============================] - 0s 1ms/step - loss: 1.7967 - lr: 0.0010\n",
            "Epoch 80/200\n",
            "6/6 [==============================] - 0s 1ms/step - loss: 1.8734 - lr: 0.0010\n",
            "Epoch 81/200\n",
            "6/6 [==============================] - 0s 2ms/step - loss: 1.6631 - lr: 0.0010\n",
            "Epoch 82/200\n",
            "6/6 [==============================] - 0s 2ms/step - loss: 1.5169 - lr: 0.0010\n",
            "Epoch 83/200\n",
            "6/6 [==============================] - 0s 2ms/step - loss: 1.6942 - lr: 0.0010\n",
            "Epoch 84/200\n",
            "6/6 [==============================] - 0s 1ms/step - loss: 4.0002 - lr: 0.0010\n",
            "Epoch 85/200\n",
            "6/6 [==============================] - 0s 2ms/step - loss: 1.6658 - lr: 0.0010\n",
            "Epoch 86/200\n",
            "6/6 [==============================] - 0s 1ms/step - loss: 1.6019 - lr: 0.0010\n",
            "Epoch 87/200\n",
            "6/6 [==============================] - 0s 1ms/step - loss: 1.8618 - lr: 0.0010\n",
            "Epoch 88/200\n",
            "6/6 [==============================] - 0s 1ms/step - loss: 1.3512 - lr: 0.0010\n",
            "Epoch 89/200\n",
            "6/6 [==============================] - 0s 2ms/step - loss: 2.1534 - lr: 0.0010\n",
            "Epoch 90/200\n",
            "6/6 [==============================] - 0s 1ms/step - loss: 1.0378 - lr: 0.0010\n",
            "Epoch 91/200\n",
            "6/6 [==============================] - 0s 1ms/step - loss: 1.0690 - lr: 0.0010\n",
            "Epoch 92/200\n",
            "6/6 [==============================] - 0s 1ms/step - loss: 0.8914 - lr: 0.0010\n",
            "Epoch 93/200\n",
            "6/6 [==============================] - 0s 1ms/step - loss: 0.9242 - lr: 0.0010\n",
            "Epoch 94/200\n",
            "6/6 [==============================] - 0s 1ms/step - loss: 0.9041 - lr: 0.0010\n",
            "Epoch 95/200\n",
            "6/6 [==============================] - 0s 1ms/step - loss: 0.8987 - lr: 0.0010\n",
            "Epoch 96/200\n",
            "6/6 [==============================] - 0s 2ms/step - loss: 0.7826 - lr: 0.0010\n",
            "Epoch 97/200\n",
            "6/6 [==============================] - 0s 2ms/step - loss: 0.7700 - lr: 0.0010\n",
            "Epoch 98/200\n",
            "6/6 [==============================] - 0s 1ms/step - loss: 0.7872 - lr: 0.0010\n",
            "Epoch 99/200\n",
            "6/6 [==============================] - 0s 1ms/step - loss: 0.8172 - lr: 0.0010\n",
            "Epoch 100/200\n",
            "6/6 [==============================] - 0s 1ms/step - loss: 0.8279 - lr: 0.0010\n",
            "Epoch 101/200\n",
            "6/6 [==============================] - 0s 1ms/step - loss: 0.9361 - lr: 0.0010\n",
            "Epoch 102/200\n",
            "6/6 [==============================] - 0s 1ms/step - loss: 0.7751 - lr: 0.0010\n",
            "Epoch 103/200\n",
            "6/6 [==============================] - 0s 1ms/step - loss: 0.7833 - lr: 0.0010\n",
            "Epoch 104/200\n",
            "6/6 [==============================] - 0s 1ms/step - loss: 0.9266 - lr: 0.0010\n",
            "Epoch 105/200\n",
            "6/6 [==============================] - 0s 1ms/step - loss: 0.8334 - lr: 0.0010\n",
            "Epoch 106/200\n",
            "6/6 [==============================] - 0s 1ms/step - loss: 1.0414 - lr: 0.0010\n",
            "Epoch 107/200\n",
            "6/6 [==============================] - 0s 1ms/step - loss: 2.8418 - lr: 0.0010\n",
            "Epoch 108/200\n",
            "6/6 [==============================] - 0s 2ms/step - loss: 0.8858 - lr: 0.0010\n",
            "Epoch 109/200\n",
            "6/6 [==============================] - 0s 2ms/step - loss: 0.8536 - lr: 0.0010\n",
            "Epoch 110/200\n",
            "6/6 [==============================] - 0s 1ms/step - loss: 0.9735 - lr: 0.0010\n",
            "Epoch 111/200\n",
            "6/6 [==============================] - 0s 1ms/step - loss: 0.7706 - lr: 0.0010\n",
            "Epoch 112/200\n",
            "6/6 [==============================] - 0s 1ms/step - loss: 0.9640 - lr: 0.0010\n",
            "Epoch 113/200\n",
            "6/6 [==============================] - 0s 2ms/step - loss: 1.0510 - lr: 0.0010\n",
            "Epoch 114/200\n",
            "6/6 [==============================] - 0s 1ms/step - loss: 0.9675 - lr: 0.0010\n",
            "Epoch 115/200\n",
            "6/6 [==============================] - 0s 2ms/step - loss: 0.8980 - lr: 0.0010\n",
            "Epoch 116/200\n",
            "6/6 [==============================] - 0s 2ms/step - loss: 0.8507 - lr: 0.0010\n",
            "Epoch 117/200\n",
            "6/6 [==============================] - 0s 1ms/step - loss: 1.0909 - lr: 0.0010\n",
            "Epoch 118/200\n",
            "6/6 [==============================] - 0s 1ms/step - loss: 1.1298 - lr: 0.0010\n",
            "Epoch 119/200\n",
            "6/6 [==============================] - 0s 1ms/step - loss: 0.8453 - lr: 0.0010\n",
            "Epoch 120/200\n",
            "6/6 [==============================] - 0s 1ms/step - loss: 1.3376 - lr: 0.0010\n",
            "Epoch 121/200\n",
            "6/6 [==============================] - 0s 2ms/step - loss: 0.8105 - lr: 0.0010\n",
            "Epoch 122/200\n",
            "6/6 [==============================] - 0s 1ms/step - loss: 2.7424 - lr: 0.0010\n",
            "Epoch 123/200\n",
            "6/6 [==============================] - 0s 1ms/step - loss: 1.2944 - lr: 0.0010\n",
            "Epoch 124/200\n",
            "6/6 [==============================] - 0s 1ms/step - loss: 1.0728 - lr: 0.0010\n",
            "Epoch 125/200\n",
            "6/6 [==============================] - 0s 1ms/step - loss: 0.8078 - lr: 0.0010\n",
            "Epoch 126/200\n",
            "6/6 [==============================] - 0s 1ms/step - loss: 1.0407 - lr: 0.0010\n",
            "Epoch 127/200\n",
            "6/6 [==============================] - 0s 1ms/step - loss: 0.7842 - lr: 0.0010\n",
            "Epoch 128/200\n",
            "6/6 [==============================] - 0s 1ms/step - loss: 0.8854 - lr: 0.0010\n",
            "Epoch 129/200\n",
            "6/6 [==============================] - 0s 2ms/step - loss: 0.8648 - lr: 0.0010\n",
            "Epoch 130/200\n",
            "6/6 [==============================] - 0s 1ms/step - loss: 0.9832 - lr: 0.0010\n",
            "Epoch 131/200\n",
            "6/6 [==============================] - 0s 2ms/step - loss: 0.9064 - lr: 0.0010\n",
            "Epoch 132/200\n",
            "6/6 [==============================] - 0s 1ms/step - loss: 1.1295 - lr: 0.0010\n",
            "Epoch 133/200\n",
            "6/6 [==============================] - 0s 1ms/step - loss: 0.8403 - lr: 0.0010\n",
            "Epoch 134/200\n",
            "6/6 [==============================] - 0s 2ms/step - loss: 0.8674 - lr: 0.0010\n",
            "Epoch 135/200\n",
            "6/6 [==============================] - 0s 1ms/step - loss: 0.9702 - lr: 0.0010\n",
            "Epoch 136/200\n",
            "6/6 [==============================] - 0s 1ms/step - loss: 0.8916 - lr: 0.0010\n",
            "Epoch 137/200\n",
            "6/6 [==============================] - 0s 1ms/step - loss: 1.1367 - lr: 0.0010\n",
            "Epoch 138/200\n",
            "6/6 [==============================] - 0s 1ms/step - loss: 1.3004 - lr: 0.0010\n",
            "Epoch 139/200\n",
            "6/6 [==============================] - 0s 2ms/step - loss: 0.9390 - lr: 0.0010\n",
            "Epoch 140/200\n",
            "6/6 [==============================] - 0s 1ms/step - loss: 0.9411 - lr: 0.0010\n",
            "Epoch 141/200\n",
            "6/6 [==============================] - 0s 1ms/step - loss: 0.7708 - lr: 0.0010\n",
            "Epoch 142/200\n",
            "6/6 [==============================] - 0s 1ms/step - loss: 0.8178 - lr: 0.0010\n",
            "Epoch 143/200\n",
            "6/6 [==============================] - 0s 1ms/step - loss: 0.7543 - lr: 0.0010\n",
            "Epoch 144/200\n",
            "6/6 [==============================] - 0s 1ms/step - loss: 1.1245 - lr: 0.0010\n",
            "Epoch 145/200\n",
            "6/6 [==============================] - 0s 1ms/step - loss: 0.8259 - lr: 0.0010\n",
            "Epoch 146/200\n",
            "6/6 [==============================] - 0s 1ms/step - loss: 1.0250 - lr: 0.0010\n",
            "Epoch 147/200\n",
            "6/6 [==============================] - 0s 1ms/step - loss: 0.8770 - lr: 0.0010\n",
            "Epoch 148/200\n",
            "6/6 [==============================] - 0s 1ms/step - loss: 0.9418 - lr: 0.0010\n",
            "Epoch 149/200\n",
            "6/6 [==============================] - 0s 1ms/step - loss: 0.9732 - lr: 0.0010\n",
            "Epoch 150/200\n",
            "6/6 [==============================] - 0s 1ms/step - loss: 0.8551 - lr: 0.0010\n",
            "Epoch 151/200\n",
            "6/6 [==============================] - 0s 1ms/step - loss: 0.8936 - lr: 0.0010\n",
            "Epoch 152/200\n",
            "6/6 [==============================] - 0s 1ms/step - loss: 0.8745 - lr: 0.0010\n",
            "Epoch 153/200\n",
            "6/6 [==============================] - 0s 1ms/step - loss: 0.8644 - lr: 0.0010\n",
            "Epoch 154/200\n",
            "6/6 [==============================] - 0s 1ms/step - loss: 0.9045 - lr: 0.0010\n",
            "Epoch 155/200\n",
            "6/6 [==============================] - 0s 1ms/step - loss: 1.0965 - lr: 0.0010\n",
            "Epoch 156/200\n",
            "6/6 [==============================] - 0s 1ms/step - loss: 0.9613 - lr: 0.0010\n",
            "Epoch 157/200\n",
            "6/6 [==============================] - 0s 1ms/step - loss: 0.8739 - lr: 0.0010\n",
            "Epoch 158/200\n",
            "6/6 [==============================] - 0s 2ms/step - loss: 1.0375 - lr: 0.0010\n",
            "Epoch 159/200\n",
            "6/6 [==============================] - 0s 2ms/step - loss: 0.8529 - lr: 0.0010\n",
            "Epoch 160/200\n",
            "6/6 [==============================] - 0s 1ms/step - loss: 0.8105 - lr: 0.0010\n",
            "Epoch 161/200\n",
            "6/6 [==============================] - 0s 2ms/step - loss: 0.7931 - lr: 0.0010\n",
            "Epoch 162/200\n",
            "6/6 [==============================] - 0s 1ms/step - loss: 0.8257 - lr: 0.0010\n",
            "Epoch 163/200\n",
            "6/6 [==============================] - 0s 1ms/step - loss: 0.9009 - lr: 0.0010\n",
            "Epoch 164/200\n",
            "6/6 [==============================] - 0s 1ms/step - loss: 0.7904 - lr: 0.0010\n",
            "Epoch 165/200\n",
            "6/6 [==============================] - 0s 1ms/step - loss: 0.9084 - lr: 0.0010\n",
            "Epoch 166/200\n",
            "6/6 [==============================] - 0s 1ms/step - loss: 0.8699 - lr: 0.0010\n",
            "Epoch 167/200\n",
            "6/6 [==============================] - 0s 1ms/step - loss: 2.2419 - lr: 0.0010\n",
            "Epoch 168/200\n",
            "6/6 [==============================] - 0s 1ms/step - loss: 0.7341 - lr: 0.0010\n",
            "Epoch 169/200\n",
            "6/6 [==============================] - 0s 1ms/step - loss: 0.9727 - lr: 0.0010\n",
            "Epoch 170/200\n",
            "6/6 [==============================] - 0s 1ms/step - loss: 0.8813 - lr: 0.0010\n",
            "Epoch 171/200\n",
            "6/6 [==============================] - 0s 1ms/step - loss: 0.7933 - lr: 0.0010\n",
            "Epoch 172/200\n",
            "6/6 [==============================] - 0s 1ms/step - loss: 1.0422 - lr: 0.0010\n",
            "Epoch 173/200\n",
            "6/6 [==============================] - 0s 1ms/step - loss: 1.1278 - lr: 0.0010\n",
            "Epoch 174/200\n",
            "6/6 [==============================] - 0s 1ms/step - loss: 0.7620 - lr: 0.0010\n",
            "Epoch 175/200\n",
            "6/6 [==============================] - 0s 1ms/step - loss: 0.8525 - lr: 0.0010\n",
            "Epoch 176/200\n",
            "6/6 [==============================] - 0s 2ms/step - loss: 0.7937 - lr: 0.0010\n",
            "Epoch 177/200\n",
            "6/6 [==============================] - 0s 2ms/step - loss: 1.5079 - lr: 0.0010\n",
            "Epoch 178/200\n",
            "6/6 [==============================] - 0s 2ms/step - loss: 1.0694 - lr: 0.0010\n",
            "Epoch 179/200\n",
            "6/6 [==============================] - 0s 1ms/step - loss: 0.8244 - lr: 0.0010\n",
            "Epoch 180/200\n",
            "6/6 [==============================] - 0s 2ms/step - loss: 1.0004 - lr: 0.0010\n",
            "Epoch 181/200\n",
            "6/6 [==============================] - 0s 2ms/step - loss: 1.0535 - lr: 0.0010\n",
            "Epoch 182/200\n",
            "6/6 [==============================] - 0s 1ms/step - loss: 0.8895 - lr: 0.0010\n",
            "Epoch 183/200\n",
            "6/6 [==============================] - 0s 1ms/step - loss: 0.8535 - lr: 0.0010\n",
            "Epoch 184/200\n",
            "6/6 [==============================] - 0s 1ms/step - loss: 0.8465 - lr: 0.0010\n",
            "Epoch 185/200\n",
            "6/6 [==============================] - 0s 1ms/step - loss: 0.9606 - lr: 0.0010\n",
            "Epoch 186/200\n",
            "6/6 [==============================] - 0s 1ms/step - loss: 2.8362 - lr: 0.0010\n",
            "Epoch 187/200\n",
            "6/6 [==============================] - 0s 1ms/step - loss: 1.1708 - lr: 0.0010\n",
            "Epoch 188/200\n",
            "6/6 [==============================] - 0s 1ms/step - loss: 0.8951 - lr: 0.0010\n",
            "Epoch 189/200\n",
            "6/6 [==============================] - 0s 1ms/step - loss: 0.8879 - lr: 0.0010\n",
            "Epoch 190/200\n",
            "6/6 [==============================] - 0s 1ms/step - loss: 1.4527 - lr: 0.0010\n",
            "Epoch 191/200\n",
            "6/6 [==============================] - 0s 1ms/step - loss: 0.9588 - lr: 0.0010\n",
            "Epoch 192/200\n",
            "6/6 [==============================] - 0s 1ms/step - loss: 0.9685 - lr: 0.0010\n",
            "Epoch 193/200\n",
            "6/6 [==============================] - 0s 1ms/step - loss: 0.8452 - lr: 0.0010\n",
            "Epoch 194/200\n",
            "6/6 [==============================] - 0s 1ms/step - loss: 0.8107 - lr: 0.0010\n",
            "Epoch 195/200\n",
            "6/6 [==============================] - 0s 1ms/step - loss: 1.1156 - lr: 0.0010\n",
            "Epoch 196/200\n",
            "6/6 [==============================] - 0s 2ms/step - loss: 1.0147 - lr: 0.0010\n",
            "Epoch 197/200\n",
            "6/6 [==============================] - 0s 1ms/step - loss: 1.4197 - lr: 0.0010\n",
            "Epoch 198/200\n",
            "6/6 [==============================] - 0s 1ms/step - loss: 1.7480 - lr: 0.0010\n",
            "Epoch 199/200\n",
            "6/6 [==============================] - 0s 2ms/step - loss: 1.0344 - lr: 0.0010\n",
            "Epoch 200/200\n",
            "6/6 [==============================] - 0s 2ms/step - loss: 0.8468 - lr: 0.0010\n"
          ],
          "name": "stdout"
        }
      ]
    },
    {
      "cell_type": "code",
      "metadata": {
        "id": "sbJ2Y7b1mdKi",
        "colab_type": "code",
        "outputId": "a28c648c-454a-43ac-9eb2-46cb31a77005",
        "colab": {
          "base_uri": "https://localhost:8080/",
          "height": 282
        }
      },
      "source": [
        "plt.plot(r.history['loss'],label='loss')"
      ],
      "execution_count": 0,
      "outputs": [
        {
          "output_type": "execute_result",
          "data": {
            "text/plain": [
              "[<matplotlib.lines.Line2D at 0x7f4dc62e4668>]"
            ]
          },
          "metadata": {
            "tags": []
          },
          "execution_count": 54
        },
        {
          "output_type": "display_data",
          "data": {
            "image/png": "[encoded data removed]",
            "text/plain": [
              "<Figure size 432x288 with 1 Axes>"
            ]
          },
          "metadata": {
            "tags": [],
            "needs_background": "light"
          }
        }
      ]
    },
    {
      "cell_type": "code",
      "metadata": {
        "id": "T0CUv-6rm4_J",
        "colab_type": "code",
        "outputId": "85175a69-227d-4b44-fd5a-500d63a7be22",
        "colab": {
          "base_uri": "https://localhost:8080/",
          "height": 51
        }
      },
      "source": [
        "print(model.layers)\n",
        "print(model.layers[0].get_weights())"
      ],
      "execution_count": 0,
      "outputs": [
        {
          "output_type": "stream",
          "text": [
            "[<tensorflow.python.keras.layers.core.Dense object at 0x7f4dc643ab70>]\n",
            "[array([[0.3539275]], dtype=float32), array([17.733799], dtype=float32)]\n"
          ],
          "name": "stdout"
        }
      ]
    },
    {
      "cell_type": "code",
      "metadata": {
        "id": "TH-N6OJInKG_",
        "colab_type": "code",
        "colab": {}
      },
      "source": [
        "a = model.layers[0].get_weights()[0][0,0]"
      ],
      "execution_count": 0,
      "outputs": []
    },
    {
      "cell_type": "code",
      "metadata": {
        "id": "789An-dxxDVj",
        "colab_type": "code",
        "outputId": "aca8771a-0eac-4491-de10-ae78756da064",
        "colab": {
          "base_uri": "https://localhost:8080/",
          "height": 34
        }
      },
      "source": [
        "print('Time to Double:',np.log(2)/a)\n"
      ],
      "execution_count": 0,
      "outputs": [
        {
          "output_type": "stream",
          "text": [
            "Time to Double: 1.958444014896333\n"
          ],
          "name": "stdout"
        }
      ]
    },
    {
      "cell_type": "code",
      "metadata": {
        "id": "VAU3cNKhxLYa",
        "colab_type": "code",
        "outputId": "6a044b2d-af7b-45cf-c339-ff7136807540",
        "colab": {
          "base_uri": "https://localhost:8080/",
          "height": 51
        }
      },
      "source": [
        "#Analytical Solution\n",
        "\n",
        "x= np.array(x).flatten()\n",
        "y= np.array(y)\n",
        "denominator= x.dot(x)- x.mean() * x.sum()\n",
        "a=( x.dot(y) - y.mean() *x.sum() )/denominator\n",
        "b=( y.mean() * x.dot(x) - x.mean() * x.dot(y) )/denominator\n",
        "print(a,b)\n",
        "print(\"time to double:\",np.log(2)/a)"
      ],
      "execution_count": 0,
      "outputs": [
        {
          "output_type": "stream",
          "text": [
            "0.341682487387313 17.764939393631764\n",
            "time to double: 2.0286295205239204\n"
          ],
          "name": "stdout"
        }
      ]
    },
    {
      "cell_type": "code",
      "metadata": {
        "id": "zbkyXczxzKAp",
        "colab_type": "code",
        "outputId": "6eb74c37-15eb-4ca3-ec0b-00fc38ec8b28",
        "colab": {
          "base_uri": "https://localhost:8080/",
          "height": 282
        }
      },
      "source": [
        "Yhat= model.predict(x).flatten()\n",
        "plt.scatter(x,y)\n",
        "plt.plot(x,Yhat)"
      ],
      "execution_count": 0,
      "outputs": [
        {
          "output_type": "execute_result",
          "data": {
            "text/plain": [
              "[<matplotlib.lines.Line2D at 0x7f4dc63ef198>]"
            ]
          },
          "metadata": {
            "tags": []
          },
          "execution_count": 59
        },
        {
          "output_type": "display_data",
          "data": {
            "image/png": "[encoded data removed]",
            "text/plain": [
              "<Figure size 432x288 with 1 Axes>"
            ]
          },
          "metadata": {
            "tags": [],
            "needs_background": "light"
          }
        }
      ]
    },
    {
      "cell_type": "code",
      "metadata": {
        "id": "WAFckarWGdKt",
        "colab_type": "code",
        "outputId": "2a2316a0-1d94-4246-d34a-9844293a14ef",
        "colab": {
          "base_uri": "https://localhost:8080/",
          "height": 34
        }
      },
      "source": [
        "#Manual Calculation\n",
        "\n",
        "#get the Weights\n",
        "w,b = model.layers[0].get_weights()\n",
        "#Reshaping X as we flattend earlier\n",
        "x=  x.reshape(-1,1)\n",
        "#dont use == for floating points\n",
        "Yhat2= (x.dot(w)+b).flatten()\n",
        "np.allclose(Yhat,Yhat2)"
      ],
      "execution_count": 0,
      "outputs": [
        {
          "output_type": "execute_result",
          "data": {
            "text/plain": [
              "True"
            ]
          },
          "metadata": {
            "tags": []
          },
          "execution_count": 60
        }
      ]
    }
  ]
}